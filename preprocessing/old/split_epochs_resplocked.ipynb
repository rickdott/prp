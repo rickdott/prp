{
 "cells": [
  {
   "cell_type": "code",
   "execution_count": 34,
   "metadata": {},
   "outputs": [],
   "source": [
    "import mne\n",
    "import os\n",
    "import autoreject as aj\n",
    "import numpy as np\n",
    "import pandas as pd"
   ]
  },
  {
   "cell_type": "code",
   "execution_count": 35,
   "metadata": {},
   "outputs": [
    {
     "name": "stdout",
     "output_type": "stream",
     "text": [
      "['VP10', 'VP11', 'VP12', 'VP13', 'VP14', 'VP15', 'VP16', 'VP17', 'VP18', 'VP19', 'VP1', 'VP20', 'VP21', 'VP22', 'VP23', 'VP24', 'VP2', 'VP3', 'VP5', 'VP6', 'VP7', 'VP8', 'VP9']\n"
     ]
    }
   ],
   "source": [
    "# Declaring the general path\n",
    "path = os.path.join('C:/Users/annad/Documents/Thesis/Data/') \n",
    "subj_names = []\n",
    "\n",
    "# Extracting subject name based on the file name\n",
    "for x in os.listdir(path+'Post ICA/'):\n",
    "    if 'raw.fif' in x:\n",
    "        subj_names.append(x.split('_')[2])\n",
    "\n",
    "print(subj_names)"
   ]
  },
  {
   "cell_type": "code",
   "execution_count": 36,
   "metadata": {},
   "outputs": [],
   "source": [
    "# Merging the same events to a single sample number\n",
    "def merge_events(events):\n",
    "    events = mne.merge_events(events, [11,12,20,21,22,23,31,32], 11, replace_events=True) # stimulus/t1\n",
    "    events = mne.merge_events(events, [64,65,66,67,68,128,129,130,131,132,133], 64, replace_events=True) # stimulus/t2\n",
    "    events = mne.merge_events(events, [1,2,3], 1, replace_events=True) # response/t1\n",
    "    events = mne.merge_events(events, [4,5], 4, replace_events=True) # response/t2\n",
    "    events = mne.merge_events(events, [6,7], 6, replace_events=True) # block\n",
    "\n",
    "    return events"
   ]
  },
  {
   "cell_type": "code",
   "execution_count": 37,
   "metadata": {},
   "outputs": [],
   "source": [
    "# Decide if trial has a short or long SOA based on time difference of stimulus onsets\n",
    "def find_condition(events):\n",
    "    new_events = []\n",
    "    existing_event_onsets_set1 = np.concatenate([events[events[:, 2] == 11, 0]]) # stimulus/t1\n",
    "    existing_event_onsets_set2 = np.concatenate([events[events[:, 2] == 64, 0]]) # stimulus/t2\n",
    "    \n",
    "    for idx, x in enumerate(existing_event_onsets_set1):     \n",
    "        # The time difference between the two stimuli is computed by finding for every stim1 the closest positive difference with all stim2\n",
    "        diff = existing_event_onsets_set2 - x\n",
    "        valid_indices = np.where(diff > 0)\n",
    "        closest_index = np.argmin(diff[valid_indices])\n",
    "\n",
    "        # Prevents error if there are more stimulus 1 events than stimulus 2 events\n",
    "        if idx == len(existing_event_onsets_set2): break\n",
    "        \n",
    "        if diff[valid_indices][closest_index] > 600 and diff[valid_indices][closest_index] < 615: # to allow for some variation in the samples\n",
    "            new_events.append([x, 0, 256])  # long delay\n",
    "        elif diff[valid_indices][closest_index] > 140 and diff[valid_indices][closest_index] < 151:\n",
    "            new_events.append([x, 0, 512])  # short delay\n",
    "        else:\n",
    "            new_events.append([x, 0, 1024])  # exclude\n",
    "    return new_events"
   ]
  },
  {
   "cell_type": "code",
   "execution_count": 38,
   "metadata": {},
   "outputs": [],
   "source": [
    "def get_events(raw, tmin, tmax):\n",
    "    stimulus_id = {'stimulus/t1': 11, 'stimulus/t2': 64} # Stimulus trigger\n",
    "    condition_id = {\"condition/short\": 512, \"condition/long\": 256} # Condition trigger\n",
    "    response_id = {'response/t2': 4, 'response/t1': 1} # Response triggers\n",
    "    event_id = condition_id | stimulus_id | response_id # All retained events\n",
    "\n",
    "    events = mne.find_events(raw, shortest_event=1)\n",
    "    events = merge_events(events)\n",
    "\n",
    "    # Identify new events across trigger sets and consider only the two nearest events\n",
    "    new_events = find_condition(events)\n",
    "    new_events = np.array(new_events)\n",
    "    events_temp = np.concatenate((events, new_events))\n",
    "\n",
    "    # Get metadata and events\n",
    "    metadata, events, event_id = mne.epochs.make_metadata(\n",
    "        events=events_temp, event_id=event_id, tmin=tmin, tmax=tmax,\n",
    "        sfreq=raw.info[\"sfreq\"], row_events=list(stimulus_id.keys()), keep_first=[\"condition\"])\n",
    "    \n",
    "    # Initialize trial index list and trial counter\n",
    "    trial_indices = []\n",
    "    trial_index = 0\n",
    "\n",
    "    s1_indices = []\n",
    "    s2_indices = []\n",
    "\n",
    "    # Iterate through events and assign trial indices\n",
    "    i = 0\n",
    "    while i < len(events):\n",
    "        if i < len(events) - 1 and ((events[i][2] == 11 and events[i + 1][2] == 64) or (events[i][2] == 64 and events[i + 1][2] == 11)):\n",
    "            # Valid pair (11 -> 64 or 64 -> 11)\n",
    "            trial_indices.append(trial_index)  # First event of the pair\n",
    "            trial_indices.append(trial_index)  # Second event of the pair\n",
    "            trial_index += 1  # Increment trial index for the next pair\n",
    "            i += 2  # Move past the pair\n",
    "        else:\n",
    "            # Event doesn't form a valid pair, start a new trial for the next event\n",
    "            trial_indices.append(trial_index)  # This event gets its own trial\n",
    "            trial_index += 1  # Increment trial index for the next event\n",
    "            i += 1  # Move to the next event\n",
    "    \n",
    "    metadata['trial_index'] = trial_indices\n",
    "\n",
    "    for idx, e in enumerate(events):\n",
    "        if e[2] == 11:\n",
    "            s1_indices.append(idx)\n",
    "        elif e[2] == 64:\n",
    "            s2_indices.append(idx)\n",
    "\n",
    "    return events, metadata, s1_indices, s2_indices"
   ]
  },
  {
   "cell_type": "code",
   "execution_count": 39,
   "metadata": {},
   "outputs": [],
   "source": [
    "def get_events_2(raw, tmin, tmax):\n",
    "    stimulus_id = {'stimulus/t1': 11, 'stimulus/t2': 64} # Stimulus trigger\n",
    "    condition_id = {\"condition/short\": 512, \"condition/long\": 256} # Condition trigger\n",
    "    response_id = {'response/t2': 4} # Response triggers\n",
    "    event_id = condition_id | stimulus_id | response_id # All retained events\n",
    "\n",
    "    events = mne.find_events(raw, shortest_event=1)\n",
    "    events = merge_events(events)\n",
    "\n",
    "    # Identify new events across trigger sets and consider only the two nearest events\n",
    "    new_events = find_condition(events)\n",
    "    new_events = np.array(new_events)\n",
    "    events_temp = np.concatenate((events, new_events))\n",
    "\n",
    "    # Get metadata and events\n",
    "    metadata, events, event_id = mne.epochs.make_metadata(\n",
    "        events=events_temp, event_id=event_id, tmin=tmin, tmax=tmax,\n",
    "        sfreq=raw.info[\"sfreq\"], row_events=list(response_id.keys()), keep_first=[\"condition\"])\n",
    "    \n",
    "    s1_indices = []\n",
    "    s2_indices = []\n",
    "    for idx, e in enumerate(events):\n",
    "        if e[2] != 11:\n",
    "            continue\n",
    "\n",
    "        if events[idx+1][2] == 64:\n",
    "            s1_indices.append(idx)\n",
    "            s2_indices.append(idx+1)\n",
    "    \n",
    "    return metadata, events, event_id, s1_indices, s2_indices"
   ]
  },
  {
   "cell_type": "code",
   "execution_count": 40,
   "metadata": {},
   "outputs": [],
   "source": [
    "def create_epochs_t1(tmin, tmax, raw):\n",
    "    events, metadata, s1_indices, _ = get_events(raw, tmin, tmax)\n",
    "    metadata = metadata.iloc[s1_indices]\n",
    "    # events = events[s1_indices]\n",
    "    events = [events[i] for i in s1_indices]\n",
    "    \n",
    "    keep_cols = ['response/t1', 'first_condition', 'trial_index']\n",
    "    metadata = metadata[keep_cols]\n",
    "    metadata.reset_index(drop=True, inplace=True) # This allows to preserve the trial number after the rejections performed by the mne.Epochs function\n",
    "    metadata.columns = ['rt', 'condition', 'trial_index'] # More convenient names\n",
    "\n",
    "    event_id = {'stimulus/t1': 11} # S1 will be the onset of the epochs\n",
    "\n",
    "    # Create epochs\n",
    "    epochs = mne.Epochs(raw, events, event_id, tmin, tmax, proj=False,\n",
    "                baseline=(None, 0), preload=True, \n",
    "                verbose=True, detrend=1, on_missing = 'warn', event_repeated='drop',\n",
    "                metadata=metadata, reject_by_annotation=True, reject=None)\n",
    "    \n",
    "    return epochs, events"
   ]
  },
  {
   "cell_type": "code",
   "execution_count": 41,
   "metadata": {},
   "outputs": [],
   "source": [
    "def create_epochs_t2(tmin, tmax, raw):\n",
    "    events, metadata, s1_indices, s2_indices = get_events(raw, tmin, tmax)\n",
    "    metadata_2 = metadata.iloc[s1_indices]\n",
    "    metadata = metadata.iloc[s2_indices]\n",
    "    events = [events[i] for i in s2_indices]\n",
    "    \n",
    "    # Move up RTs of S2 based on short/long SOA because they are originally based on S1\n",
    "    metadata_2['response/t2'] = np.where(metadata_2['first_condition']=='short', metadata_2['response/t2']-0.3, metadata_2['response/t2']-1.2)\n",
    "    metadata['response/t2'] = metadata['response/t2'] - 0.024\n",
    "    metadata.reset_index(drop=True, inplace=True)\n",
    "    metadata_2.reset_index(drop=True, inplace=True)\n",
    "\n",
    "    # Create a mapping from trial_index to first_condition from metadata_2 and update first_condition column in metadata only where trial_index matches\n",
    "    update_map = metadata_2.set_index('trial_index')['first_condition']\n",
    "    metadata['first_condition'] = metadata['trial_index'].map(update_map).fillna(metadata['first_condition'])\n",
    "\n",
    "    update_map = metadata_2.set_index('trial_index')['response/t2']\n",
    "    metadata['response/t2'] = metadata['trial_index'].map(update_map).fillna(metadata['response/t2'])\n",
    "    \n",
    "    keep_cols = ['response/t2', 'first_condition', 'trial_index']\n",
    "    metadata = metadata[keep_cols]\n",
    "    metadata.reset_index(drop=True, inplace=True) # This allows to preserve the trial number after the rejections performed by the mne.Epochs function\n",
    "    metadata.columns = ['rt', 'condition', 'trial_index'] # More convenient names\n",
    "\n",
    "    event_id = {'stimulus/t2': 64} # S2 will be the onset of the epochs\n",
    "\n",
    "    # Create epochs\n",
    "    epochs = mne.Epochs(raw, events, event_id, tmin, tmax, proj=False,\n",
    "                baseline=(None, 0), preload=True, \n",
    "                verbose=True, detrend=1, on_missing = 'warn', event_repeated='drop',\n",
    "                metadata=metadata, reject_by_annotation=True, reject=None)\n",
    "    \n",
    "    return epochs, events"
   ]
  },
  {
   "cell_type": "code",
   "execution_count": 42,
   "metadata": {},
   "outputs": [],
   "source": [
    "def create_epochs_trial(tmin, tmax, raw):\n",
    "    events, metadata, s1_indices, _ = get_events(raw, tmin, tmax)\n",
    "    metadata = metadata.iloc[s1_indices]\n",
    "    # events = events[s1_indices]\n",
    "    events = [events[i] for i in s1_indices]\n",
    "    \n",
    "    keep_cols = ['response/t2', 'first_condition', 'trial_index']\n",
    "    metadata = metadata[keep_cols]\n",
    "    metadata.reset_index(drop=True, inplace=True) # This allows to preserve the trial number after the rejections performed by the mne.Epochs function\n",
    "    metadata.columns = ['rt', 'condition', 'trial_index'] # More convenient names\n",
    "\n",
    "    event_id = {'stimulus/t1': 11} # S1 will be the onset of the epochs\n",
    "\n",
    "    # Create epochs\n",
    "    epochs = mne.Epochs(raw, events, event_id, tmin, tmax, proj=False,\n",
    "                baseline=(None, 0), preload=True, \n",
    "                verbose=True, detrend=1, on_missing = 'warn', event_repeated='drop',\n",
    "                metadata=metadata, reject_by_annotation=True, reject=None)\n",
    "    \n",
    "    return epochs, events"
   ]
  },
  {
   "cell_type": "code",
   "execution_count": 43,
   "metadata": {},
   "outputs": [],
   "source": [
    "def autoreject(epochs, raw):\n",
    "    picks = mne.pick_types(raw.info, eeg=False, stim=False, eog=False, include=['C3', 'C4', 'POz', 'FCz'], exclude=[])\n",
    "    ar = aj.AutoReject()\n",
    "    \n",
    "    # Fit on the first 20 epochs to save time\n",
    "    ar.fit(epochs[0:20])\n",
    "    epochs_ar, reject_log = ar.transform(epochs, return_log=True)\n",
    "\n",
    "    return epochs_ar"
   ]
  },
  {
   "cell_type": "code",
   "execution_count": 44,
   "metadata": {},
   "outputs": [
    {
     "name": "stdout",
     "output_type": "stream",
     "text": [
      "Opening raw data file C:/Users/annad/Documents/Thesis/Data/Post ICA/post_ica_VP10_raw.fif...\n",
      "    Range : 0 ... 2022399 =      0.000 ...  3949.998 secs\n",
      "Ready.\n",
      "Reading 0 ... 2022399  =      0.000 ...  3949.998 secs...\n",
      "Trigger channel Status has a non-zero initial value of {initial_value} (consider using initial_event=True to detect this event)\n",
      "Removing orphaned offset at the beginning of the file.\n",
      "6582 events found on stim channel Status\n",
      "Event IDs: [  1   2   3   4   5   6  11  12  16  21  22  31  32  64  66  67 128 129\n",
      " 130]\n",
      "Adding metadata with 3 columns\n",
      "1309 matching events found\n",
      "Setting baseline interval to [-0.25, 0.0] s\n",
      "Applying baseline correction (mode: mean)\n",
      "Using data from preloaded Raw for 1309 events and 1153 original time points ...\n",
      "12 bad epochs dropped\n",
      "Running autoreject on ch_type=eeg\n"
     ]
    },
    {
     "data": {
      "application/vnd.jupyter.widget-view+json": {
       "model_id": "6c325b986c1e44a6a42caf126ff68622",
       "version_major": 2,
       "version_minor": 0
      },
      "text/plain": [
       "  0%|          | Creating augmented epochs : 0/64 [00:00<?,       ?it/s]"
      ]
     },
     "metadata": {},
     "output_type": "display_data"
    },
    {
     "data": {
      "application/vnd.jupyter.widget-view+json": {
       "model_id": "e889b84bd1f94b41a4b917b39bac0555",
       "version_major": 2,
       "version_minor": 0
      },
      "text/plain": [
       "  0%|          | Computing thresholds ... : 0/64 [00:00<?,       ?it/s]"
      ]
     },
     "metadata": {},
     "output_type": "display_data"
    },
    {
     "data": {
      "application/vnd.jupyter.widget-view+json": {
       "model_id": "654b1e3f2e1b48bc8457cd7847bd9c69",
       "version_major": 2,
       "version_minor": 0
      },
      "text/plain": [
       "  0%|          | Repairing epochs : 0/20 [00:00<?,       ?it/s]"
      ]
     },
     "metadata": {},
     "output_type": "display_data"
    },
    {
     "data": {
      "application/vnd.jupyter.widget-view+json": {
       "model_id": "c78133f1aedf4fa89cb1c0abf717602c",
       "version_major": 2,
       "version_minor": 0
      },
      "text/plain": [
       "  0%|          | n_interp : 0/3 [00:00<?,       ?it/s]"
      ]
     },
     "metadata": {},
     "output_type": "display_data"
    },
    {
     "data": {
      "application/vnd.jupyter.widget-view+json": {
       "model_id": "ae03f379679845248b1190609afbc1a7",
       "version_major": 2,
       "version_minor": 0
      },
      "text/plain": [
       "  0%|          | Repairing epochs : 0/20 [00:00<?,       ?it/s]"
      ]
     },
     "metadata": {},
     "output_type": "display_data"
    },
    {
     "data": {
      "application/vnd.jupyter.widget-view+json": {
       "model_id": "5b59e87334d047518213e56a89841a18",
       "version_major": 2,
       "version_minor": 0
      },
      "text/plain": [
       "  0%|          | Fold : 0/10 [00:00<?,       ?it/s]"
      ]
     },
     "metadata": {},
     "output_type": "display_data"
    },
    {
     "data": {
      "application/vnd.jupyter.widget-view+json": {
       "model_id": "56515ed007da47ee874d3eae42704e71",
       "version_major": 2,
       "version_minor": 0
      },
      "text/plain": [
       "  0%|          | Repairing epochs : 0/20 [00:00<?,       ?it/s]"
      ]
     },
     "metadata": {},
     "output_type": "display_data"
    },
    {
     "data": {
      "application/vnd.jupyter.widget-view+json": {
       "model_id": "f3b347389e2846dca64ae43755f90093",
       "version_major": 2,
       "version_minor": 0
      },
      "text/plain": [
       "  0%|          | Fold : 0/10 [00:00<?,       ?it/s]"
      ]
     },
     "metadata": {},
     "output_type": "display_data"
    },
    {
     "data": {
      "application/vnd.jupyter.widget-view+json": {
       "model_id": "d092df43ee724f5bbea91bf421444075",
       "version_major": 2,
       "version_minor": 0
      },
      "text/plain": [
       "  0%|          | Repairing epochs : 0/20 [00:00<?,       ?it/s]"
      ]
     },
     "metadata": {},
     "output_type": "display_data"
    },
    {
     "data": {
      "application/vnd.jupyter.widget-view+json": {
       "model_id": "038c0fd41cd342b7a6922aaaeb208c44",
       "version_major": 2,
       "version_minor": 0
      },
      "text/plain": [
       "  0%|          | Fold : 0/10 [00:00<?,       ?it/s]"
      ]
     },
     "metadata": {},
     "output_type": "display_data"
    },
    {
     "name": "stdout",
     "output_type": "stream",
     "text": [
      "\n",
      "\n",
      "\n",
      "\n",
      "Estimated consensus=0.60 and n_interpolate=32\n"
     ]
    },
    {
     "data": {
      "application/vnd.jupyter.widget-view+json": {
       "model_id": "e520253381bd49cf813e63a688c84028",
       "version_major": 2,
       "version_minor": 0
      },
      "text/plain": [
       "  0%|          | Repairing epochs : 0/1297 [00:00<?,       ?it/s]"
      ]
     },
     "metadata": {},
     "output_type": "display_data"
    },
    {
     "name": "stdout",
     "output_type": "stream",
     "text": [
      "Dropped 40 epochs: 14, 67, 83, 279, 334, 337, 358, 370, 414, 423, 455, 499, 548, 549, 582, 596, 620, 622, 623, 640, 746, 748, 758, 761, 810, 817, 852, 858, 866, 871, 919, 951, 952, 1022, 1086, 1088, 1093, 1101, 1155, 1273\n",
      "Overwriting existing file.\n",
      "Overwriting existing file.\n"
     ]
    },
    {
     "name": "stderr",
     "output_type": "stream",
     "text": [
      "C:\\Users\\annad\\AppData\\Local\\Temp\\ipykernel_172744\\2105183387.py:20: RuntimeWarning: This filename (C:/Users/annad/Documents/Thesis/Data/Stimlocked_fixed_index/VP10_epo_t2.fif) does not conform to MNE naming conventions. All epochs files should end with -epo.fif, -epo.fif.gz, _epo.fif or _epo.fif.gz\n",
      "  epochs.save(path+'Stimlocked_fixed_index/%s_epo_t2.fif'%subj, overwrite=True)\n"
     ]
    },
    {
     "name": "stdout",
     "output_type": "stream",
     "text": [
      "Opening raw data file C:/Users/annad/Documents/Thesis/Data/Post ICA/post_ica_VP11_raw.fif...\n",
      "    Range : 0 ... 2158079 =      0.000 ...  4214.998 secs\n",
      "Ready.\n",
      "Reading 0 ... 2158079  =      0.000 ...  4214.998 secs...\n",
      "Trigger channel Status has a non-zero initial value of {initial_value} (consider using initial_event=True to detect this event)\n",
      "Removing orphaned offset at the beginning of the file.\n",
      "6497 events found on stim channel Status\n",
      "Event IDs: [  1   2   3   4   5   6  11  12  16  21  22  31  32  64  65  66  67  68\n",
      " 128 129 130 131]\n",
      "Adding metadata with 3 columns\n",
      "1268 matching events found\n",
      "Setting baseline interval to [-0.25, 0.0] s\n",
      "Applying baseline correction (mode: mean)\n",
      "Using data from preloaded Raw for 1268 events and 1153 original time points ...\n",
      "11 bad epochs dropped\n",
      "Running autoreject on ch_type=eeg\n"
     ]
    },
    {
     "data": {
      "application/vnd.jupyter.widget-view+json": {
       "model_id": "dc5917cd28754e328bf05cca14e83e70",
       "version_major": 2,
       "version_minor": 0
      },
      "text/plain": [
       "  0%|          | Creating augmented epochs : 0/64 [00:00<?,       ?it/s]"
      ]
     },
     "metadata": {},
     "output_type": "display_data"
    },
    {
     "data": {
      "application/vnd.jupyter.widget-view+json": {
       "model_id": "bc81b7c06da74e93934261750b947e7d",
       "version_major": 2,
       "version_minor": 0
      },
      "text/plain": [
       "  0%|          | Computing thresholds ... : 0/64 [00:00<?,       ?it/s]"
      ]
     },
     "metadata": {},
     "output_type": "display_data"
    },
    {
     "data": {
      "application/vnd.jupyter.widget-view+json": {
       "model_id": "9afca476f50a456d96bbfe800e9b4dbe",
       "version_major": 2,
       "version_minor": 0
      },
      "text/plain": [
       "  0%|          | Repairing epochs : 0/20 [00:00<?,       ?it/s]"
      ]
     },
     "metadata": {},
     "output_type": "display_data"
    },
    {
     "data": {
      "application/vnd.jupyter.widget-view+json": {
       "model_id": "eeb4458882664923873c03334da6c7de",
       "version_major": 2,
       "version_minor": 0
      },
      "text/plain": [
       "  0%|          | n_interp : 0/3 [00:00<?,       ?it/s]"
      ]
     },
     "metadata": {},
     "output_type": "display_data"
    },
    {
     "data": {
      "application/vnd.jupyter.widget-view+json": {
       "model_id": "1a0dc08502c842e3907a9d259aff12bd",
       "version_major": 2,
       "version_minor": 0
      },
      "text/plain": [
       "  0%|          | Repairing epochs : 0/20 [00:00<?,       ?it/s]"
      ]
     },
     "metadata": {},
     "output_type": "display_data"
    },
    {
     "data": {
      "application/vnd.jupyter.widget-view+json": {
       "model_id": "ed5a1a33210843a993400dbd5d3a8589",
       "version_major": 2,
       "version_minor": 0
      },
      "text/plain": [
       "  0%|          | Fold : 0/10 [00:00<?,       ?it/s]"
      ]
     },
     "metadata": {},
     "output_type": "display_data"
    },
    {
     "data": {
      "application/vnd.jupyter.widget-view+json": {
       "model_id": "4cccd6aed0224ed9841ad7ed74e52520",
       "version_major": 2,
       "version_minor": 0
      },
      "text/plain": [
       "  0%|          | Repairing epochs : 0/20 [00:00<?,       ?it/s]"
      ]
     },
     "metadata": {},
     "output_type": "display_data"
    },
    {
     "data": {
      "application/vnd.jupyter.widget-view+json": {
       "model_id": "0ab2a2aa88e44372a46f7012a9285609",
       "version_major": 2,
       "version_minor": 0
      },
      "text/plain": [
       "  0%|          | Fold : 0/10 [00:00<?,       ?it/s]"
      ]
     },
     "metadata": {},
     "output_type": "display_data"
    },
    {
     "data": {
      "application/vnd.jupyter.widget-view+json": {
       "model_id": "e6a9bacb89174666986733094c838dfe",
       "version_major": 2,
       "version_minor": 0
      },
      "text/plain": [
       "  0%|          | Repairing epochs : 0/20 [00:00<?,       ?it/s]"
      ]
     },
     "metadata": {},
     "output_type": "display_data"
    },
    {
     "data": {
      "application/vnd.jupyter.widget-view+json": {
       "model_id": "a8cec58b46d54150a454e4fb79d61498",
       "version_major": 2,
       "version_minor": 0
      },
      "text/plain": [
       "  0%|          | Fold : 0/10 [00:00<?,       ?it/s]"
      ]
     },
     "metadata": {},
     "output_type": "display_data"
    },
    {
     "name": "stdout",
     "output_type": "stream",
     "text": [
      "\n",
      "\n",
      "\n",
      "\n",
      "Estimated consensus=0.60 and n_interpolate=4\n"
     ]
    },
    {
     "data": {
      "application/vnd.jupyter.widget-view+json": {
       "model_id": "ccd6f1ddc29145838eb442f4e9b13586",
       "version_major": 2,
       "version_minor": 0
      },
      "text/plain": [
       "  0%|          | Repairing epochs : 0/1257 [00:00<?,       ?it/s]"
      ]
     },
     "metadata": {},
     "output_type": "display_data"
    },
    {
     "name": "stdout",
     "output_type": "stream",
     "text": [
      "Dropped 17 epochs: 238, 313, 392, 555, 556, 581, 606, 653, 686, 699, 810, 811, 1035, 1037, 1088, 1222, 1223\n",
      "Overwriting existing file.\n"
     ]
    },
    {
     "name": "stderr",
     "output_type": "stream",
     "text": [
      "C:\\Users\\annad\\AppData\\Local\\Temp\\ipykernel_172744\\2105183387.py:20: RuntimeWarning: This filename (C:/Users/annad/Documents/Thesis/Data/Stimlocked_fixed_index/VP11_epo_t2.fif) does not conform to MNE naming conventions. All epochs files should end with -epo.fif, -epo.fif.gz, _epo.fif or _epo.fif.gz\n",
      "  epochs.save(path+'Stimlocked_fixed_index/%s_epo_t2.fif'%subj, overwrite=True)\n"
     ]
    },
    {
     "name": "stdout",
     "output_type": "stream",
     "text": [
      "Overwriting existing file.\n",
      "Opening raw data file C:/Users/annad/Documents/Thesis/Data/Post ICA/post_ica_VP12_raw.fif...\n",
      "    Range : 0 ... 2596351 =      0.000 ...  5070.998 secs\n",
      "Ready.\n",
      "Reading 0 ... 2596351  =      0.000 ...  5070.998 secs...\n",
      "Trigger channel Status has a non-zero initial value of {initial_value} (consider using initial_event=True to detect this event)\n",
      "Removing orphaned offset at the beginning of the file.\n",
      "6486 events found on stim channel Status\n",
      "Event IDs: [  1   2   3   4   5   6  11  12  16  21  22  31  32  64  65  66  67  69\n",
      " 128 129 130 131]\n",
      "Adding metadata with 3 columns\n",
      "1296 matching events found\n",
      "Setting baseline interval to [-0.25, 0.0] s\n",
      "Applying baseline correction (mode: mean)\n",
      "Using data from preloaded Raw for 1296 events and 1153 original time points ...\n",
      "8 bad epochs dropped\n",
      "Running autoreject on ch_type=eeg\n"
     ]
    },
    {
     "data": {
      "application/vnd.jupyter.widget-view+json": {
       "model_id": "fad173805ce24401bb723fe467c9e586",
       "version_major": 2,
       "version_minor": 0
      },
      "text/plain": [
       "  0%|          | Creating augmented epochs : 0/64 [00:00<?,       ?it/s]"
      ]
     },
     "metadata": {},
     "output_type": "display_data"
    },
    {
     "data": {
      "application/vnd.jupyter.widget-view+json": {
       "model_id": "59c962c77526409db3639c527b3aaa83",
       "version_major": 2,
       "version_minor": 0
      },
      "text/plain": [
       "  0%|          | Computing thresholds ... : 0/64 [00:00<?,       ?it/s]"
      ]
     },
     "metadata": {},
     "output_type": "display_data"
    },
    {
     "data": {
      "application/vnd.jupyter.widget-view+json": {
       "model_id": "5dad686499b94ed9866928dd39d6cf0a",
       "version_major": 2,
       "version_minor": 0
      },
      "text/plain": [
       "  0%|          | Repairing epochs : 0/20 [00:00<?,       ?it/s]"
      ]
     },
     "metadata": {},
     "output_type": "display_data"
    },
    {
     "data": {
      "application/vnd.jupyter.widget-view+json": {
       "model_id": "53e5d4654369444a888915e05e92c6aa",
       "version_major": 2,
       "version_minor": 0
      },
      "text/plain": [
       "  0%|          | n_interp : 0/3 [00:00<?,       ?it/s]"
      ]
     },
     "metadata": {},
     "output_type": "display_data"
    },
    {
     "data": {
      "application/vnd.jupyter.widget-view+json": {
       "model_id": "1ae2403edacc4c19aa59fb7ad7f0a281",
       "version_major": 2,
       "version_minor": 0
      },
      "text/plain": [
       "  0%|          | Repairing epochs : 0/20 [00:00<?,       ?it/s]"
      ]
     },
     "metadata": {},
     "output_type": "display_data"
    },
    {
     "data": {
      "application/vnd.jupyter.widget-view+json": {
       "model_id": "3371c118d8044a04b7983702b1e0c5da",
       "version_major": 2,
       "version_minor": 0
      },
      "text/plain": [
       "  0%|          | Fold : 0/10 [00:00<?,       ?it/s]"
      ]
     },
     "metadata": {},
     "output_type": "display_data"
    },
    {
     "data": {
      "application/vnd.jupyter.widget-view+json": {
       "model_id": "5b1ab9c2f50244ad96bccabdde441a05",
       "version_major": 2,
       "version_minor": 0
      },
      "text/plain": [
       "  0%|          | Repairing epochs : 0/20 [00:00<?,       ?it/s]"
      ]
     },
     "metadata": {},
     "output_type": "display_data"
    },
    {
     "data": {
      "application/vnd.jupyter.widget-view+json": {
       "model_id": "28f36a2ee14b46e4b05f58b644714649",
       "version_major": 2,
       "version_minor": 0
      },
      "text/plain": [
       "  0%|          | Fold : 0/10 [00:00<?,       ?it/s]"
      ]
     },
     "metadata": {},
     "output_type": "display_data"
    },
    {
     "data": {
      "application/vnd.jupyter.widget-view+json": {
       "model_id": "e6222c33865a453e9e64b5c4ff556e49",
       "version_major": 2,
       "version_minor": 0
      },
      "text/plain": [
       "  0%|          | Repairing epochs : 0/20 [00:00<?,       ?it/s]"
      ]
     },
     "metadata": {},
     "output_type": "display_data"
    },
    {
     "data": {
      "application/vnd.jupyter.widget-view+json": {
       "model_id": "f031177dc71e4355976cb6eeb293d383",
       "version_major": 2,
       "version_minor": 0
      },
      "text/plain": [
       "  0%|          | Fold : 0/10 [00:00<?,       ?it/s]"
      ]
     },
     "metadata": {},
     "output_type": "display_data"
    },
    {
     "name": "stdout",
     "output_type": "stream",
     "text": [
      "\n",
      "\n",
      "\n",
      "\n",
      "Estimated consensus=0.30 and n_interpolate=4\n"
     ]
    },
    {
     "data": {
      "application/vnd.jupyter.widget-view+json": {
       "model_id": "e8830c3d79b345d88971f9a1dedef71a",
       "version_major": 2,
       "version_minor": 0
      },
      "text/plain": [
       "  0%|          | Repairing epochs : 0/1288 [00:00<?,       ?it/s]"
      ]
     },
     "metadata": {},
     "output_type": "display_data"
    },
    {
     "name": "stdout",
     "output_type": "stream",
     "text": [
      "Dropped 502 epochs: 0, 2, 5, 6, 18, 19, 25, 26, 27, 29, 32, 33, 34, 35, 36, 37, 38, 39, 40, 42, 46, 48, 49, 53, 54, 60, 61, 63, 64, 71, 77, 87, 98, 102, 103, 104, 107, 108, 109, 110, 111, 112, 113, 114, 115, 116, 117, 118, 119, 120, 121, 122, 123, 124, 125, 126, 127, 128, 129, 130, 131, 132, 133, 134, 135, 136, 137, 138, 139, 140, 141, 142, 143, 144, 145, 146, 147, 148, 149, 150, 151, 152, 153, 154, 155, 156, 157, 158, 159, 160, 161, 162, 163, 164, 165, 166, 167, 168, 169, 170, 171, 172, 173, 174, 175, 176, 177, 178, 179, 180, 181, 182, 183, 184, 185, 186, 187, 188, 189, 190, 191, 192, 193, 194, 195, 196, 197, 198, 199, 200, 201, 202, 203, 204, 205, 206, 207, 208, 209, 210, 211, 212, 213, 214, 215, 216, 217, 218, 219, 220, 221, 222, 223, 224, 225, 226, 227, 228, 229, 230, 231, 232, 233, 234, 235, 236, 237, 238, 239, 240, 241, 242, 243, 244, 245, 246, 247, 248, 249, 250, 251, 252, 253, 254, 255, 256, 257, 258, 259, 260, 261, 262, 263, 264, 265, 266, 267, 268, 269, 270, 271, 272, 273, 274, 275, 276, 277, 278, 279, 280, 281, 282, 283, 284, 285, 286, 287, 288, 289, 290, 291, 292, 293, 294, 295, 296, 297, 298, 299, 300, 301, 302, 303, 304, 305, 306, 307, 308, 309, 310, 311, 312, 313, 314, 315, 316, 317, 318, 319, 320, 321, 322, 323, 324, 325, 326, 327, 328, 329, 330, 331, 332, 333, 334, 335, 336, 337, 338, 339, 340, 341, 342, 343, 344, 345, 346, 347, 348, 349, 350, 351, 352, 353, 354, 355, 356, 357, 358, 359, 360, 361, 362, 363, 364, 365, 366, 367, 368, 369, 370, 371, 372, 373, 374, 375, 376, 377, 378, 379, 380, 381, 382, 383, 384, 385, 386, 387, 388, 389, 390, 391, 392, 393, 394, 395, 396, 397, 398, 399, 400, 401, 402, 403, 404, 405, 406, 407, 408, 409, 410, 411, 412, 413, 414, 415, 416, 417, 418, 419, 420, 421, 422, 423, 424, 425, 434, 448, 449, 450, 451, 453, 455, 457, 458, 459, 460, 461, 462, 464, 465, 466, 467, 468, 470, 472, 473, 475, 476, 478, 480, 505, 515, 538, 539, 544, 562, 563, 564, 565, 566, 567, 568, 569, 570, 571, 572, 573, 574, 575, 576, 577, 579, 580, 583, 584, 585, 586, 587, 589, 590, 591, 592, 593, 594, 595, 596, 598, 599, 600, 601, 602, 603, 604, 605, 606, 607, 610, 611, 628, 630, 634, 635, 644, 645, 646, 648, 649, 650, 651, 652, 653, 654, 656, 658, 660, 663, 666, 670, 702, 703, 704, 705, 707, 708, 709, 710, 711, 712, 749, 831, 857, 858, 859, 861, 862, 864, 865, 866, 867, 868, 869, 916, 917, 925, 964, 965, 966, 967, 970, 971, 975, 976, 978, 984, 986, 988, 989, 990, 992, 995, 996, 997, 999, 1000, 1002, 1006, 1009, 1010, 1011, 1012, 1014, 1016\n",
      "Overwriting existing file.\n",
      "Overwriting existing file.\n"
     ]
    },
    {
     "name": "stderr",
     "output_type": "stream",
     "text": [
      "C:\\Users\\annad\\AppData\\Local\\Temp\\ipykernel_172744\\2105183387.py:20: RuntimeWarning: This filename (C:/Users/annad/Documents/Thesis/Data/Stimlocked_fixed_index/VP12_epo_t2.fif) does not conform to MNE naming conventions. All epochs files should end with -epo.fif, -epo.fif.gz, _epo.fif or _epo.fif.gz\n",
      "  epochs.save(path+'Stimlocked_fixed_index/%s_epo_t2.fif'%subj, overwrite=True)\n"
     ]
    },
    {
     "name": "stdout",
     "output_type": "stream",
     "text": [
      "Opening raw data file C:/Users/annad/Documents/Thesis/Data/Post ICA/post_ica_VP13_raw.fif...\n",
      "    Range : 0 ... 2368511 =      0.000 ...  4625.998 secs\n",
      "Ready.\n",
      "Reading 0 ... 2368511  =      0.000 ...  4625.998 secs...\n",
      "Trigger channel Status has a non-zero initial value of {initial_value} (consider using initial_event=True to detect this event)\n",
      "Removing orphaned offset at the beginning of the file.\n",
      "6481 events found on stim channel Status\n",
      "Event IDs: [  1   2   3   4   5   6  11  12  16  21  22  31  32  64  65 128 129 131]\n",
      "Adding metadata with 3 columns\n",
      "1285 matching events found\n",
      "Setting baseline interval to [-0.25, 0.0] s\n",
      "Applying baseline correction (mode: mean)\n",
      "Using data from preloaded Raw for 1285 events and 1153 original time points ...\n",
      "5 bad epochs dropped\n",
      "Running autoreject on ch_type=eeg\n"
     ]
    },
    {
     "data": {
      "application/vnd.jupyter.widget-view+json": {
       "model_id": "b9d27840440443f492ff6c8e4b92ec2a",
       "version_major": 2,
       "version_minor": 0
      },
      "text/plain": [
       "  0%|          | Creating augmented epochs : 0/64 [00:00<?,       ?it/s]"
      ]
     },
     "metadata": {},
     "output_type": "display_data"
    },
    {
     "data": {
      "application/vnd.jupyter.widget-view+json": {
       "model_id": "a6eb4b4632f94e89b3f80c60357e15e0",
       "version_major": 2,
       "version_minor": 0
      },
      "text/plain": [
       "  0%|          | Computing thresholds ... : 0/64 [00:00<?,       ?it/s]"
      ]
     },
     "metadata": {},
     "output_type": "display_data"
    },
    {
     "data": {
      "application/vnd.jupyter.widget-view+json": {
       "model_id": "74005687fd294966b8d516085867f2ec",
       "version_major": 2,
       "version_minor": 0
      },
      "text/plain": [
       "  0%|          | Repairing epochs : 0/20 [00:00<?,       ?it/s]"
      ]
     },
     "metadata": {},
     "output_type": "display_data"
    },
    {
     "data": {
      "application/vnd.jupyter.widget-view+json": {
       "model_id": "39405633e05d49eb862827333fb85ae4",
       "version_major": 2,
       "version_minor": 0
      },
      "text/plain": [
       "  0%|          | n_interp : 0/3 [00:00<?,       ?it/s]"
      ]
     },
     "metadata": {},
     "output_type": "display_data"
    },
    {
     "data": {
      "application/vnd.jupyter.widget-view+json": {
       "model_id": "3473959a52044f02bb36daf9380e02ba",
       "version_major": 2,
       "version_minor": 0
      },
      "text/plain": [
       "  0%|          | Repairing epochs : 0/20 [00:00<?,       ?it/s]"
      ]
     },
     "metadata": {},
     "output_type": "display_data"
    },
    {
     "data": {
      "application/vnd.jupyter.widget-view+json": {
       "model_id": "91adbd49489c40ae8f4996817755886e",
       "version_major": 2,
       "version_minor": 0
      },
      "text/plain": [
       "  0%|          | Fold : 0/10 [00:00<?,       ?it/s]"
      ]
     },
     "metadata": {},
     "output_type": "display_data"
    },
    {
     "data": {
      "application/vnd.jupyter.widget-view+json": {
       "model_id": "940c9df69ed84cf29fd02276dde3cbf6",
       "version_major": 2,
       "version_minor": 0
      },
      "text/plain": [
       "  0%|          | Repairing epochs : 0/20 [00:00<?,       ?it/s]"
      ]
     },
     "metadata": {},
     "output_type": "display_data"
    },
    {
     "data": {
      "application/vnd.jupyter.widget-view+json": {
       "model_id": "9c1a28dc9f354b488f6d8e030771e5c1",
       "version_major": 2,
       "version_minor": 0
      },
      "text/plain": [
       "  0%|          | Fold : 0/10 [00:00<?,       ?it/s]"
      ]
     },
     "metadata": {},
     "output_type": "display_data"
    },
    {
     "data": {
      "application/vnd.jupyter.widget-view+json": {
       "model_id": "91c1f49440814282956bb2fbb44b03cd",
       "version_major": 2,
       "version_minor": 0
      },
      "text/plain": [
       "  0%|          | Repairing epochs : 0/20 [00:00<?,       ?it/s]"
      ]
     },
     "metadata": {},
     "output_type": "display_data"
    },
    {
     "data": {
      "application/vnd.jupyter.widget-view+json": {
       "model_id": "ad6eaacdadc044efae313331b6dc4603",
       "version_major": 2,
       "version_minor": 0
      },
      "text/plain": [
       "  0%|          | Fold : 0/10 [00:00<?,       ?it/s]"
      ]
     },
     "metadata": {},
     "output_type": "display_data"
    },
    {
     "name": "stdout",
     "output_type": "stream",
     "text": [
      "\n",
      "\n",
      "\n",
      "\n",
      "Estimated consensus=0.60 and n_interpolate=32\n"
     ]
    },
    {
     "data": {
      "application/vnd.jupyter.widget-view+json": {
       "model_id": "8de5cb4b3ee148ce8d153da7e97bd8a3",
       "version_major": 2,
       "version_minor": 0
      },
      "text/plain": [
       "  0%|          | Repairing epochs : 0/1280 [00:00<?,       ?it/s]"
      ]
     },
     "metadata": {},
     "output_type": "display_data"
    },
    {
     "name": "stdout",
     "output_type": "stream",
     "text": [
      "Dropped 16 epochs: 107, 530, 532, 533, 558, 559, 632, 637, 704, 813, 850, 851, 853, 1001, 1098, 1142\n",
      "Overwriting existing file.\n"
     ]
    },
    {
     "name": "stderr",
     "output_type": "stream",
     "text": [
      "C:\\Users\\annad\\AppData\\Local\\Temp\\ipykernel_172744\\2105183387.py:20: RuntimeWarning: This filename (C:/Users/annad/Documents/Thesis/Data/Stimlocked_fixed_index/VP13_epo_t2.fif) does not conform to MNE naming conventions. All epochs files should end with -epo.fif, -epo.fif.gz, _epo.fif or _epo.fif.gz\n",
      "  epochs.save(path+'Stimlocked_fixed_index/%s_epo_t2.fif'%subj, overwrite=True)\n"
     ]
    },
    {
     "name": "stdout",
     "output_type": "stream",
     "text": [
      "Overwriting existing file.\n",
      "Opening raw data file C:/Users/annad/Documents/Thesis/Data/Post ICA/post_ica_VP14_raw.fif...\n",
      "    Range : 0 ... 1943039 =      0.000 ...  3794.998 secs\n",
      "Ready.\n",
      "Reading 0 ... 1943039  =      0.000 ...  3794.998 secs...\n",
      "Trigger channel Status has a non-zero initial value of {initial_value} (consider using initial_event=True to detect this event)\n",
      "Removing orphaned offset at the beginning of the file.\n",
      "6474 events found on stim channel Status\n",
      "Event IDs: [  1   2   3   4   5   6  11  12  16  21  22  31  32  64  67 128 130 131\n",
      " 133]\n",
      "Adding metadata with 3 columns\n",
      "1271 matching events found\n",
      "Setting baseline interval to [-0.25, 0.0] s\n",
      "Applying baseline correction (mode: mean)\n",
      "Using data from preloaded Raw for 1271 events and 1153 original time points ...\n",
      "7 bad epochs dropped\n",
      "Running autoreject on ch_type=eeg\n"
     ]
    },
    {
     "data": {
      "application/vnd.jupyter.widget-view+json": {
       "model_id": "680cfb123cc54d459c17b36db59a0461",
       "version_major": 2,
       "version_minor": 0
      },
      "text/plain": [
       "  0%|          | Creating augmented epochs : 0/64 [00:00<?,       ?it/s]"
      ]
     },
     "metadata": {},
     "output_type": "display_data"
    },
    {
     "data": {
      "application/vnd.jupyter.widget-view+json": {
       "model_id": "81ff71a1ff48424a9efb7aa1fbf7c064",
       "version_major": 2,
       "version_minor": 0
      },
      "text/plain": [
       "  0%|          | Computing thresholds ... : 0/64 [00:00<?,       ?it/s]"
      ]
     },
     "metadata": {},
     "output_type": "display_data"
    },
    {
     "data": {
      "application/vnd.jupyter.widget-view+json": {
       "model_id": "e542ebc2a50d484d80427a560e502517",
       "version_major": 2,
       "version_minor": 0
      },
      "text/plain": [
       "  0%|          | Repairing epochs : 0/20 [00:00<?,       ?it/s]"
      ]
     },
     "metadata": {},
     "output_type": "display_data"
    },
    {
     "data": {
      "application/vnd.jupyter.widget-view+json": {
       "model_id": "6e1d02a9744c4c4d8459f5021c3a7ae4",
       "version_major": 2,
       "version_minor": 0
      },
      "text/plain": [
       "  0%|          | n_interp : 0/3 [00:00<?,       ?it/s]"
      ]
     },
     "metadata": {},
     "output_type": "display_data"
    },
    {
     "data": {
      "application/vnd.jupyter.widget-view+json": {
       "model_id": "fc6e4896f1fb43d5bd1c529be94b6e2a",
       "version_major": 2,
       "version_minor": 0
      },
      "text/plain": [
       "  0%|          | Repairing epochs : 0/20 [00:00<?,       ?it/s]"
      ]
     },
     "metadata": {},
     "output_type": "display_data"
    },
    {
     "data": {
      "application/vnd.jupyter.widget-view+json": {
       "model_id": "3e02222584274c8d97223addc7dfda03",
       "version_major": 2,
       "version_minor": 0
      },
      "text/plain": [
       "  0%|          | Fold : 0/10 [00:00<?,       ?it/s]"
      ]
     },
     "metadata": {},
     "output_type": "display_data"
    },
    {
     "data": {
      "application/vnd.jupyter.widget-view+json": {
       "model_id": "991b11550c3f45f682494f651a0e2881",
       "version_major": 2,
       "version_minor": 0
      },
      "text/plain": [
       "  0%|          | Repairing epochs : 0/20 [00:00<?,       ?it/s]"
      ]
     },
     "metadata": {},
     "output_type": "display_data"
    },
    {
     "data": {
      "application/vnd.jupyter.widget-view+json": {
       "model_id": "5c09990fd33d4e6fb3cc79deca8900a9",
       "version_major": 2,
       "version_minor": 0
      },
      "text/plain": [
       "  0%|          | Fold : 0/10 [00:00<?,       ?it/s]"
      ]
     },
     "metadata": {},
     "output_type": "display_data"
    },
    {
     "data": {
      "application/vnd.jupyter.widget-view+json": {
       "model_id": "9345aa837ea94195bbea02b7021fca1f",
       "version_major": 2,
       "version_minor": 0
      },
      "text/plain": [
       "  0%|          | Repairing epochs : 0/20 [00:00<?,       ?it/s]"
      ]
     },
     "metadata": {},
     "output_type": "display_data"
    },
    {
     "data": {
      "application/vnd.jupyter.widget-view+json": {
       "model_id": "8c686125ffc34db99114475adf1dc9e7",
       "version_major": 2,
       "version_minor": 0
      },
      "text/plain": [
       "  0%|          | Fold : 0/10 [00:00<?,       ?it/s]"
      ]
     },
     "metadata": {},
     "output_type": "display_data"
    },
    {
     "name": "stdout",
     "output_type": "stream",
     "text": [
      "\n",
      "\n",
      "\n",
      "\n",
      "Estimated consensus=0.60 and n_interpolate=32\n"
     ]
    },
    {
     "data": {
      "application/vnd.jupyter.widget-view+json": {
       "model_id": "28fc90a99e43400b8353021db8460ac0",
       "version_major": 2,
       "version_minor": 0
      },
      "text/plain": [
       "  0%|          | Repairing epochs : 0/1264 [00:00<?,       ?it/s]"
      ]
     },
     "metadata": {},
     "output_type": "display_data"
    },
    {
     "name": "stdout",
     "output_type": "stream",
     "text": [
      "Dropped 11 epochs: 95, 99, 487, 628, 632, 634, 798, 821, 950, 1159, 1160\n",
      "Overwriting existing file.\n"
     ]
    },
    {
     "name": "stderr",
     "output_type": "stream",
     "text": [
      "C:\\Users\\annad\\AppData\\Local\\Temp\\ipykernel_172744\\2105183387.py:20: RuntimeWarning: This filename (C:/Users/annad/Documents/Thesis/Data/Stimlocked_fixed_index/VP14_epo_t2.fif) does not conform to MNE naming conventions. All epochs files should end with -epo.fif, -epo.fif.gz, _epo.fif or _epo.fif.gz\n",
      "  epochs.save(path+'Stimlocked_fixed_index/%s_epo_t2.fif'%subj, overwrite=True)\n"
     ]
    },
    {
     "name": "stdout",
     "output_type": "stream",
     "text": [
      "Overwriting existing file.\n",
      "Opening raw data file C:/Users/annad/Documents/Thesis/Data/Post ICA/post_ica_VP15_raw.fif...\n",
      "    Range : 0 ... 2025471 =      0.000 ...  3955.998 secs\n",
      "Ready.\n",
      "Reading 0 ... 2025471  =      0.000 ...  3955.998 secs...\n",
      "Trigger channel Status has a non-zero initial value of {initial_value} (consider using initial_event=True to detect this event)\n",
      "Removing orphaned offset at the beginning of the file.\n",
      "6478 events found on stim channel Status\n",
      "Event IDs: [  1   2   3   4   5   6  11  12  16  20  21  22  31  32  64  65 128 129\n",
      " 130]\n",
      "Adding metadata with 3 columns\n",
      "1280 matching events found\n",
      "Setting baseline interval to [-0.25, 0.0] s\n",
      "Applying baseline correction (mode: mean)\n",
      "Using data from preloaded Raw for 1280 events and 1153 original time points ...\n",
      "5 bad epochs dropped\n",
      "Running autoreject on ch_type=eeg\n"
     ]
    },
    {
     "data": {
      "application/vnd.jupyter.widget-view+json": {
       "model_id": "0904517fe82e4ea5b5c7650621a1cf1c",
       "version_major": 2,
       "version_minor": 0
      },
      "text/plain": [
       "  0%|          | Creating augmented epochs : 0/64 [00:00<?,       ?it/s]"
      ]
     },
     "metadata": {},
     "output_type": "display_data"
    },
    {
     "data": {
      "application/vnd.jupyter.widget-view+json": {
       "model_id": "56dfac845ef343b782c13f84f2021447",
       "version_major": 2,
       "version_minor": 0
      },
      "text/plain": [
       "  0%|          | Computing thresholds ... : 0/64 [00:00<?,       ?it/s]"
      ]
     },
     "metadata": {},
     "output_type": "display_data"
    },
    {
     "data": {
      "application/vnd.jupyter.widget-view+json": {
       "model_id": "e263c1065a324556958968e424a586b7",
       "version_major": 2,
       "version_minor": 0
      },
      "text/plain": [
       "  0%|          | Repairing epochs : 0/20 [00:00<?,       ?it/s]"
      ]
     },
     "metadata": {},
     "output_type": "display_data"
    },
    {
     "data": {
      "application/vnd.jupyter.widget-view+json": {
       "model_id": "c4cfa423fefc4c6584ca8ddd52599754",
       "version_major": 2,
       "version_minor": 0
      },
      "text/plain": [
       "  0%|          | n_interp : 0/3 [00:00<?,       ?it/s]"
      ]
     },
     "metadata": {},
     "output_type": "display_data"
    },
    {
     "data": {
      "application/vnd.jupyter.widget-view+json": {
       "model_id": "327b6249a98348c5b9af55957ddbec09",
       "version_major": 2,
       "version_minor": 0
      },
      "text/plain": [
       "  0%|          | Repairing epochs : 0/20 [00:00<?,       ?it/s]"
      ]
     },
     "metadata": {},
     "output_type": "display_data"
    },
    {
     "data": {
      "application/vnd.jupyter.widget-view+json": {
       "model_id": "a76051dee9b3473ebdb56b5bc3ff75ee",
       "version_major": 2,
       "version_minor": 0
      },
      "text/plain": [
       "  0%|          | Fold : 0/10 [00:00<?,       ?it/s]"
      ]
     },
     "metadata": {},
     "output_type": "display_data"
    },
    {
     "data": {
      "application/vnd.jupyter.widget-view+json": {
       "model_id": "cdc868ecd714468a84b4f99635980adb",
       "version_major": 2,
       "version_minor": 0
      },
      "text/plain": [
       "  0%|          | Repairing epochs : 0/20 [00:00<?,       ?it/s]"
      ]
     },
     "metadata": {},
     "output_type": "display_data"
    },
    {
     "data": {
      "application/vnd.jupyter.widget-view+json": {
       "model_id": "42d0f58f6af747e9b08315015aca3f29",
       "version_major": 2,
       "version_minor": 0
      },
      "text/plain": [
       "  0%|          | Fold : 0/10 [00:00<?,       ?it/s]"
      ]
     },
     "metadata": {},
     "output_type": "display_data"
    },
    {
     "data": {
      "application/vnd.jupyter.widget-view+json": {
       "model_id": "6dc8cab5cbeb41aba8770455571b2225",
       "version_major": 2,
       "version_minor": 0
      },
      "text/plain": [
       "  0%|          | Repairing epochs : 0/20 [00:00<?,       ?it/s]"
      ]
     },
     "metadata": {},
     "output_type": "display_data"
    },
    {
     "data": {
      "application/vnd.jupyter.widget-view+json": {
       "model_id": "cb0b169ebb6744b2bac57b571f214e21",
       "version_major": 2,
       "version_minor": 0
      },
      "text/plain": [
       "  0%|          | Fold : 0/10 [00:00<?,       ?it/s]"
      ]
     },
     "metadata": {},
     "output_type": "display_data"
    },
    {
     "name": "stdout",
     "output_type": "stream",
     "text": [
      "\n",
      "\n",
      "\n",
      "\n",
      "Estimated consensus=0.60 and n_interpolate=32\n"
     ]
    },
    {
     "data": {
      "application/vnd.jupyter.widget-view+json": {
       "model_id": "1cf3d889d8b34a3bacce0235e3265b1c",
       "version_major": 2,
       "version_minor": 0
      },
      "text/plain": [
       "  0%|          | Repairing epochs : 0/1275 [00:00<?,       ?it/s]"
      ]
     },
     "metadata": {},
     "output_type": "display_data"
    },
    {
     "name": "stdout",
     "output_type": "stream",
     "text": [
      "Dropped 8 epochs: 279, 315, 316, 322, 323, 328, 339, 1122\n",
      "Overwriting existing file.\n"
     ]
    },
    {
     "name": "stderr",
     "output_type": "stream",
     "text": [
      "C:\\Users\\annad\\AppData\\Local\\Temp\\ipykernel_172744\\2105183387.py:20: RuntimeWarning: This filename (C:/Users/annad/Documents/Thesis/Data/Stimlocked_fixed_index/VP15_epo_t2.fif) does not conform to MNE naming conventions. All epochs files should end with -epo.fif, -epo.fif.gz, _epo.fif or _epo.fif.gz\n",
      "  epochs.save(path+'Stimlocked_fixed_index/%s_epo_t2.fif'%subj, overwrite=True)\n"
     ]
    },
    {
     "name": "stdout",
     "output_type": "stream",
     "text": [
      "Overwriting existing file.\n",
      "Opening raw data file C:/Users/annad/Documents/Thesis/Data/Post ICA/post_ica_VP16_raw.fif...\n",
      "    Range : 0 ... 1949183 =      0.000 ...  3806.998 secs\n",
      "Ready.\n",
      "Reading 0 ... 1949183  =      0.000 ...  3806.998 secs...\n",
      "Trigger channel Status has a non-zero initial value of {initial_value} (consider using initial_event=True to detect this event)\n",
      "Removing orphaned offset at the beginning of the file.\n",
      "6493 events found on stim channel Status\n",
      "Event IDs: [  1   2   3   4   5   6  11  12  16  21  22  31  32  64 128]\n",
      "Adding metadata with 3 columns\n",
      "1294 matching events found\n",
      "Setting baseline interval to [-0.25, 0.0] s\n",
      "Applying baseline correction (mode: mean)\n",
      "Using data from preloaded Raw for 1294 events and 1153 original time points ...\n",
      "2 bad epochs dropped\n",
      "Running autoreject on ch_type=eeg\n"
     ]
    },
    {
     "data": {
      "application/vnd.jupyter.widget-view+json": {
       "model_id": "ac8e737609b3498eb1b136f305c56958",
       "version_major": 2,
       "version_minor": 0
      },
      "text/plain": [
       "  0%|          | Creating augmented epochs : 0/64 [00:00<?,       ?it/s]"
      ]
     },
     "metadata": {},
     "output_type": "display_data"
    },
    {
     "data": {
      "application/vnd.jupyter.widget-view+json": {
       "model_id": "941c4a54af434a32b89fa456f9ea0762",
       "version_major": 2,
       "version_minor": 0
      },
      "text/plain": [
       "  0%|          | Computing thresholds ... : 0/64 [00:00<?,       ?it/s]"
      ]
     },
     "metadata": {},
     "output_type": "display_data"
    },
    {
     "data": {
      "application/vnd.jupyter.widget-view+json": {
       "model_id": "9027fc023a6c4b89ac5bcce0265ea4a2",
       "version_major": 2,
       "version_minor": 0
      },
      "text/plain": [
       "  0%|          | Repairing epochs : 0/20 [00:00<?,       ?it/s]"
      ]
     },
     "metadata": {},
     "output_type": "display_data"
    },
    {
     "data": {
      "application/vnd.jupyter.widget-view+json": {
       "model_id": "d13ff0dfe9aa44b6b71cfce42dbcb138",
       "version_major": 2,
       "version_minor": 0
      },
      "text/plain": [
       "  0%|          | n_interp : 0/3 [00:00<?,       ?it/s]"
      ]
     },
     "metadata": {},
     "output_type": "display_data"
    },
    {
     "data": {
      "application/vnd.jupyter.widget-view+json": {
       "model_id": "e054bbc1ebc34a688c5db48b894806cc",
       "version_major": 2,
       "version_minor": 0
      },
      "text/plain": [
       "  0%|          | Repairing epochs : 0/20 [00:00<?,       ?it/s]"
      ]
     },
     "metadata": {},
     "output_type": "display_data"
    },
    {
     "data": {
      "application/vnd.jupyter.widget-view+json": {
       "model_id": "b1b5ef6b4034493a9c913d6296624662",
       "version_major": 2,
       "version_minor": 0
      },
      "text/plain": [
       "  0%|          | Fold : 0/10 [00:00<?,       ?it/s]"
      ]
     },
     "metadata": {},
     "output_type": "display_data"
    },
    {
     "data": {
      "application/vnd.jupyter.widget-view+json": {
       "model_id": "ef0691ea15b740d39735bbe8c0d28690",
       "version_major": 2,
       "version_minor": 0
      },
      "text/plain": [
       "  0%|          | Repairing epochs : 0/20 [00:00<?,       ?it/s]"
      ]
     },
     "metadata": {},
     "output_type": "display_data"
    },
    {
     "data": {
      "application/vnd.jupyter.widget-view+json": {
       "model_id": "1b1d2a95292e4f9aab73a29abca971ac",
       "version_major": 2,
       "version_minor": 0
      },
      "text/plain": [
       "  0%|          | Fold : 0/10 [00:00<?,       ?it/s]"
      ]
     },
     "metadata": {},
     "output_type": "display_data"
    },
    {
     "data": {
      "application/vnd.jupyter.widget-view+json": {
       "model_id": "c97643e112fb49fb91aaeea3cda602cf",
       "version_major": 2,
       "version_minor": 0
      },
      "text/plain": [
       "  0%|          | Repairing epochs : 0/20 [00:00<?,       ?it/s]"
      ]
     },
     "metadata": {},
     "output_type": "display_data"
    },
    {
     "data": {
      "application/vnd.jupyter.widget-view+json": {
       "model_id": "b70c89b66f8f42c98aaccc06a76c0511",
       "version_major": 2,
       "version_minor": 0
      },
      "text/plain": [
       "  0%|          | Fold : 0/10 [00:00<?,       ?it/s]"
      ]
     },
     "metadata": {},
     "output_type": "display_data"
    },
    {
     "name": "stdout",
     "output_type": "stream",
     "text": [
      "\n",
      "\n",
      "\n",
      "\n",
      "Estimated consensus=0.60 and n_interpolate=32\n"
     ]
    },
    {
     "data": {
      "application/vnd.jupyter.widget-view+json": {
       "model_id": "73c6398be4c444c891e13f1a544141ac",
       "version_major": 2,
       "version_minor": 0
      },
      "text/plain": [
       "  0%|          | Repairing epochs : 0/1292 [00:00<?,       ?it/s]"
      ]
     },
     "metadata": {},
     "output_type": "display_data"
    },
    {
     "name": "stdout",
     "output_type": "stream",
     "text": [
      "Dropped 27 epochs: 248, 320, 471, 587, 616, 696, 712, 751, 752, 763, 795, 796, 820, 888, 890, 938, 943, 959, 1003, 1004, 1054, 1165, 1228, 1248, 1249, 1250, 1289\n",
      "Overwriting existing file.\n",
      "Overwriting existing file.\n"
     ]
    },
    {
     "name": "stderr",
     "output_type": "stream",
     "text": [
      "C:\\Users\\annad\\AppData\\Local\\Temp\\ipykernel_172744\\2105183387.py:20: RuntimeWarning: This filename (C:/Users/annad/Documents/Thesis/Data/Stimlocked_fixed_index/VP16_epo_t2.fif) does not conform to MNE naming conventions. All epochs files should end with -epo.fif, -epo.fif.gz, _epo.fif or _epo.fif.gz\n",
      "  epochs.save(path+'Stimlocked_fixed_index/%s_epo_t2.fif'%subj, overwrite=True)\n"
     ]
    },
    {
     "name": "stdout",
     "output_type": "stream",
     "text": [
      "Opening raw data file C:/Users/annad/Documents/Thesis/Data/Post ICA/post_ica_VP17_raw.fif...\n",
      "    Range : 0 ... 2263551 =      0.000 ...  4420.998 secs\n",
      "Ready.\n",
      "Reading 0 ... 2263551  =      0.000 ...  4420.998 secs...\n",
      "Trigger channel Status has a non-zero initial value of {initial_value} (consider using initial_event=True to detect this event)\n",
      "Removing orphaned offset at the beginning of the file.\n",
      "6434 events found on stim channel Status\n",
      "Event IDs: [  1   2   3   4   5   6  11  12  16  21  22  23  31  32  64  65  66  67\n",
      "  68 128 129 130 131]\n",
      "Adding metadata with 3 columns\n",
      "1249 matching events found\n",
      "Setting baseline interval to [-0.25, 0.0] s\n",
      "Applying baseline correction (mode: mean)\n",
      "Using data from preloaded Raw for 1249 events and 1153 original time points ...\n",
      "7 bad epochs dropped\n",
      "Running autoreject on ch_type=eeg\n"
     ]
    },
    {
     "data": {
      "application/vnd.jupyter.widget-view+json": {
       "model_id": "3e28d41b221e47be936661cc01f232ab",
       "version_major": 2,
       "version_minor": 0
      },
      "text/plain": [
       "  0%|          | Creating augmented epochs : 0/64 [00:00<?,       ?it/s]"
      ]
     },
     "metadata": {},
     "output_type": "display_data"
    },
    {
     "data": {
      "application/vnd.jupyter.widget-view+json": {
       "model_id": "c4ee3e89a0694c2abd4429918bc0f445",
       "version_major": 2,
       "version_minor": 0
      },
      "text/plain": [
       "  0%|          | Computing thresholds ... : 0/64 [00:00<?,       ?it/s]"
      ]
     },
     "metadata": {},
     "output_type": "display_data"
    },
    {
     "data": {
      "application/vnd.jupyter.widget-view+json": {
       "model_id": "5ec66c968ea749f7b8cc8cd3005aa41e",
       "version_major": 2,
       "version_minor": 0
      },
      "text/plain": [
       "  0%|          | Repairing epochs : 0/20 [00:00<?,       ?it/s]"
      ]
     },
     "metadata": {},
     "output_type": "display_data"
    },
    {
     "data": {
      "application/vnd.jupyter.widget-view+json": {
       "model_id": "d8c55654e82f4c8cbff84cdbc3071a65",
       "version_major": 2,
       "version_minor": 0
      },
      "text/plain": [
       "  0%|          | n_interp : 0/3 [00:00<?,       ?it/s]"
      ]
     },
     "metadata": {},
     "output_type": "display_data"
    },
    {
     "data": {
      "application/vnd.jupyter.widget-view+json": {
       "model_id": "16c56900490343139351223ec3646b1b",
       "version_major": 2,
       "version_minor": 0
      },
      "text/plain": [
       "  0%|          | Repairing epochs : 0/20 [00:00<?,       ?it/s]"
      ]
     },
     "metadata": {},
     "output_type": "display_data"
    },
    {
     "data": {
      "application/vnd.jupyter.widget-view+json": {
       "model_id": "eb397936d1174ad380dc132730a531a3",
       "version_major": 2,
       "version_minor": 0
      },
      "text/plain": [
       "  0%|          | Fold : 0/10 [00:00<?,       ?it/s]"
      ]
     },
     "metadata": {},
     "output_type": "display_data"
    },
    {
     "data": {
      "application/vnd.jupyter.widget-view+json": {
       "model_id": "37ee394547bb45dbab470196f8b7dea2",
       "version_major": 2,
       "version_minor": 0
      },
      "text/plain": [
       "  0%|          | Repairing epochs : 0/20 [00:00<?,       ?it/s]"
      ]
     },
     "metadata": {},
     "output_type": "display_data"
    },
    {
     "data": {
      "application/vnd.jupyter.widget-view+json": {
       "model_id": "5120fdc4987145138aa5347b5b42e279",
       "version_major": 2,
       "version_minor": 0
      },
      "text/plain": [
       "  0%|          | Fold : 0/10 [00:00<?,       ?it/s]"
      ]
     },
     "metadata": {},
     "output_type": "display_data"
    },
    {
     "data": {
      "application/vnd.jupyter.widget-view+json": {
       "model_id": "7ad73eded1024959a2dd1c1595b12734",
       "version_major": 2,
       "version_minor": 0
      },
      "text/plain": [
       "  0%|          | Repairing epochs : 0/20 [00:00<?,       ?it/s]"
      ]
     },
     "metadata": {},
     "output_type": "display_data"
    },
    {
     "data": {
      "application/vnd.jupyter.widget-view+json": {
       "model_id": "95a290d0ee9a4415aed0a2815139787a",
       "version_major": 2,
       "version_minor": 0
      },
      "text/plain": [
       "  0%|          | Fold : 0/10 [00:00<?,       ?it/s]"
      ]
     },
     "metadata": {},
     "output_type": "display_data"
    },
    {
     "name": "stdout",
     "output_type": "stream",
     "text": [
      "\n",
      "\n",
      "\n",
      "\n",
      "Estimated consensus=0.60 and n_interpolate=32\n"
     ]
    },
    {
     "data": {
      "application/vnd.jupyter.widget-view+json": {
       "model_id": "ac33da503550481094ce87509c5180c9",
       "version_major": 2,
       "version_minor": 0
      },
      "text/plain": [
       "  0%|          | Repairing epochs : 0/1242 [00:00<?,       ?it/s]"
      ]
     },
     "metadata": {},
     "output_type": "display_data"
    },
    {
     "name": "stdout",
     "output_type": "stream",
     "text": [
      "Dropped 421 epochs: 25, 37, 43, 46, 47, 50, 51, 53, 54, 55, 59, 62, 64, 65, 66, 67, 68, 70, 72, 73, 75, 76, 77, 78, 80, 82, 88, 89, 90, 92, 93, 94, 95, 99, 101, 104, 105, 106, 107, 111, 112, 113, 116, 117, 119, 120, 121, 122, 124, 125, 130, 131, 132, 133, 134, 136, 137, 138, 141, 146, 148, 150, 155, 156, 157, 158, 159, 168, 169, 173, 175, 177, 178, 179, 185, 206, 211, 214, 215, 216, 217, 222, 226, 228, 229, 237, 238, 239, 240, 243, 248, 260, 261, 262, 269, 270, 271, 272, 273, 274, 278, 280, 281, 283, 285, 289, 298, 301, 302, 304, 307, 309, 311, 326, 333, 334, 337, 340, 352, 354, 357, 360, 364, 368, 378, 381, 382, 384, 385, 392, 393, 394, 403, 404, 410, 411, 421, 430, 433, 435, 437, 442, 443, 444, 446, 454, 455, 456, 457, 458, 460, 461, 462, 463, 464, 466, 467, 468, 469, 471, 472, 473, 474, 475, 476, 477, 480, 481, 482, 483, 485, 486, 488, 489, 490, 491, 492, 493, 494, 496, 497, 501, 503, 505, 506, 507, 508, 509, 510, 513, 516, 522, 529, 530, 533, 546, 547, 563, 565, 598, 610, 611, 624, 625, 632, 633, 635, 637, 638, 639, 640, 644, 646, 648, 659, 660, 666, 672, 673, 674, 675, 676, 677, 678, 679, 680, 681, 686, 687, 688, 691, 692, 693, 694, 695, 696, 697, 698, 699, 700, 701, 703, 707, 708, 709, 710, 732, 755, 760, 765, 769, 770, 771, 784, 806, 807, 809, 815, 835, 836, 844, 867, 870, 882, 883, 886, 887, 893, 895, 896, 897, 899, 901, 902, 911, 912, 913, 915, 923, 933, 934, 937, 945, 957, 959, 961, 963, 967, 968, 971, 972, 975, 976, 977, 978, 986, 987, 988, 990, 991, 994, 995, 996, 997, 998, 999, 1000, 1001, 1003, 1005, 1006, 1007, 1008, 1010, 1011, 1012, 1013, 1014, 1016, 1017, 1023, 1025, 1027, 1028, 1029, 1031, 1032, 1033, 1034, 1035, 1038, 1041, 1043, 1044, 1046, 1048, 1049, 1051, 1052, 1053, 1054, 1055, 1056, 1058, 1061, 1062, 1063, 1066, 1067, 1068, 1069, 1071, 1072, 1074, 1075, 1076, 1077, 1078, 1079, 1080, 1081, 1083, 1084, 1085, 1086, 1087, 1089, 1090, 1091, 1092, 1093, 1094, 1095, 1099, 1100, 1104, 1105, 1106, 1107, 1108, 1109, 1110, 1111, 1112, 1114, 1116, 1117, 1118, 1119, 1120, 1121, 1123, 1126, 1130, 1131, 1133, 1138, 1142, 1143, 1164, 1180, 1182, 1185, 1189, 1192, 1193, 1195, 1199, 1201, 1204, 1210, 1212, 1213, 1214, 1217, 1229, 1231, 1233, 1234, 1240, 1241\n",
      "Overwriting existing file.\n",
      "Overwriting existing file.\n"
     ]
    },
    {
     "name": "stderr",
     "output_type": "stream",
     "text": [
      "C:\\Users\\annad\\AppData\\Local\\Temp\\ipykernel_172744\\2105183387.py:20: RuntimeWarning: This filename (C:/Users/annad/Documents/Thesis/Data/Stimlocked_fixed_index/VP17_epo_t2.fif) does not conform to MNE naming conventions. All epochs files should end with -epo.fif, -epo.fif.gz, _epo.fif or _epo.fif.gz\n",
      "  epochs.save(path+'Stimlocked_fixed_index/%s_epo_t2.fif'%subj, overwrite=True)\n"
     ]
    },
    {
     "name": "stdout",
     "output_type": "stream",
     "text": [
      "Opening raw data file C:/Users/annad/Documents/Thesis/Data/Post ICA/post_ica_VP18_raw.fif...\n",
      "    Range : 0 ... 2062335 =      0.000 ...  4027.998 secs\n",
      "Ready.\n",
      "Reading 0 ... 2062335  =      0.000 ...  4027.998 secs...\n",
      "Trigger channel Status has a non-zero initial value of {initial_value} (consider using initial_event=True to detect this event)\n",
      "Removing orphaned offset at the beginning of the file.\n",
      "6469 events found on stim channel Status\n",
      "Event IDs: [  1   2   3   4   5   6  11  12  16  21  22  31  32  64  65  67 128]\n",
      "Adding metadata with 3 columns\n",
      "1251 matching events found\n",
      "Setting baseline interval to [-0.25, 0.0] s\n",
      "Applying baseline correction (mode: mean)\n",
      "Using data from preloaded Raw for 1251 events and 1153 original time points ...\n",
      "5 bad epochs dropped\n",
      "Running autoreject on ch_type=eeg\n"
     ]
    },
    {
     "data": {
      "application/vnd.jupyter.widget-view+json": {
       "model_id": "39403864c24a40beb999fa3f34205e27",
       "version_major": 2,
       "version_minor": 0
      },
      "text/plain": [
       "  0%|          | Creating augmented epochs : 0/64 [00:00<?,       ?it/s]"
      ]
     },
     "metadata": {},
     "output_type": "display_data"
    },
    {
     "data": {
      "application/vnd.jupyter.widget-view+json": {
       "model_id": "018d44ae067648c28a9df556df5a41fe",
       "version_major": 2,
       "version_minor": 0
      },
      "text/plain": [
       "  0%|          | Computing thresholds ... : 0/64 [00:00<?,       ?it/s]"
      ]
     },
     "metadata": {},
     "output_type": "display_data"
    },
    {
     "data": {
      "application/vnd.jupyter.widget-view+json": {
       "model_id": "d092232a90974bc8a39ea602ac7ad4f0",
       "version_major": 2,
       "version_minor": 0
      },
      "text/plain": [
       "  0%|          | Repairing epochs : 0/20 [00:00<?,       ?it/s]"
      ]
     },
     "metadata": {},
     "output_type": "display_data"
    },
    {
     "data": {
      "application/vnd.jupyter.widget-view+json": {
       "model_id": "e0c6832d09b84923be224d5c74387cbf",
       "version_major": 2,
       "version_minor": 0
      },
      "text/plain": [
       "  0%|          | n_interp : 0/3 [00:00<?,       ?it/s]"
      ]
     },
     "metadata": {},
     "output_type": "display_data"
    },
    {
     "data": {
      "application/vnd.jupyter.widget-view+json": {
       "model_id": "d265741fd43f44a090fdbc13e457b0ec",
       "version_major": 2,
       "version_minor": 0
      },
      "text/plain": [
       "  0%|          | Repairing epochs : 0/20 [00:00<?,       ?it/s]"
      ]
     },
     "metadata": {},
     "output_type": "display_data"
    },
    {
     "data": {
      "application/vnd.jupyter.widget-view+json": {
       "model_id": "b0722eb14d034811bc459f0273362bbb",
       "version_major": 2,
       "version_minor": 0
      },
      "text/plain": [
       "  0%|          | Fold : 0/10 [00:00<?,       ?it/s]"
      ]
     },
     "metadata": {},
     "output_type": "display_data"
    },
    {
     "data": {
      "application/vnd.jupyter.widget-view+json": {
       "model_id": "66e581ad8f2d493bbcadeed182fa7823",
       "version_major": 2,
       "version_minor": 0
      },
      "text/plain": [
       "  0%|          | Repairing epochs : 0/20 [00:00<?,       ?it/s]"
      ]
     },
     "metadata": {},
     "output_type": "display_data"
    },
    {
     "data": {
      "application/vnd.jupyter.widget-view+json": {
       "model_id": "06c3ec5c811343328be8b3ee847e5e15",
       "version_major": 2,
       "version_minor": 0
      },
      "text/plain": [
       "  0%|          | Fold : 0/10 [00:00<?,       ?it/s]"
      ]
     },
     "metadata": {},
     "output_type": "display_data"
    },
    {
     "data": {
      "application/vnd.jupyter.widget-view+json": {
       "model_id": "2036e6dec3594090a7715a8e2f4f75b0",
       "version_major": 2,
       "version_minor": 0
      },
      "text/plain": [
       "  0%|          | Repairing epochs : 0/20 [00:00<?,       ?it/s]"
      ]
     },
     "metadata": {},
     "output_type": "display_data"
    },
    {
     "data": {
      "application/vnd.jupyter.widget-view+json": {
       "model_id": "06eefb6957dc420a978a1b62dd129177",
       "version_major": 2,
       "version_minor": 0
      },
      "text/plain": [
       "  0%|          | Fold : 0/10 [00:00<?,       ?it/s]"
      ]
     },
     "metadata": {},
     "output_type": "display_data"
    },
    {
     "name": "stdout",
     "output_type": "stream",
     "text": [
      "\n",
      "\n",
      "\n",
      "\n",
      "Estimated consensus=0.60 and n_interpolate=32\n"
     ]
    },
    {
     "data": {
      "application/vnd.jupyter.widget-view+json": {
       "model_id": "e864c49f5d6d43c8a71f8b9f67bb8f3e",
       "version_major": 2,
       "version_minor": 0
      },
      "text/plain": [
       "  0%|          | Repairing epochs : 0/1246 [00:00<?,       ?it/s]"
      ]
     },
     "metadata": {},
     "output_type": "display_data"
    },
    {
     "name": "stdout",
     "output_type": "stream",
     "text": [
      "Dropped 35 epochs: 204, 307, 324, 366, 423, 451, 498, 504, 523, 567, 568, 571, 572, 628, 727, 774, 817, 818, 837, 865, 866, 923, 924, 925, 926, 942, 965, 1030, 1031, 1032, 1033, 1074, 1075, 1231, 1232\n",
      "Overwriting existing file.\n"
     ]
    },
    {
     "name": "stderr",
     "output_type": "stream",
     "text": [
      "C:\\Users\\annad\\AppData\\Local\\Temp\\ipykernel_172744\\2105183387.py:20: RuntimeWarning: This filename (C:/Users/annad/Documents/Thesis/Data/Stimlocked_fixed_index/VP18_epo_t2.fif) does not conform to MNE naming conventions. All epochs files should end with -epo.fif, -epo.fif.gz, _epo.fif or _epo.fif.gz\n",
      "  epochs.save(path+'Stimlocked_fixed_index/%s_epo_t2.fif'%subj, overwrite=True)\n"
     ]
    },
    {
     "name": "stdout",
     "output_type": "stream",
     "text": [
      "Overwriting existing file.\n",
      "Opening raw data file C:/Users/annad/Documents/Thesis/Data/Post ICA/post_ica_VP19_raw.fif...\n",
      "    Range : 0 ... 2519039 =      0.000 ...  4919.998 secs\n",
      "Ready.\n",
      "Reading 0 ... 2519039  =      0.000 ...  4919.998 secs...\n",
      "Trigger channel Status has a non-zero initial value of {initial_value} (consider using initial_event=True to detect this event)\n",
      "Removing orphaned offset at the beginning of the file.\n",
      "6489 events found on stim channel Status\n",
      "Event IDs: [  1   2   3   4   5   6  11  12  16  21  22  31  32  64  66  67 128 129\n",
      " 131]\n",
      "Adding metadata with 3 columns\n",
      "1293 matching events found\n",
      "Setting baseline interval to [-0.25, 0.0] s\n",
      "Applying baseline correction (mode: mean)\n",
      "Using data from preloaded Raw for 1293 events and 1153 original time points ...\n",
      "5 bad epochs dropped\n",
      "Running autoreject on ch_type=eeg\n"
     ]
    },
    {
     "data": {
      "application/vnd.jupyter.widget-view+json": {
       "model_id": "a7fdd99f9a9b4c25ab3a7d169ef88da9",
       "version_major": 2,
       "version_minor": 0
      },
      "text/plain": [
       "  0%|          | Creating augmented epochs : 0/64 [00:00<?,       ?it/s]"
      ]
     },
     "metadata": {},
     "output_type": "display_data"
    },
    {
     "data": {
      "application/vnd.jupyter.widget-view+json": {
       "model_id": "b1de070b66c448868d154508e4e4739f",
       "version_major": 2,
       "version_minor": 0
      },
      "text/plain": [
       "  0%|          | Computing thresholds ... : 0/64 [00:00<?,       ?it/s]"
      ]
     },
     "metadata": {},
     "output_type": "display_data"
    },
    {
     "data": {
      "application/vnd.jupyter.widget-view+json": {
       "model_id": "0731cb2816584346a10e52dc7c5037bc",
       "version_major": 2,
       "version_minor": 0
      },
      "text/plain": [
       "  0%|          | Repairing epochs : 0/20 [00:00<?,       ?it/s]"
      ]
     },
     "metadata": {},
     "output_type": "display_data"
    },
    {
     "data": {
      "application/vnd.jupyter.widget-view+json": {
       "model_id": "aea191f5727941eabab956f5662150ba",
       "version_major": 2,
       "version_minor": 0
      },
      "text/plain": [
       "  0%|          | n_interp : 0/3 [00:00<?,       ?it/s]"
      ]
     },
     "metadata": {},
     "output_type": "display_data"
    },
    {
     "data": {
      "application/vnd.jupyter.widget-view+json": {
       "model_id": "5429f69d53454e85b2cb03d63049e8ef",
       "version_major": 2,
       "version_minor": 0
      },
      "text/plain": [
       "  0%|          | Repairing epochs : 0/20 [00:00<?,       ?it/s]"
      ]
     },
     "metadata": {},
     "output_type": "display_data"
    },
    {
     "data": {
      "application/vnd.jupyter.widget-view+json": {
       "model_id": "71e491dc0abc4c7d8fbd02c19a841244",
       "version_major": 2,
       "version_minor": 0
      },
      "text/plain": [
       "  0%|          | Fold : 0/10 [00:00<?,       ?it/s]"
      ]
     },
     "metadata": {},
     "output_type": "display_data"
    },
    {
     "data": {
      "application/vnd.jupyter.widget-view+json": {
       "model_id": "62b44a08a2c3435d93c8a53ba135a258",
       "version_major": 2,
       "version_minor": 0
      },
      "text/plain": [
       "  0%|          | Repairing epochs : 0/20 [00:00<?,       ?it/s]"
      ]
     },
     "metadata": {},
     "output_type": "display_data"
    },
    {
     "data": {
      "application/vnd.jupyter.widget-view+json": {
       "model_id": "7b9f0b0cfca54196a0612e33a92f5bf0",
       "version_major": 2,
       "version_minor": 0
      },
      "text/plain": [
       "  0%|          | Fold : 0/10 [00:00<?,       ?it/s]"
      ]
     },
     "metadata": {},
     "output_type": "display_data"
    },
    {
     "data": {
      "application/vnd.jupyter.widget-view+json": {
       "model_id": "73143be6662c4fc997c19ae10c8dd7ad",
       "version_major": 2,
       "version_minor": 0
      },
      "text/plain": [
       "  0%|          | Repairing epochs : 0/20 [00:00<?,       ?it/s]"
      ]
     },
     "metadata": {},
     "output_type": "display_data"
    },
    {
     "data": {
      "application/vnd.jupyter.widget-view+json": {
       "model_id": "c013be027f624c4ca66dfa66be5708bb",
       "version_major": 2,
       "version_minor": 0
      },
      "text/plain": [
       "  0%|          | Fold : 0/10 [00:00<?,       ?it/s]"
      ]
     },
     "metadata": {},
     "output_type": "display_data"
    },
    {
     "name": "stdout",
     "output_type": "stream",
     "text": [
      "\n",
      "\n",
      "\n",
      "\n",
      "Estimated consensus=0.60 and n_interpolate=32\n"
     ]
    },
    {
     "data": {
      "application/vnd.jupyter.widget-view+json": {
       "model_id": "42e3b640acd54f7fa79284012cc01d1f",
       "version_major": 2,
       "version_minor": 0
      },
      "text/plain": [
       "  0%|          | Repairing epochs : 0/1288 [00:00<?,       ?it/s]"
      ]
     },
     "metadata": {},
     "output_type": "display_data"
    },
    {
     "name": "stdout",
     "output_type": "stream",
     "text": [
      "Dropped 34 epochs: 0, 1, 2, 3, 5, 9, 10, 11, 12, 15, 16, 17, 18, 19, 20, 50, 51, 52, 53, 54, 55, 56, 57, 58, 59, 60, 61, 62, 90, 91, 92, 95, 1269, 1270\n",
      "Overwriting existing file.\n"
     ]
    },
    {
     "name": "stderr",
     "output_type": "stream",
     "text": [
      "C:\\Users\\annad\\AppData\\Local\\Temp\\ipykernel_172744\\2105183387.py:20: RuntimeWarning: This filename (C:/Users/annad/Documents/Thesis/Data/Stimlocked_fixed_index/VP19_epo_t2.fif) does not conform to MNE naming conventions. All epochs files should end with -epo.fif, -epo.fif.gz, _epo.fif or _epo.fif.gz\n",
      "  epochs.save(path+'Stimlocked_fixed_index/%s_epo_t2.fif'%subj, overwrite=True)\n"
     ]
    },
    {
     "name": "stdout",
     "output_type": "stream",
     "text": [
      "Overwriting existing file.\n",
      "Opening raw data file C:/Users/annad/Documents/Thesis/Data/Post ICA/post_ica_VP1_raw.fif...\n",
      "    Range : 0 ... 1836543 =      0.000 ...  3586.998 secs\n",
      "Ready.\n",
      "Reading 0 ... 1836543  =      0.000 ...  3586.998 secs...\n",
      "Trigger channel Status has a non-zero initial value of {initial_value} (consider using initial_event=True to detect this event)\n",
      "Removing orphaned offset at the beginning of the file.\n",
      "5397 events found on stim channel Status\n",
      "Event IDs: [  1   2   3   4   5   6  11  12  16  18  21  22  31  32  64  65  66  67\n",
      " 128 129 130 131 132 133]\n",
      "Adding metadata with 3 columns\n",
      "1070 matching events found\n",
      "Setting baseline interval to [-0.25, 0.0] s\n",
      "Applying baseline correction (mode: mean)\n",
      "Using data from preloaded Raw for 1070 events and 1153 original time points ...\n",
      "10 bad epochs dropped\n",
      "Running autoreject on ch_type=eeg\n"
     ]
    },
    {
     "data": {
      "application/vnd.jupyter.widget-view+json": {
       "model_id": "33dd3a1db11f4f738f69a3f4257a3b62",
       "version_major": 2,
       "version_minor": 0
      },
      "text/plain": [
       "  0%|          | Creating augmented epochs : 0/64 [00:00<?,       ?it/s]"
      ]
     },
     "metadata": {},
     "output_type": "display_data"
    },
    {
     "data": {
      "application/vnd.jupyter.widget-view+json": {
       "model_id": "895b4cd85f994709b91f58c2e4bb5f22",
       "version_major": 2,
       "version_minor": 0
      },
      "text/plain": [
       "  0%|          | Computing thresholds ... : 0/64 [00:00<?,       ?it/s]"
      ]
     },
     "metadata": {},
     "output_type": "display_data"
    },
    {
     "data": {
      "application/vnd.jupyter.widget-view+json": {
       "model_id": "e304c2341afa48918180c027068aabd6",
       "version_major": 2,
       "version_minor": 0
      },
      "text/plain": [
       "  0%|          | Repairing epochs : 0/20 [00:00<?,       ?it/s]"
      ]
     },
     "metadata": {},
     "output_type": "display_data"
    },
    {
     "data": {
      "application/vnd.jupyter.widget-view+json": {
       "model_id": "afc60333f4e5440b9e38ea5b58ef194d",
       "version_major": 2,
       "version_minor": 0
      },
      "text/plain": [
       "  0%|          | n_interp : 0/3 [00:00<?,       ?it/s]"
      ]
     },
     "metadata": {},
     "output_type": "display_data"
    },
    {
     "data": {
      "application/vnd.jupyter.widget-view+json": {
       "model_id": "fd7384d830a140e18caec432972ad91a",
       "version_major": 2,
       "version_minor": 0
      },
      "text/plain": [
       "  0%|          | Repairing epochs : 0/20 [00:00<?,       ?it/s]"
      ]
     },
     "metadata": {},
     "output_type": "display_data"
    },
    {
     "data": {
      "application/vnd.jupyter.widget-view+json": {
       "model_id": "9e220ff13f8f4c2f87f3366ddc75adb9",
       "version_major": 2,
       "version_minor": 0
      },
      "text/plain": [
       "  0%|          | Fold : 0/10 [00:00<?,       ?it/s]"
      ]
     },
     "metadata": {},
     "output_type": "display_data"
    },
    {
     "data": {
      "application/vnd.jupyter.widget-view+json": {
       "model_id": "fd267a975d424d96846d5ca1252d7ab0",
       "version_major": 2,
       "version_minor": 0
      },
      "text/plain": [
       "  0%|          | Repairing epochs : 0/20 [00:00<?,       ?it/s]"
      ]
     },
     "metadata": {},
     "output_type": "display_data"
    },
    {
     "data": {
      "application/vnd.jupyter.widget-view+json": {
       "model_id": "aec6fdb595c44e3abfd2e884ea3c08f0",
       "version_major": 2,
       "version_minor": 0
      },
      "text/plain": [
       "  0%|          | Fold : 0/10 [00:00<?,       ?it/s]"
      ]
     },
     "metadata": {},
     "output_type": "display_data"
    },
    {
     "data": {
      "application/vnd.jupyter.widget-view+json": {
       "model_id": "2d7023340336448d8e22936624e92d27",
       "version_major": 2,
       "version_minor": 0
      },
      "text/plain": [
       "  0%|          | Repairing epochs : 0/20 [00:00<?,       ?it/s]"
      ]
     },
     "metadata": {},
     "output_type": "display_data"
    },
    {
     "data": {
      "application/vnd.jupyter.widget-view+json": {
       "model_id": "e459352ba4174388ae387bac8adec749",
       "version_major": 2,
       "version_minor": 0
      },
      "text/plain": [
       "  0%|          | Fold : 0/10 [00:00<?,       ?it/s]"
      ]
     },
     "metadata": {},
     "output_type": "display_data"
    },
    {
     "name": "stdout",
     "output_type": "stream",
     "text": [
      "\n",
      "\n",
      "\n",
      "\n",
      "Estimated consensus=0.60 and n_interpolate=32\n"
     ]
    },
    {
     "data": {
      "application/vnd.jupyter.widget-view+json": {
       "model_id": "ee9f04df906643c09c213de8c4b7243a",
       "version_major": 2,
       "version_minor": 0
      },
      "text/plain": [
       "  0%|          | Repairing epochs : 0/1060 [00:00<?,       ?it/s]"
      ]
     },
     "metadata": {},
     "output_type": "display_data"
    },
    {
     "name": "stdout",
     "output_type": "stream",
     "text": [
      "Dropped 91 epochs: 61, 62, 98, 109, 110, 152, 158, 160, 208, 209, 226, 253, 289, 358, 387, 414, 415, 416, 424, 429, 500, 501, 527, 531, 540, 543, 547, 548, 556, 557, 559, 560, 561, 562, 565, 568, 575, 583, 654, 688, 702, 723, 729, 735, 736, 743, 756, 757, 758, 762, 764, 767, 769, 774, 775, 778, 781, 782, 798, 801, 802, 821, 824, 830, 833, 834, 837, 838, 839, 841, 853, 854, 856, 872, 878, 879, 889, 892, 894, 933, 934, 948, 957, 958, 963, 973, 990, 998, 999, 1035, 1036\n",
      "Overwriting existing file.\n",
      "Overwriting existing file.\n"
     ]
    },
    {
     "name": "stderr",
     "output_type": "stream",
     "text": [
      "C:\\Users\\annad\\AppData\\Local\\Temp\\ipykernel_172744\\2105183387.py:20: RuntimeWarning: This filename (C:/Users/annad/Documents/Thesis/Data/Stimlocked_fixed_index/VP1_epo_t2.fif) does not conform to MNE naming conventions. All epochs files should end with -epo.fif, -epo.fif.gz, _epo.fif or _epo.fif.gz\n",
      "  epochs.save(path+'Stimlocked_fixed_index/%s_epo_t2.fif'%subj, overwrite=True)\n"
     ]
    },
    {
     "name": "stdout",
     "output_type": "stream",
     "text": [
      "Opening raw data file C:/Users/annad/Documents/Thesis/Data/Post ICA/post_ica_VP20_raw.fif...\n",
      "    Range : 0 ... 2334207 =      0.000 ...  4558.998 secs\n",
      "Ready.\n",
      "Reading 0 ... 2334207  =      0.000 ...  4558.998 secs...\n",
      "Trigger channel Status has a non-zero initial value of {initial_value} (consider using initial_event=True to detect this event)\n",
      "Removing orphaned offset at the beginning of the file.\n",
      "6492 events found on stim channel Status\n",
      "Event IDs: [  1   2   3   4   5   6  11  12  16  20  21  22  31  32  64  66 128 131]\n",
      "Adding metadata with 3 columns\n",
      "1280 matching events found\n",
      "Setting baseline interval to [-0.25, 0.0] s\n",
      "Applying baseline correction (mode: mean)\n",
      "Using data from preloaded Raw for 1280 events and 1153 original time points ...\n",
      "8 bad epochs dropped\n",
      "Running autoreject on ch_type=eeg\n"
     ]
    },
    {
     "data": {
      "application/vnd.jupyter.widget-view+json": {
       "model_id": "cd95eb1e83614f8fab219b0eb8330027",
       "version_major": 2,
       "version_minor": 0
      },
      "text/plain": [
       "  0%|          | Creating augmented epochs : 0/64 [00:00<?,       ?it/s]"
      ]
     },
     "metadata": {},
     "output_type": "display_data"
    },
    {
     "data": {
      "application/vnd.jupyter.widget-view+json": {
       "model_id": "8f61dffc75084ef6a7f25d6b27af2248",
       "version_major": 2,
       "version_minor": 0
      },
      "text/plain": [
       "  0%|          | Computing thresholds ... : 0/64 [00:00<?,       ?it/s]"
      ]
     },
     "metadata": {},
     "output_type": "display_data"
    },
    {
     "data": {
      "application/vnd.jupyter.widget-view+json": {
       "model_id": "4fbbb6832363408587dfb7b234514b60",
       "version_major": 2,
       "version_minor": 0
      },
      "text/plain": [
       "  0%|          | Repairing epochs : 0/20 [00:00<?,       ?it/s]"
      ]
     },
     "metadata": {},
     "output_type": "display_data"
    },
    {
     "data": {
      "application/vnd.jupyter.widget-view+json": {
       "model_id": "6fa1c38726344818ab047abcf339a100",
       "version_major": 2,
       "version_minor": 0
      },
      "text/plain": [
       "  0%|          | n_interp : 0/3 [00:00<?,       ?it/s]"
      ]
     },
     "metadata": {},
     "output_type": "display_data"
    },
    {
     "data": {
      "application/vnd.jupyter.widget-view+json": {
       "model_id": "ec73025de317460bb1e15414d1e50def",
       "version_major": 2,
       "version_minor": 0
      },
      "text/plain": [
       "  0%|          | Repairing epochs : 0/20 [00:00<?,       ?it/s]"
      ]
     },
     "metadata": {},
     "output_type": "display_data"
    },
    {
     "data": {
      "application/vnd.jupyter.widget-view+json": {
       "model_id": "2d4c1e644c4a40c381e00c4633137ff1",
       "version_major": 2,
       "version_minor": 0
      },
      "text/plain": [
       "  0%|          | Fold : 0/10 [00:00<?,       ?it/s]"
      ]
     },
     "metadata": {},
     "output_type": "display_data"
    },
    {
     "data": {
      "application/vnd.jupyter.widget-view+json": {
       "model_id": "f9074129cb89481c9ad6181510a2e662",
       "version_major": 2,
       "version_minor": 0
      },
      "text/plain": [
       "  0%|          | Repairing epochs : 0/20 [00:00<?,       ?it/s]"
      ]
     },
     "metadata": {},
     "output_type": "display_data"
    },
    {
     "data": {
      "application/vnd.jupyter.widget-view+json": {
       "model_id": "ed0bbedd3c7841a88c60ce28324918cb",
       "version_major": 2,
       "version_minor": 0
      },
      "text/plain": [
       "  0%|          | Fold : 0/10 [00:00<?,       ?it/s]"
      ]
     },
     "metadata": {},
     "output_type": "display_data"
    },
    {
     "data": {
      "application/vnd.jupyter.widget-view+json": {
       "model_id": "137e45c5947b4341af02979e41499478",
       "version_major": 2,
       "version_minor": 0
      },
      "text/plain": [
       "  0%|          | Repairing epochs : 0/20 [00:00<?,       ?it/s]"
      ]
     },
     "metadata": {},
     "output_type": "display_data"
    },
    {
     "data": {
      "application/vnd.jupyter.widget-view+json": {
       "model_id": "32c98848eba54152bd08ddda08c03691",
       "version_major": 2,
       "version_minor": 0
      },
      "text/plain": [
       "  0%|          | Fold : 0/10 [00:00<?,       ?it/s]"
      ]
     },
     "metadata": {},
     "output_type": "display_data"
    },
    {
     "name": "stdout",
     "output_type": "stream",
     "text": [
      "\n",
      "\n",
      "\n",
      "\n",
      "Estimated consensus=0.60 and n_interpolate=32\n"
     ]
    },
    {
     "data": {
      "application/vnd.jupyter.widget-view+json": {
       "model_id": "ace425f6bcac4deeab4fe6dcdb2f1830",
       "version_major": 2,
       "version_minor": 0
      },
      "text/plain": [
       "  0%|          | Repairing epochs : 0/1272 [00:00<?,       ?it/s]"
      ]
     },
     "metadata": {},
     "output_type": "display_data"
    },
    {
     "name": "stdout",
     "output_type": "stream",
     "text": [
      "Dropped 83 epochs: 48, 174, 175, 242, 243, 255, 256, 272, 274, 288, 306, 316, 341, 361, 367, 380, 389, 407, 408, 432, 450, 452, 462, 512, 519, 535, 559, 618, 624, 628, 634, 657, 683, 717, 732, 733, 760, 765, 772, 798, 799, 800, 803, 816, 817, 826, 832, 843, 844, 846, 872, 874, 875, 885, 910, 923, 924, 926, 939, 952, 958, 962, 963, 968, 993, 994, 995, 1011, 1014, 1017, 1033, 1049, 1119, 1121, 1122, 1134, 1151, 1155, 1164, 1197, 1214, 1230, 1268\n",
      "Overwriting existing file.\n"
     ]
    },
    {
     "name": "stderr",
     "output_type": "stream",
     "text": [
      "C:\\Users\\annad\\AppData\\Local\\Temp\\ipykernel_172744\\2105183387.py:20: RuntimeWarning: This filename (C:/Users/annad/Documents/Thesis/Data/Stimlocked_fixed_index/VP20_epo_t2.fif) does not conform to MNE naming conventions. All epochs files should end with -epo.fif, -epo.fif.gz, _epo.fif or _epo.fif.gz\n",
      "  epochs.save(path+'Stimlocked_fixed_index/%s_epo_t2.fif'%subj, overwrite=True)\n"
     ]
    },
    {
     "name": "stdout",
     "output_type": "stream",
     "text": [
      "Overwriting existing file.\n",
      "Opening raw data file C:/Users/annad/Documents/Thesis/Data/Post ICA/post_ica_VP21_raw.fif...\n",
      "    Range : 0 ... 2057727 =      0.000 ...  4018.998 secs\n",
      "Ready.\n",
      "Reading 0 ... 2057727  =      0.000 ...  4018.998 secs...\n",
      "Trigger channel Status has a non-zero initial value of {initial_value} (consider using initial_event=True to detect this event)\n",
      "Removing orphaned offset at the beginning of the file.\n",
      "6456 events found on stim channel Status\n",
      "Event IDs: [  1   2   3   4   5   6  11  12  16  21  22  31  32  64  66  68 128 130]\n",
      "Adding metadata with 3 columns\n",
      "1244 matching events found\n",
      "Setting baseline interval to [-0.25, 0.0] s\n",
      "Applying baseline correction (mode: mean)\n",
      "Using data from preloaded Raw for 1244 events and 1153 original time points ...\n",
      "3 bad epochs dropped\n",
      "Running autoreject on ch_type=eeg\n"
     ]
    },
    {
     "data": {
      "application/vnd.jupyter.widget-view+json": {
       "model_id": "924f2557c52342e38162953cac45b73e",
       "version_major": 2,
       "version_minor": 0
      },
      "text/plain": [
       "  0%|          | Creating augmented epochs : 0/64 [00:00<?,       ?it/s]"
      ]
     },
     "metadata": {},
     "output_type": "display_data"
    },
    {
     "data": {
      "application/vnd.jupyter.widget-view+json": {
       "model_id": "c821f5ff782b420aa207e76028ea62da",
       "version_major": 2,
       "version_minor": 0
      },
      "text/plain": [
       "  0%|          | Computing thresholds ... : 0/64 [00:00<?,       ?it/s]"
      ]
     },
     "metadata": {},
     "output_type": "display_data"
    },
    {
     "data": {
      "application/vnd.jupyter.widget-view+json": {
       "model_id": "c91bc3b1b4014a619434cf1d912cc987",
       "version_major": 2,
       "version_minor": 0
      },
      "text/plain": [
       "  0%|          | Repairing epochs : 0/20 [00:00<?,       ?it/s]"
      ]
     },
     "metadata": {},
     "output_type": "display_data"
    },
    {
     "data": {
      "application/vnd.jupyter.widget-view+json": {
       "model_id": "dda8f63ad4c6474491ed2b9e7fd74336",
       "version_major": 2,
       "version_minor": 0
      },
      "text/plain": [
       "  0%|          | n_interp : 0/3 [00:00<?,       ?it/s]"
      ]
     },
     "metadata": {},
     "output_type": "display_data"
    },
    {
     "data": {
      "application/vnd.jupyter.widget-view+json": {
       "model_id": "03fb7cd97081426cb026a8f7d1d5a4ef",
       "version_major": 2,
       "version_minor": 0
      },
      "text/plain": [
       "  0%|          | Repairing epochs : 0/20 [00:00<?,       ?it/s]"
      ]
     },
     "metadata": {},
     "output_type": "display_data"
    },
    {
     "data": {
      "application/vnd.jupyter.widget-view+json": {
       "model_id": "51c2866fc19e40919a1e6e1a3848034e",
       "version_major": 2,
       "version_minor": 0
      },
      "text/plain": [
       "  0%|          | Fold : 0/10 [00:00<?,       ?it/s]"
      ]
     },
     "metadata": {},
     "output_type": "display_data"
    },
    {
     "data": {
      "application/vnd.jupyter.widget-view+json": {
       "model_id": "c30a61d9a1164c468dc55b358c915ada",
       "version_major": 2,
       "version_minor": 0
      },
      "text/plain": [
       "  0%|          | Repairing epochs : 0/20 [00:00<?,       ?it/s]"
      ]
     },
     "metadata": {},
     "output_type": "display_data"
    },
    {
     "data": {
      "application/vnd.jupyter.widget-view+json": {
       "model_id": "1cfc4d7e48124bf597af3d16207b75c6",
       "version_major": 2,
       "version_minor": 0
      },
      "text/plain": [
       "  0%|          | Fold : 0/10 [00:00<?,       ?it/s]"
      ]
     },
     "metadata": {},
     "output_type": "display_data"
    },
    {
     "data": {
      "application/vnd.jupyter.widget-view+json": {
       "model_id": "3110bb99d2f8435abe204a3054adca05",
       "version_major": 2,
       "version_minor": 0
      },
      "text/plain": [
       "  0%|          | Repairing epochs : 0/20 [00:00<?,       ?it/s]"
      ]
     },
     "metadata": {},
     "output_type": "display_data"
    },
    {
     "data": {
      "application/vnd.jupyter.widget-view+json": {
       "model_id": "18a0713d11ba41b8b559e60fedded35c",
       "version_major": 2,
       "version_minor": 0
      },
      "text/plain": [
       "  0%|          | Fold : 0/10 [00:00<?,       ?it/s]"
      ]
     },
     "metadata": {},
     "output_type": "display_data"
    },
    {
     "name": "stdout",
     "output_type": "stream",
     "text": [
      "\n",
      "\n",
      "\n",
      "\n",
      "Estimated consensus=0.70 and n_interpolate=32\n"
     ]
    },
    {
     "data": {
      "application/vnd.jupyter.widget-view+json": {
       "model_id": "7e6685d30eda4526be4297a88b82e36f",
       "version_major": 2,
       "version_minor": 0
      },
      "text/plain": [
       "  0%|          | Repairing epochs : 0/1241 [00:00<?,       ?it/s]"
      ]
     },
     "metadata": {},
     "output_type": "display_data"
    },
    {
     "name": "stdout",
     "output_type": "stream",
     "text": [
      "Dropped 9 epochs: 192, 381, 516, 625, 805, 806, 876, 988, 1179\n",
      "Overwriting existing file.\n"
     ]
    },
    {
     "name": "stderr",
     "output_type": "stream",
     "text": [
      "C:\\Users\\annad\\AppData\\Local\\Temp\\ipykernel_172744\\2105183387.py:20: RuntimeWarning: This filename (C:/Users/annad/Documents/Thesis/Data/Stimlocked_fixed_index/VP21_epo_t2.fif) does not conform to MNE naming conventions. All epochs files should end with -epo.fif, -epo.fif.gz, _epo.fif or _epo.fif.gz\n",
      "  epochs.save(path+'Stimlocked_fixed_index/%s_epo_t2.fif'%subj, overwrite=True)\n"
     ]
    },
    {
     "name": "stdout",
     "output_type": "stream",
     "text": [
      "Overwriting existing file.\n",
      "Opening raw data file C:/Users/annad/Documents/Thesis/Data/Post ICA/post_ica_VP22_raw.fif...\n",
      "    Range : 0 ... 2079743 =      0.000 ...  4061.998 secs\n",
      "Ready.\n",
      "Reading 0 ... 2079743  =      0.000 ...  4061.998 secs...\n",
      "Trigger channel Status has a non-zero initial value of {initial_value} (consider using initial_event=True to detect this event)\n",
      "Removing orphaned offset at the beginning of the file.\n",
      "6488 events found on stim channel Status\n",
      "Event IDs: [  1   2   3   4   5   6  11  12  16  21  22  31  32  64 128]\n",
      "Adding metadata with 3 columns\n",
      "1285 matching events found\n",
      "Setting baseline interval to [-0.25, 0.0] s\n",
      "Applying baseline correction (mode: mean)\n",
      "Using data from preloaded Raw for 1285 events and 1153 original time points ...\n",
      "9 bad epochs dropped\n",
      "Running autoreject on ch_type=eeg\n"
     ]
    },
    {
     "data": {
      "application/vnd.jupyter.widget-view+json": {
       "model_id": "dbed34790e4d41549560f46503c08ae0",
       "version_major": 2,
       "version_minor": 0
      },
      "text/plain": [
       "  0%|          | Creating augmented epochs : 0/64 [00:00<?,       ?it/s]"
      ]
     },
     "metadata": {},
     "output_type": "display_data"
    },
    {
     "data": {
      "application/vnd.jupyter.widget-view+json": {
       "model_id": "5a641f7b08a54a64a7a33cdcd0783671",
       "version_major": 2,
       "version_minor": 0
      },
      "text/plain": [
       "  0%|          | Computing thresholds ... : 0/64 [00:00<?,       ?it/s]"
      ]
     },
     "metadata": {},
     "output_type": "display_data"
    },
    {
     "data": {
      "application/vnd.jupyter.widget-view+json": {
       "model_id": "d24da629278847bfb2e234d8d97029eb",
       "version_major": 2,
       "version_minor": 0
      },
      "text/plain": [
       "  0%|          | Repairing epochs : 0/20 [00:00<?,       ?it/s]"
      ]
     },
     "metadata": {},
     "output_type": "display_data"
    },
    {
     "data": {
      "application/vnd.jupyter.widget-view+json": {
       "model_id": "8d122a4861214299a1c6864b09c3756e",
       "version_major": 2,
       "version_minor": 0
      },
      "text/plain": [
       "  0%|          | n_interp : 0/3 [00:00<?,       ?it/s]"
      ]
     },
     "metadata": {},
     "output_type": "display_data"
    },
    {
     "data": {
      "application/vnd.jupyter.widget-view+json": {
       "model_id": "c327ec6209dc44b3b8b62a4eba177184",
       "version_major": 2,
       "version_minor": 0
      },
      "text/plain": [
       "  0%|          | Repairing epochs : 0/20 [00:00<?,       ?it/s]"
      ]
     },
     "metadata": {},
     "output_type": "display_data"
    },
    {
     "data": {
      "application/vnd.jupyter.widget-view+json": {
       "model_id": "23f94e899da5454b867012dc45bd7ee5",
       "version_major": 2,
       "version_minor": 0
      },
      "text/plain": [
       "  0%|          | Fold : 0/10 [00:00<?,       ?it/s]"
      ]
     },
     "metadata": {},
     "output_type": "display_data"
    },
    {
     "data": {
      "application/vnd.jupyter.widget-view+json": {
       "model_id": "e84c962f4c9e4226aaa562ecd04d0dde",
       "version_major": 2,
       "version_minor": 0
      },
      "text/plain": [
       "  0%|          | Repairing epochs : 0/20 [00:00<?,       ?it/s]"
      ]
     },
     "metadata": {},
     "output_type": "display_data"
    },
    {
     "data": {
      "application/vnd.jupyter.widget-view+json": {
       "model_id": "9b4c0bffeae94ac393103c34a5a99937",
       "version_major": 2,
       "version_minor": 0
      },
      "text/plain": [
       "  0%|          | Fold : 0/10 [00:00<?,       ?it/s]"
      ]
     },
     "metadata": {},
     "output_type": "display_data"
    },
    {
     "data": {
      "application/vnd.jupyter.widget-view+json": {
       "model_id": "0ff4501a21484841a413a03269eabfa0",
       "version_major": 2,
       "version_minor": 0
      },
      "text/plain": [
       "  0%|          | Repairing epochs : 0/20 [00:00<?,       ?it/s]"
      ]
     },
     "metadata": {},
     "output_type": "display_data"
    },
    {
     "data": {
      "application/vnd.jupyter.widget-view+json": {
       "model_id": "3164781f37e243bfb2fe45b91bc0b547",
       "version_major": 2,
       "version_minor": 0
      },
      "text/plain": [
       "  0%|          | Fold : 0/10 [00:00<?,       ?it/s]"
      ]
     },
     "metadata": {},
     "output_type": "display_data"
    },
    {
     "name": "stdout",
     "output_type": "stream",
     "text": [
      "\n",
      "\n",
      "\n",
      "\n",
      "Estimated consensus=0.60 and n_interpolate=32\n"
     ]
    },
    {
     "data": {
      "application/vnd.jupyter.widget-view+json": {
       "model_id": "5e3a64eae54d4c47a7927ac4c3f8ede7",
       "version_major": 2,
       "version_minor": 0
      },
      "text/plain": [
       "  0%|          | Repairing epochs : 0/1276 [00:00<?,       ?it/s]"
      ]
     },
     "metadata": {},
     "output_type": "display_data"
    },
    {
     "name": "stdout",
     "output_type": "stream",
     "text": [
      "Dropped 64 epochs: 31, 211, 304, 318, 330, 529, 530, 531, 532, 533, 534, 535, 536, 537, 538, 539, 540, 541, 542, 543, 544, 545, 546, 547, 548, 549, 550, 551, 552, 553, 554, 555, 556, 557, 558, 559, 768, 820, 850, 851, 852, 853, 854, 883, 907, 908, 909, 910, 922, 1054, 1055, 1056, 1062, 1078, 1134, 1170, 1174, 1180, 1181, 1185, 1186, 1248, 1252, 1274\n",
      "Overwriting existing file.\n"
     ]
    },
    {
     "name": "stderr",
     "output_type": "stream",
     "text": [
      "C:\\Users\\annad\\AppData\\Local\\Temp\\ipykernel_172744\\2105183387.py:20: RuntimeWarning: This filename (C:/Users/annad/Documents/Thesis/Data/Stimlocked_fixed_index/VP22_epo_t2.fif) does not conform to MNE naming conventions. All epochs files should end with -epo.fif, -epo.fif.gz, _epo.fif or _epo.fif.gz\n",
      "  epochs.save(path+'Stimlocked_fixed_index/%s_epo_t2.fif'%subj, overwrite=True)\n"
     ]
    },
    {
     "name": "stdout",
     "output_type": "stream",
     "text": [
      "Overwriting existing file.\n",
      "Opening raw data file C:/Users/annad/Documents/Thesis/Data/Post ICA/post_ica_VP23_raw.fif...\n",
      "    Range : 0 ... 1972735 =      0.000 ...  3852.998 secs\n",
      "Ready.\n",
      "Reading 0 ... 1972735  =      0.000 ...  3852.998 secs...\n",
      "Trigger channel Status has a non-zero initial value of {initial_value} (consider using initial_event=True to detect this event)\n",
      "Removing orphaned offset at the beginning of the file.\n",
      "6481 events found on stim channel Status\n",
      "Event IDs: [  1   2   3   4   5   6  11  12  16  21  22  31  32  64  65 128 129]\n",
      "Adding metadata with 3 columns\n",
      "1281 matching events found\n",
      "Setting baseline interval to [-0.25, 0.0] s\n",
      "Applying baseline correction (mode: mean)\n",
      "Using data from preloaded Raw for 1281 events and 1153 original time points ...\n",
      "7 bad epochs dropped\n",
      "Running autoreject on ch_type=eeg\n"
     ]
    },
    {
     "data": {
      "application/vnd.jupyter.widget-view+json": {
       "model_id": "b6fd24b5c09a4fc2b18670476aa45e64",
       "version_major": 2,
       "version_minor": 0
      },
      "text/plain": [
       "  0%|          | Creating augmented epochs : 0/64 [00:00<?,       ?it/s]"
      ]
     },
     "metadata": {},
     "output_type": "display_data"
    },
    {
     "data": {
      "application/vnd.jupyter.widget-view+json": {
       "model_id": "ea65c5881a8148b28e393899664306fd",
       "version_major": 2,
       "version_minor": 0
      },
      "text/plain": [
       "  0%|          | Computing thresholds ... : 0/64 [00:00<?,       ?it/s]"
      ]
     },
     "metadata": {},
     "output_type": "display_data"
    },
    {
     "data": {
      "application/vnd.jupyter.widget-view+json": {
       "model_id": "5f032513c4324826b6bea41177659f57",
       "version_major": 2,
       "version_minor": 0
      },
      "text/plain": [
       "  0%|          | Repairing epochs : 0/20 [00:00<?,       ?it/s]"
      ]
     },
     "metadata": {},
     "output_type": "display_data"
    },
    {
     "data": {
      "application/vnd.jupyter.widget-view+json": {
       "model_id": "6b09a8e25bd2491dab50ecb74a72cd90",
       "version_major": 2,
       "version_minor": 0
      },
      "text/plain": [
       "  0%|          | n_interp : 0/3 [00:00<?,       ?it/s]"
      ]
     },
     "metadata": {},
     "output_type": "display_data"
    },
    {
     "data": {
      "application/vnd.jupyter.widget-view+json": {
       "model_id": "7024af22b91d4255afe5bd4b2468cefb",
       "version_major": 2,
       "version_minor": 0
      },
      "text/plain": [
       "  0%|          | Repairing epochs : 0/20 [00:00<?,       ?it/s]"
      ]
     },
     "metadata": {},
     "output_type": "display_data"
    },
    {
     "data": {
      "application/vnd.jupyter.widget-view+json": {
       "model_id": "b2baaa77985d4dfb892fa935898dbb72",
       "version_major": 2,
       "version_minor": 0
      },
      "text/plain": [
       "  0%|          | Fold : 0/10 [00:00<?,       ?it/s]"
      ]
     },
     "metadata": {},
     "output_type": "display_data"
    },
    {
     "data": {
      "application/vnd.jupyter.widget-view+json": {
       "model_id": "c661c952fe1a4497a1b7d5a90b2730cc",
       "version_major": 2,
       "version_minor": 0
      },
      "text/plain": [
       "  0%|          | Repairing epochs : 0/20 [00:00<?,       ?it/s]"
      ]
     },
     "metadata": {},
     "output_type": "display_data"
    },
    {
     "data": {
      "application/vnd.jupyter.widget-view+json": {
       "model_id": "c8ead0cf157d4764a7f64f17af7b84d3",
       "version_major": 2,
       "version_minor": 0
      },
      "text/plain": [
       "  0%|          | Fold : 0/10 [00:00<?,       ?it/s]"
      ]
     },
     "metadata": {},
     "output_type": "display_data"
    },
    {
     "data": {
      "application/vnd.jupyter.widget-view+json": {
       "model_id": "4295e95d842f4ef9a6414a325f5b6939",
       "version_major": 2,
       "version_minor": 0
      },
      "text/plain": [
       "  0%|          | Repairing epochs : 0/20 [00:00<?,       ?it/s]"
      ]
     },
     "metadata": {},
     "output_type": "display_data"
    },
    {
     "data": {
      "application/vnd.jupyter.widget-view+json": {
       "model_id": "add01ddc9cd94d0a907d13ed14953074",
       "version_major": 2,
       "version_minor": 0
      },
      "text/plain": [
       "  0%|          | Fold : 0/10 [00:00<?,       ?it/s]"
      ]
     },
     "metadata": {},
     "output_type": "display_data"
    },
    {
     "name": "stdout",
     "output_type": "stream",
     "text": [
      "\n",
      "\n",
      "\n",
      "\n",
      "Estimated consensus=0.60 and n_interpolate=32\n"
     ]
    },
    {
     "data": {
      "application/vnd.jupyter.widget-view+json": {
       "model_id": "bc3d21c27a2b493184c1af5ea5f11718",
       "version_major": 2,
       "version_minor": 0
      },
      "text/plain": [
       "  0%|          | Repairing epochs : 0/1274 [00:00<?,       ?it/s]"
      ]
     },
     "metadata": {},
     "output_type": "display_data"
    },
    {
     "name": "stdout",
     "output_type": "stream",
     "text": [
      "Dropped 66 epochs: 30, 32, 36, 38, 63, 66, 75, 78, 141, 183, 184, 211, 262, 263, 264, 267, 269, 271, 272, 274, 275, 276, 277, 278, 282, 292, 298, 314, 425, 426, 427, 428, 434, 435, 491, 492, 501, 508, 551, 553, 639, 640, 664, 665, 666, 670, 679, 680, 687, 688, 689, 690, 693, 982, 983, 1058, 1059, 1060, 1061, 1083, 1084, 1101, 1149, 1207, 1208, 1209\n",
      "Overwriting existing file.\n"
     ]
    },
    {
     "name": "stderr",
     "output_type": "stream",
     "text": [
      "C:\\Users\\annad\\AppData\\Local\\Temp\\ipykernel_172744\\2105183387.py:20: RuntimeWarning: This filename (C:/Users/annad/Documents/Thesis/Data/Stimlocked_fixed_index/VP23_epo_t2.fif) does not conform to MNE naming conventions. All epochs files should end with -epo.fif, -epo.fif.gz, _epo.fif or _epo.fif.gz\n",
      "  epochs.save(path+'Stimlocked_fixed_index/%s_epo_t2.fif'%subj, overwrite=True)\n"
     ]
    },
    {
     "name": "stdout",
     "output_type": "stream",
     "text": [
      "Overwriting existing file.\n",
      "Opening raw data file C:/Users/annad/Documents/Thesis/Data/Post ICA/post_ica_VP24_raw.fif...\n",
      "    Range : 0 ... 2479103 =      0.000 ...  4841.998 secs\n",
      "Ready.\n",
      "Reading 0 ... 2479103  =      0.000 ...  4841.998 secs...\n",
      "Trigger channel Status has a non-zero initial value of {initial_value} (consider using initial_event=True to detect this event)\n",
      "Removing orphaned offset at the beginning of the file.\n",
      "6470 events found on stim channel Status\n",
      "Event IDs: [  1   2   3   4   5   6  11  12  16  21  22  31  32  64  65 128]\n",
      "Adding metadata with 3 columns\n",
      "1257 matching events found\n",
      "Setting baseline interval to [-0.25, 0.0] s\n",
      "Applying baseline correction (mode: mean)\n",
      "Using data from preloaded Raw for 1257 events and 1153 original time points ...\n",
      "7 bad epochs dropped\n",
      "Running autoreject on ch_type=eeg\n"
     ]
    },
    {
     "data": {
      "application/vnd.jupyter.widget-view+json": {
       "model_id": "d1d15fccd2c34bfdb930f067909cd67d",
       "version_major": 2,
       "version_minor": 0
      },
      "text/plain": [
       "  0%|          | Creating augmented epochs : 0/64 [00:00<?,       ?it/s]"
      ]
     },
     "metadata": {},
     "output_type": "display_data"
    },
    {
     "data": {
      "application/vnd.jupyter.widget-view+json": {
       "model_id": "74dba636a2994918a7e4d7a2e438ea94",
       "version_major": 2,
       "version_minor": 0
      },
      "text/plain": [
       "  0%|          | Computing thresholds ... : 0/64 [00:00<?,       ?it/s]"
      ]
     },
     "metadata": {},
     "output_type": "display_data"
    },
    {
     "data": {
      "application/vnd.jupyter.widget-view+json": {
       "model_id": "0c45c94ecfa743d1b43d7cfe48ab8cde",
       "version_major": 2,
       "version_minor": 0
      },
      "text/plain": [
       "  0%|          | Repairing epochs : 0/20 [00:00<?,       ?it/s]"
      ]
     },
     "metadata": {},
     "output_type": "display_data"
    },
    {
     "data": {
      "application/vnd.jupyter.widget-view+json": {
       "model_id": "43c724918c3848c5a7b547f10f421ac9",
       "version_major": 2,
       "version_minor": 0
      },
      "text/plain": [
       "  0%|          | n_interp : 0/3 [00:00<?,       ?it/s]"
      ]
     },
     "metadata": {},
     "output_type": "display_data"
    },
    {
     "data": {
      "application/vnd.jupyter.widget-view+json": {
       "model_id": "a9ce0238399044adb3a2793e60aa2836",
       "version_major": 2,
       "version_minor": 0
      },
      "text/plain": [
       "  0%|          | Repairing epochs : 0/20 [00:00<?,       ?it/s]"
      ]
     },
     "metadata": {},
     "output_type": "display_data"
    },
    {
     "data": {
      "application/vnd.jupyter.widget-view+json": {
       "model_id": "46aadd576c5e47a2be247d57d5543b95",
       "version_major": 2,
       "version_minor": 0
      },
      "text/plain": [
       "  0%|          | Fold : 0/10 [00:00<?,       ?it/s]"
      ]
     },
     "metadata": {},
     "output_type": "display_data"
    },
    {
     "data": {
      "application/vnd.jupyter.widget-view+json": {
       "model_id": "96408d0d1fdb46159f91e799d4823091",
       "version_major": 2,
       "version_minor": 0
      },
      "text/plain": [
       "  0%|          | Repairing epochs : 0/20 [00:00<?,       ?it/s]"
      ]
     },
     "metadata": {},
     "output_type": "display_data"
    },
    {
     "data": {
      "application/vnd.jupyter.widget-view+json": {
       "model_id": "461e4142595e474aae8e88c2c2e2734e",
       "version_major": 2,
       "version_minor": 0
      },
      "text/plain": [
       "  0%|          | Fold : 0/10 [00:00<?,       ?it/s]"
      ]
     },
     "metadata": {},
     "output_type": "display_data"
    },
    {
     "data": {
      "application/vnd.jupyter.widget-view+json": {
       "model_id": "10833f9383584dc1a995b4bcf72981f5",
       "version_major": 2,
       "version_minor": 0
      },
      "text/plain": [
       "  0%|          | Repairing epochs : 0/20 [00:00<?,       ?it/s]"
      ]
     },
     "metadata": {},
     "output_type": "display_data"
    },
    {
     "data": {
      "application/vnd.jupyter.widget-view+json": {
       "model_id": "9827c17f01d64357889f0778ef3f3293",
       "version_major": 2,
       "version_minor": 0
      },
      "text/plain": [
       "  0%|          | Fold : 0/10 [00:00<?,       ?it/s]"
      ]
     },
     "metadata": {},
     "output_type": "display_data"
    },
    {
     "name": "stdout",
     "output_type": "stream",
     "text": [
      "\n",
      "\n",
      "\n",
      "\n",
      "Estimated consensus=0.70 and n_interpolate=32\n"
     ]
    },
    {
     "data": {
      "application/vnd.jupyter.widget-view+json": {
       "model_id": "fd73caf45b1f4589844da5e58f154ff4",
       "version_major": 2,
       "version_minor": 0
      },
      "text/plain": [
       "  0%|          | Repairing epochs : 0/1250 [00:00<?,       ?it/s]"
      ]
     },
     "metadata": {},
     "output_type": "display_data"
    },
    {
     "name": "stdout",
     "output_type": "stream",
     "text": [
      "Dropped 38 epochs: 37, 95, 97, 174, 178, 198, 210, 213, 294, 295, 312, 365, 366, 497, 498, 569, 570, 619, 620, 622, 623, 634, 635, 672, 722, 731, 824, 870, 916, 918, 928, 1036, 1076, 1143, 1144, 1147, 1181, 1218\n",
      "Overwriting existing file.\n"
     ]
    },
    {
     "name": "stderr",
     "output_type": "stream",
     "text": [
      "C:\\Users\\annad\\AppData\\Local\\Temp\\ipykernel_172744\\2105183387.py:20: RuntimeWarning: This filename (C:/Users/annad/Documents/Thesis/Data/Stimlocked_fixed_index/VP24_epo_t2.fif) does not conform to MNE naming conventions. All epochs files should end with -epo.fif, -epo.fif.gz, _epo.fif or _epo.fif.gz\n",
      "  epochs.save(path+'Stimlocked_fixed_index/%s_epo_t2.fif'%subj, overwrite=True)\n"
     ]
    },
    {
     "name": "stdout",
     "output_type": "stream",
     "text": [
      "Overwriting existing file.\n",
      "Opening raw data file C:/Users/annad/Documents/Thesis/Data/Post ICA/post_ica_VP2_raw.fif...\n",
      "    Range : 0 ... 2137599 =      0.000 ...  4174.998 secs\n",
      "Ready.\n",
      "Reading 0 ... 2137599  =      0.000 ...  4174.998 secs...\n",
      "Trigger channel Status has a non-zero initial value of {initial_value} (consider using initial_event=True to detect this event)\n",
      "Removing orphaned offset at the beginning of the file.\n",
      "6472 events found on stim channel Status\n",
      "Event IDs: [  1   2   3   4   5   6  11  12  16  21  22  31  32  64  65  66 128 129\n",
      " 130 131]\n",
      "Adding metadata with 3 columns\n",
      "1278 matching events found\n",
      "Setting baseline interval to [-0.25, 0.0] s\n",
      "Applying baseline correction (mode: mean)\n",
      "Using data from preloaded Raw for 1278 events and 1153 original time points ...\n",
      "6 bad epochs dropped\n",
      "Running autoreject on ch_type=eeg\n"
     ]
    },
    {
     "data": {
      "application/vnd.jupyter.widget-view+json": {
       "model_id": "3b46f2ae14c340cd8ce96e3652c074b3",
       "version_major": 2,
       "version_minor": 0
      },
      "text/plain": [
       "  0%|          | Creating augmented epochs : 0/64 [00:00<?,       ?it/s]"
      ]
     },
     "metadata": {},
     "output_type": "display_data"
    },
    {
     "data": {
      "application/vnd.jupyter.widget-view+json": {
       "model_id": "687f1644be54427d98d69c74088bd08b",
       "version_major": 2,
       "version_minor": 0
      },
      "text/plain": [
       "  0%|          | Computing thresholds ... : 0/64 [00:00<?,       ?it/s]"
      ]
     },
     "metadata": {},
     "output_type": "display_data"
    },
    {
     "data": {
      "application/vnd.jupyter.widget-view+json": {
       "model_id": "9f2281f51c634c2a87438dc1274009ac",
       "version_major": 2,
       "version_minor": 0
      },
      "text/plain": [
       "  0%|          | Repairing epochs : 0/20 [00:00<?,       ?it/s]"
      ]
     },
     "metadata": {},
     "output_type": "display_data"
    },
    {
     "data": {
      "application/vnd.jupyter.widget-view+json": {
       "model_id": "2616e9c56c6e41118ce4312449082dce",
       "version_major": 2,
       "version_minor": 0
      },
      "text/plain": [
       "  0%|          | n_interp : 0/3 [00:00<?,       ?it/s]"
      ]
     },
     "metadata": {},
     "output_type": "display_data"
    },
    {
     "data": {
      "application/vnd.jupyter.widget-view+json": {
       "model_id": "47139bb80c1a4bf39a14f4d4e0441792",
       "version_major": 2,
       "version_minor": 0
      },
      "text/plain": [
       "  0%|          | Repairing epochs : 0/20 [00:00<?,       ?it/s]"
      ]
     },
     "metadata": {},
     "output_type": "display_data"
    },
    {
     "data": {
      "application/vnd.jupyter.widget-view+json": {
       "model_id": "acc7b1a4200d4d1199c22aa53650fb2c",
       "version_major": 2,
       "version_minor": 0
      },
      "text/plain": [
       "  0%|          | Fold : 0/10 [00:00<?,       ?it/s]"
      ]
     },
     "metadata": {},
     "output_type": "display_data"
    },
    {
     "data": {
      "application/vnd.jupyter.widget-view+json": {
       "model_id": "73b965779eef42bf95b8dc45be1037d7",
       "version_major": 2,
       "version_minor": 0
      },
      "text/plain": [
       "  0%|          | Repairing epochs : 0/20 [00:00<?,       ?it/s]"
      ]
     },
     "metadata": {},
     "output_type": "display_data"
    },
    {
     "data": {
      "application/vnd.jupyter.widget-view+json": {
       "model_id": "78a3e49ed73f4f2f88e0625d73cf75d9",
       "version_major": 2,
       "version_minor": 0
      },
      "text/plain": [
       "  0%|          | Fold : 0/10 [00:00<?,       ?it/s]"
      ]
     },
     "metadata": {},
     "output_type": "display_data"
    },
    {
     "data": {
      "application/vnd.jupyter.widget-view+json": {
       "model_id": "82a4e61a2fcb406b9809bd3ba523ebad",
       "version_major": 2,
       "version_minor": 0
      },
      "text/plain": [
       "  0%|          | Repairing epochs : 0/20 [00:00<?,       ?it/s]"
      ]
     },
     "metadata": {},
     "output_type": "display_data"
    },
    {
     "data": {
      "application/vnd.jupyter.widget-view+json": {
       "model_id": "2d0e92531d5b4b3b980903f4fd509be5",
       "version_major": 2,
       "version_minor": 0
      },
      "text/plain": [
       "  0%|          | Fold : 0/10 [00:00<?,       ?it/s]"
      ]
     },
     "metadata": {},
     "output_type": "display_data"
    },
    {
     "name": "stdout",
     "output_type": "stream",
     "text": [
      "\n",
      "\n",
      "\n",
      "\n",
      "Estimated consensus=0.60 and n_interpolate=32\n"
     ]
    },
    {
     "data": {
      "application/vnd.jupyter.widget-view+json": {
       "model_id": "f5c19621aa9c4c70a5972ca2c7b54523",
       "version_major": 2,
       "version_minor": 0
      },
      "text/plain": [
       "  0%|          | Repairing epochs : 0/1272 [00:00<?,       ?it/s]"
      ]
     },
     "metadata": {},
     "output_type": "display_data"
    },
    {
     "name": "stdout",
     "output_type": "stream",
     "text": [
      "Dropped 24 epochs: 72, 99, 100, 292, 293, 318, 319, 320, 356, 357, 409, 526, 527, 528, 674, 702, 713, 787, 825, 861, 896, 1200, 1218, 1261\n",
      "Overwriting existing file.\n"
     ]
    },
    {
     "name": "stderr",
     "output_type": "stream",
     "text": [
      "C:\\Users\\annad\\AppData\\Local\\Temp\\ipykernel_172744\\2105183387.py:20: RuntimeWarning: This filename (C:/Users/annad/Documents/Thesis/Data/Stimlocked_fixed_index/VP2_epo_t2.fif) does not conform to MNE naming conventions. All epochs files should end with -epo.fif, -epo.fif.gz, _epo.fif or _epo.fif.gz\n",
      "  epochs.save(path+'Stimlocked_fixed_index/%s_epo_t2.fif'%subj, overwrite=True)\n"
     ]
    },
    {
     "name": "stdout",
     "output_type": "stream",
     "text": [
      "Overwriting existing file.\n",
      "Opening raw data file C:/Users/annad/Documents/Thesis/Data/Post ICA/post_ica_VP3_raw.fif...\n",
      "    Range : 0 ... 1845759 =      0.000 ...  3604.998 secs\n",
      "Ready.\n",
      "Reading 0 ... 1845759  =      0.000 ...  3604.998 secs...\n",
      "Trigger channel Status has a non-zero initial value of {initial_value} (consider using initial_event=True to detect this event)\n",
      "Removing orphaned offset at the beginning of the file.\n",
      "6495 events found on stim channel Status\n",
      "Event IDs: [  1   2   3   4   5   6  11  12  16  21  22  31  32  64  67 128 129 130\n",
      " 133]\n",
      "Adding metadata with 3 columns\n",
      "1274 matching events found\n",
      "Setting baseline interval to [-0.25, 0.0] s\n",
      "Applying baseline correction (mode: mean)\n",
      "Using data from preloaded Raw for 1274 events and 1153 original time points ...\n",
      "7 bad epochs dropped\n",
      "Running autoreject on ch_type=eeg\n"
     ]
    },
    {
     "data": {
      "application/vnd.jupyter.widget-view+json": {
       "model_id": "86940d37582745079bbdb5f2fd639e4b",
       "version_major": 2,
       "version_minor": 0
      },
      "text/plain": [
       "  0%|          | Creating augmented epochs : 0/64 [00:00<?,       ?it/s]"
      ]
     },
     "metadata": {},
     "output_type": "display_data"
    },
    {
     "data": {
      "application/vnd.jupyter.widget-view+json": {
       "model_id": "d5913e6b29b44a5da1461a40ecd08221",
       "version_major": 2,
       "version_minor": 0
      },
      "text/plain": [
       "  0%|          | Computing thresholds ... : 0/64 [00:00<?,       ?it/s]"
      ]
     },
     "metadata": {},
     "output_type": "display_data"
    },
    {
     "data": {
      "application/vnd.jupyter.widget-view+json": {
       "model_id": "fa40eee564a7480da0863aa29381d31d",
       "version_major": 2,
       "version_minor": 0
      },
      "text/plain": [
       "  0%|          | Repairing epochs : 0/20 [00:00<?,       ?it/s]"
      ]
     },
     "metadata": {},
     "output_type": "display_data"
    },
    {
     "data": {
      "application/vnd.jupyter.widget-view+json": {
       "model_id": "e91b73c481764f67998e88c7c261571b",
       "version_major": 2,
       "version_minor": 0
      },
      "text/plain": [
       "  0%|          | n_interp : 0/3 [00:00<?,       ?it/s]"
      ]
     },
     "metadata": {},
     "output_type": "display_data"
    },
    {
     "data": {
      "application/vnd.jupyter.widget-view+json": {
       "model_id": "e5198f74607442489b546e0184ea2ace",
       "version_major": 2,
       "version_minor": 0
      },
      "text/plain": [
       "  0%|          | Repairing epochs : 0/20 [00:00<?,       ?it/s]"
      ]
     },
     "metadata": {},
     "output_type": "display_data"
    },
    {
     "data": {
      "application/vnd.jupyter.widget-view+json": {
       "model_id": "290db808c47545f59f5ffc98c8168650",
       "version_major": 2,
       "version_minor": 0
      },
      "text/plain": [
       "  0%|          | Fold : 0/10 [00:00<?,       ?it/s]"
      ]
     },
     "metadata": {},
     "output_type": "display_data"
    },
    {
     "data": {
      "application/vnd.jupyter.widget-view+json": {
       "model_id": "08fd140126f74ea0a3072c13a9c1dcb3",
       "version_major": 2,
       "version_minor": 0
      },
      "text/plain": [
       "  0%|          | Repairing epochs : 0/20 [00:00<?,       ?it/s]"
      ]
     },
     "metadata": {},
     "output_type": "display_data"
    },
    {
     "data": {
      "application/vnd.jupyter.widget-view+json": {
       "model_id": "faa02a92da7c498fa40ac8386ee0ead8",
       "version_major": 2,
       "version_minor": 0
      },
      "text/plain": [
       "  0%|          | Fold : 0/10 [00:00<?,       ?it/s]"
      ]
     },
     "metadata": {},
     "output_type": "display_data"
    },
    {
     "data": {
      "application/vnd.jupyter.widget-view+json": {
       "model_id": "952e2119d35e401abe6cf4d8b61cda2a",
       "version_major": 2,
       "version_minor": 0
      },
      "text/plain": [
       "  0%|          | Repairing epochs : 0/20 [00:00<?,       ?it/s]"
      ]
     },
     "metadata": {},
     "output_type": "display_data"
    },
    {
     "data": {
      "application/vnd.jupyter.widget-view+json": {
       "model_id": "7115206bf23e4c6dad5aec058cc613ff",
       "version_major": 2,
       "version_minor": 0
      },
      "text/plain": [
       "  0%|          | Fold : 0/10 [00:00<?,       ?it/s]"
      ]
     },
     "metadata": {},
     "output_type": "display_data"
    },
    {
     "name": "stdout",
     "output_type": "stream",
     "text": [
      "\n",
      "\n",
      "\n",
      "\n",
      "Estimated consensus=0.60 and n_interpolate=32\n"
     ]
    },
    {
     "data": {
      "application/vnd.jupyter.widget-view+json": {
       "model_id": "dbf0aea1f7544a9da1dbb83bc155b6dc",
       "version_major": 2,
       "version_minor": 0
      },
      "text/plain": [
       "  0%|          | Repairing epochs : 0/1267 [00:00<?,       ?it/s]"
      ]
     },
     "metadata": {},
     "output_type": "display_data"
    },
    {
     "name": "stdout",
     "output_type": "stream",
     "text": [
      "Dropped 21 epochs: 24, 101, 247, 346, 369, 390, 448, 449, 464, 493, 625, 683, 719, 768, 806, 807, 890, 1034, 1053, 1119, 1160\n",
      "Overwriting existing file.\n"
     ]
    },
    {
     "name": "stderr",
     "output_type": "stream",
     "text": [
      "C:\\Users\\annad\\AppData\\Local\\Temp\\ipykernel_172744\\2105183387.py:20: RuntimeWarning: This filename (C:/Users/annad/Documents/Thesis/Data/Stimlocked_fixed_index/VP3_epo_t2.fif) does not conform to MNE naming conventions. All epochs files should end with -epo.fif, -epo.fif.gz, _epo.fif or _epo.fif.gz\n",
      "  epochs.save(path+'Stimlocked_fixed_index/%s_epo_t2.fif'%subj, overwrite=True)\n"
     ]
    },
    {
     "name": "stdout",
     "output_type": "stream",
     "text": [
      "Overwriting existing file.\n",
      "Opening raw data file C:/Users/annad/Documents/Thesis/Data/Post ICA/post_ica_VP5_raw.fif...\n",
      "    Range : 0 ... 1894911 =      0.000 ...  3700.998 secs\n",
      "Ready.\n",
      "Reading 0 ... 1894911  =      0.000 ...  3700.998 secs...\n",
      "Trigger channel Status has a non-zero initial value of {initial_value} (consider using initial_event=True to detect this event)\n",
      "Removing orphaned offset at the beginning of the file.\n",
      "6468 events found on stim channel Status\n",
      "Event IDs: [  1   2   3   4   5   6  11  12  16  21  22  31  32  64  65  66  67 128\n",
      " 129 130 131]\n",
      "Adding metadata with 3 columns\n",
      "1273 matching events found\n",
      "Setting baseline interval to [-0.25, 0.0] s\n",
      "Applying baseline correction (mode: mean)\n",
      "Using data from preloaded Raw for 1273 events and 1153 original time points ...\n",
      "4 bad epochs dropped\n",
      "Running autoreject on ch_type=eeg\n"
     ]
    },
    {
     "data": {
      "application/vnd.jupyter.widget-view+json": {
       "model_id": "6dfb5774e42949f5a54c71ccbe0fd856",
       "version_major": 2,
       "version_minor": 0
      },
      "text/plain": [
       "  0%|          | Creating augmented epochs : 0/64 [00:00<?,       ?it/s]"
      ]
     },
     "metadata": {},
     "output_type": "display_data"
    },
    {
     "data": {
      "application/vnd.jupyter.widget-view+json": {
       "model_id": "3e7d7105637d407e8c9dcbd30e84470f",
       "version_major": 2,
       "version_minor": 0
      },
      "text/plain": [
       "  0%|          | Computing thresholds ... : 0/64 [00:00<?,       ?it/s]"
      ]
     },
     "metadata": {},
     "output_type": "display_data"
    },
    {
     "data": {
      "application/vnd.jupyter.widget-view+json": {
       "model_id": "6d95a94962fb4bbea46314463fed12a1",
       "version_major": 2,
       "version_minor": 0
      },
      "text/plain": [
       "  0%|          | Repairing epochs : 0/20 [00:00<?,       ?it/s]"
      ]
     },
     "metadata": {},
     "output_type": "display_data"
    },
    {
     "data": {
      "application/vnd.jupyter.widget-view+json": {
       "model_id": "0c14c0b389db4f5b849f9fd0f287439b",
       "version_major": 2,
       "version_minor": 0
      },
      "text/plain": [
       "  0%|          | n_interp : 0/3 [00:00<?,       ?it/s]"
      ]
     },
     "metadata": {},
     "output_type": "display_data"
    },
    {
     "data": {
      "application/vnd.jupyter.widget-view+json": {
       "model_id": "1693af439f174232a253cdc76ab180b5",
       "version_major": 2,
       "version_minor": 0
      },
      "text/plain": [
       "  0%|          | Repairing epochs : 0/20 [00:00<?,       ?it/s]"
      ]
     },
     "metadata": {},
     "output_type": "display_data"
    },
    {
     "data": {
      "application/vnd.jupyter.widget-view+json": {
       "model_id": "85e41e5451614050b9db9ef73ee9aeed",
       "version_major": 2,
       "version_minor": 0
      },
      "text/plain": [
       "  0%|          | Fold : 0/10 [00:00<?,       ?it/s]"
      ]
     },
     "metadata": {},
     "output_type": "display_data"
    },
    {
     "data": {
      "application/vnd.jupyter.widget-view+json": {
       "model_id": "ed056bc525264102aa0202ac5b005514",
       "version_major": 2,
       "version_minor": 0
      },
      "text/plain": [
       "  0%|          | Repairing epochs : 0/20 [00:00<?,       ?it/s]"
      ]
     },
     "metadata": {},
     "output_type": "display_data"
    },
    {
     "data": {
      "application/vnd.jupyter.widget-view+json": {
       "model_id": "e9c140281c6e4b4d94f2b99aa93ef966",
       "version_major": 2,
       "version_minor": 0
      },
      "text/plain": [
       "  0%|          | Fold : 0/10 [00:00<?,       ?it/s]"
      ]
     },
     "metadata": {},
     "output_type": "display_data"
    },
    {
     "data": {
      "application/vnd.jupyter.widget-view+json": {
       "model_id": "f2aced667eaf4331a00b2c92aaf2d90d",
       "version_major": 2,
       "version_minor": 0
      },
      "text/plain": [
       "  0%|          | Repairing epochs : 0/20 [00:00<?,       ?it/s]"
      ]
     },
     "metadata": {},
     "output_type": "display_data"
    },
    {
     "data": {
      "application/vnd.jupyter.widget-view+json": {
       "model_id": "810740ab054f4e228661a55f479fbb30",
       "version_major": 2,
       "version_minor": 0
      },
      "text/plain": [
       "  0%|          | Fold : 0/10 [00:00<?,       ?it/s]"
      ]
     },
     "metadata": {},
     "output_type": "display_data"
    },
    {
     "name": "stdout",
     "output_type": "stream",
     "text": [
      "\n",
      "\n",
      "\n",
      "\n",
      "Estimated consensus=0.60 and n_interpolate=32\n"
     ]
    },
    {
     "data": {
      "application/vnd.jupyter.widget-view+json": {
       "model_id": "6b13b9f124fd4ae8a54d79932a5cf80e",
       "version_major": 2,
       "version_minor": 0
      },
      "text/plain": [
       "  0%|          | Repairing epochs : 0/1269 [00:00<?,       ?it/s]"
      ]
     },
     "metadata": {},
     "output_type": "display_data"
    },
    {
     "name": "stdout",
     "output_type": "stream",
     "text": [
      "Dropped 41 epochs: 24, 43, 44, 46, 57, 58, 59, 60, 67, 68, 74, 86, 89, 92, 99, 136, 141, 149, 156, 157, 162, 166, 168, 169, 170, 185, 197, 233, 234, 255, 256, 257, 309, 322, 336, 355, 371, 372, 490, 620, 1048\n",
      "Overwriting existing file.\n"
     ]
    },
    {
     "name": "stderr",
     "output_type": "stream",
     "text": [
      "C:\\Users\\annad\\AppData\\Local\\Temp\\ipykernel_172744\\2105183387.py:20: RuntimeWarning: This filename (C:/Users/annad/Documents/Thesis/Data/Stimlocked_fixed_index/VP5_epo_t2.fif) does not conform to MNE naming conventions. All epochs files should end with -epo.fif, -epo.fif.gz, _epo.fif or _epo.fif.gz\n",
      "  epochs.save(path+'Stimlocked_fixed_index/%s_epo_t2.fif'%subj, overwrite=True)\n"
     ]
    },
    {
     "name": "stdout",
     "output_type": "stream",
     "text": [
      "Overwriting existing file.\n",
      "Opening raw data file C:/Users/annad/Documents/Thesis/Data/Post ICA/post_ica_VP8_raw.fif...\n",
      "    Range : 0 ... 1846272 =      0.000 ...  3606.000 secs\n",
      "Ready.\n",
      "Reading 0 ... 1846272  =      0.000 ...  3606.000 secs...\n",
      "Trigger channel Status has a non-zero initial value of {initial_value} (consider using initial_event=True to detect this event)\n",
      "Removing orphaned offset at the beginning of the file.\n",
      "5944 events found on stim channel Status\n",
      "Event IDs: [  1   2   3   4   5   6  11  12  16  21  22  31  32  64  66 128 131]\n",
      "Adding metadata with 3 columns\n",
      "1181 matching events found\n",
      "Setting baseline interval to [-0.25, 0.0] s\n",
      "Applying baseline correction (mode: mean)\n",
      "Using data from preloaded Raw for 1181 events and 1153 original time points ...\n",
      "9 bad epochs dropped\n",
      "Running autoreject on ch_type=eeg\n"
     ]
    },
    {
     "data": {
      "application/vnd.jupyter.widget-view+json": {
       "model_id": "56ea1836363540ed9399152477cae140",
       "version_major": 2,
       "version_minor": 0
      },
      "text/plain": [
       "  0%|          | Creating augmented epochs : 0/64 [00:00<?,       ?it/s]"
      ]
     },
     "metadata": {},
     "output_type": "display_data"
    },
    {
     "data": {
      "application/vnd.jupyter.widget-view+json": {
       "model_id": "f1a92525cb844be1983b9e6bd64964d1",
       "version_major": 2,
       "version_minor": 0
      },
      "text/plain": [
       "  0%|          | Computing thresholds ... : 0/64 [00:00<?,       ?it/s]"
      ]
     },
     "metadata": {},
     "output_type": "display_data"
    },
    {
     "data": {
      "application/vnd.jupyter.widget-view+json": {
       "model_id": "a81c24543a5c48bc8d785a3a253f987d",
       "version_major": 2,
       "version_minor": 0
      },
      "text/plain": [
       "  0%|          | Repairing epochs : 0/20 [00:00<?,       ?it/s]"
      ]
     },
     "metadata": {},
     "output_type": "display_data"
    },
    {
     "data": {
      "application/vnd.jupyter.widget-view+json": {
       "model_id": "e0816d31d5504b1e8ed2c093971db952",
       "version_major": 2,
       "version_minor": 0
      },
      "text/plain": [
       "  0%|          | n_interp : 0/3 [00:00<?,       ?it/s]"
      ]
     },
     "metadata": {},
     "output_type": "display_data"
    },
    {
     "data": {
      "application/vnd.jupyter.widget-view+json": {
       "model_id": "d6106e943b124bdd8e178d0115975027",
       "version_major": 2,
       "version_minor": 0
      },
      "text/plain": [
       "  0%|          | Repairing epochs : 0/20 [00:00<?,       ?it/s]"
      ]
     },
     "metadata": {},
     "output_type": "display_data"
    },
    {
     "data": {
      "application/vnd.jupyter.widget-view+json": {
       "model_id": "7b5d041700644e489339620a8903aaf6",
       "version_major": 2,
       "version_minor": 0
      },
      "text/plain": [
       "  0%|          | Fold : 0/10 [00:00<?,       ?it/s]"
      ]
     },
     "metadata": {},
     "output_type": "display_data"
    },
    {
     "data": {
      "application/vnd.jupyter.widget-view+json": {
       "model_id": "3d39f0300ca1414d9ea3f9eb933ad5f7",
       "version_major": 2,
       "version_minor": 0
      },
      "text/plain": [
       "  0%|          | Repairing epochs : 0/20 [00:00<?,       ?it/s]"
      ]
     },
     "metadata": {},
     "output_type": "display_data"
    },
    {
     "data": {
      "application/vnd.jupyter.widget-view+json": {
       "model_id": "6e915d77c5a64d5d99bcd36c89d06f65",
       "version_major": 2,
       "version_minor": 0
      },
      "text/plain": [
       "  0%|          | Fold : 0/10 [00:00<?,       ?it/s]"
      ]
     },
     "metadata": {},
     "output_type": "display_data"
    },
    {
     "data": {
      "application/vnd.jupyter.widget-view+json": {
       "model_id": "8ff05fe8b4de4fccb8abf8c7109cd8b4",
       "version_major": 2,
       "version_minor": 0
      },
      "text/plain": [
       "  0%|          | Repairing epochs : 0/20 [00:00<?,       ?it/s]"
      ]
     },
     "metadata": {},
     "output_type": "display_data"
    },
    {
     "data": {
      "application/vnd.jupyter.widget-view+json": {
       "model_id": "1fd770a8df2b4421a803be39bc378ab3",
       "version_major": 2,
       "version_minor": 0
      },
      "text/plain": [
       "  0%|          | Fold : 0/10 [00:00<?,       ?it/s]"
      ]
     },
     "metadata": {},
     "output_type": "display_data"
    },
    {
     "name": "stdout",
     "output_type": "stream",
     "text": [
      "\n",
      "\n",
      "\n",
      "\n",
      "Estimated consensus=0.60 and n_interpolate=32\n"
     ]
    },
    {
     "data": {
      "application/vnd.jupyter.widget-view+json": {
       "model_id": "085d0c570d734cf899275b830f1392ea",
       "version_major": 2,
       "version_minor": 0
      },
      "text/plain": [
       "  0%|          | Repairing epochs : 0/1172 [00:00<?,       ?it/s]"
      ]
     },
     "metadata": {},
     "output_type": "display_data"
    },
    {
     "name": "stdout",
     "output_type": "stream",
     "text": [
      "Dropped 104 epochs: 8, 13, 26, 36, 37, 40, 103, 107, 115, 168, 173, 181, 185, 209, 214, 276, 290, 324, 330, 333, 335, 336, 365, 368, 386, 404, 432, 468, 478, 483, 502, 503, 527, 531, 535, 601, 625, 637, 641, 642, 643, 661, 680, 704, 709, 744, 812, 813, 834, 855, 859, 860, 870, 920, 928, 930, 931, 935, 936, 937, 938, 939, 948, 1035, 1036, 1039, 1040, 1041, 1045, 1047, 1065, 1068, 1069, 1089, 1090, 1091, 1101, 1113, 1114, 1115, 1116, 1118, 1119, 1120, 1122, 1126, 1131, 1135, 1136, 1140, 1141, 1142, 1143, 1145, 1150, 1151, 1154, 1160, 1161, 1162, 1163, 1164, 1165, 1167\n",
      "Overwriting existing file.\n",
      "Overwriting existing file.\n"
     ]
    },
    {
     "name": "stderr",
     "output_type": "stream",
     "text": [
      "C:\\Users\\annad\\AppData\\Local\\Temp\\ipykernel_172744\\2105183387.py:20: RuntimeWarning: This filename (C:/Users/annad/Documents/Thesis/Data/Stimlocked_fixed_index/VP8_epo_t2.fif) does not conform to MNE naming conventions. All epochs files should end with -epo.fif, -epo.fif.gz, _epo.fif or _epo.fif.gz\n",
      "  epochs.save(path+'Stimlocked_fixed_index/%s_epo_t2.fif'%subj, overwrite=True)\n"
     ]
    },
    {
     "name": "stdout",
     "output_type": "stream",
     "text": [
      "Opening raw data file C:/Users/annad/Documents/Thesis/Data/Post ICA/post_ica_VP9_raw.fif...\n",
      "    Range : 0 ... 2112511 =      0.000 ...  4125.998 secs\n",
      "Ready.\n",
      "Reading 0 ... 2112511  =      0.000 ...  4125.998 secs...\n",
      "Trigger channel Status has a non-zero initial value of {initial_value} (consider using initial_event=True to detect this event)\n",
      "Removing orphaned offset at the beginning of the file.\n",
      "6483 events found on stim channel Status\n",
      "Event IDs: [  1   2   3   4   5   6  11  12  16  20  21  22  31  32  64 128 129]\n",
      "Adding metadata with 3 columns\n",
      "1281 matching events found\n",
      "Setting baseline interval to [-0.25, 0.0] s\n",
      "Applying baseline correction (mode: mean)\n",
      "Using data from preloaded Raw for 1281 events and 1153 original time points ...\n",
      "13 bad epochs dropped\n",
      "Running autoreject on ch_type=eeg\n"
     ]
    },
    {
     "data": {
      "application/vnd.jupyter.widget-view+json": {
       "model_id": "258b66322c9148c6ba28009a80d95483",
       "version_major": 2,
       "version_minor": 0
      },
      "text/plain": [
       "  0%|          | Creating augmented epochs : 0/64 [00:00<?,       ?it/s]"
      ]
     },
     "metadata": {},
     "output_type": "display_data"
    },
    {
     "data": {
      "application/vnd.jupyter.widget-view+json": {
       "model_id": "85854d272e9d4bd98053a4b965e764b7",
       "version_major": 2,
       "version_minor": 0
      },
      "text/plain": [
       "  0%|          | Computing thresholds ... : 0/64 [00:00<?,       ?it/s]"
      ]
     },
     "metadata": {},
     "output_type": "display_data"
    },
    {
     "data": {
      "application/vnd.jupyter.widget-view+json": {
       "model_id": "77b49c646c044e52a75df2469651cf6e",
       "version_major": 2,
       "version_minor": 0
      },
      "text/plain": [
       "  0%|          | Repairing epochs : 0/20 [00:00<?,       ?it/s]"
      ]
     },
     "metadata": {},
     "output_type": "display_data"
    },
    {
     "data": {
      "application/vnd.jupyter.widget-view+json": {
       "model_id": "e43f525d5c0d473eb39a4b56f4d6832a",
       "version_major": 2,
       "version_minor": 0
      },
      "text/plain": [
       "  0%|          | n_interp : 0/3 [00:00<?,       ?it/s]"
      ]
     },
     "metadata": {},
     "output_type": "display_data"
    },
    {
     "data": {
      "application/vnd.jupyter.widget-view+json": {
       "model_id": "67e33f99a9ed467aabfd8596dddc1bd0",
       "version_major": 2,
       "version_minor": 0
      },
      "text/plain": [
       "  0%|          | Repairing epochs : 0/20 [00:00<?,       ?it/s]"
      ]
     },
     "metadata": {},
     "output_type": "display_data"
    },
    {
     "data": {
      "application/vnd.jupyter.widget-view+json": {
       "model_id": "714f644b7e454a4889a440a958a3b645",
       "version_major": 2,
       "version_minor": 0
      },
      "text/plain": [
       "  0%|          | Fold : 0/10 [00:00<?,       ?it/s]"
      ]
     },
     "metadata": {},
     "output_type": "display_data"
    },
    {
     "data": {
      "application/vnd.jupyter.widget-view+json": {
       "model_id": "027a8802cdda44adaedf471f1235510f",
       "version_major": 2,
       "version_minor": 0
      },
      "text/plain": [
       "  0%|          | Repairing epochs : 0/20 [00:00<?,       ?it/s]"
      ]
     },
     "metadata": {},
     "output_type": "display_data"
    },
    {
     "data": {
      "application/vnd.jupyter.widget-view+json": {
       "model_id": "0ff49145647b45e1873acb643ec0a247",
       "version_major": 2,
       "version_minor": 0
      },
      "text/plain": [
       "  0%|          | Fold : 0/10 [00:00<?,       ?it/s]"
      ]
     },
     "metadata": {},
     "output_type": "display_data"
    },
    {
     "data": {
      "application/vnd.jupyter.widget-view+json": {
       "model_id": "9b3c615565cb4787a1e8324a6daea880",
       "version_major": 2,
       "version_minor": 0
      },
      "text/plain": [
       "  0%|          | Repairing epochs : 0/20 [00:00<?,       ?it/s]"
      ]
     },
     "metadata": {},
     "output_type": "display_data"
    },
    {
     "data": {
      "application/vnd.jupyter.widget-view+json": {
       "model_id": "34a82fab7fd7442d9f36521de538f94a",
       "version_major": 2,
       "version_minor": 0
      },
      "text/plain": [
       "  0%|          | Fold : 0/10 [00:00<?,       ?it/s]"
      ]
     },
     "metadata": {},
     "output_type": "display_data"
    },
    {
     "name": "stdout",
     "output_type": "stream",
     "text": [
      "\n",
      "\n",
      "\n",
      "\n",
      "Estimated consensus=0.90 and n_interpolate=32\n"
     ]
    },
    {
     "data": {
      "application/vnd.jupyter.widget-view+json": {
       "model_id": "6d832ec59a3e410c9139217d7fbfabc6",
       "version_major": 2,
       "version_minor": 0
      },
      "text/plain": [
       "  0%|          | Repairing epochs : 0/1268 [00:00<?,       ?it/s]"
      ]
     },
     "metadata": {},
     "output_type": "display_data"
    },
    {
     "name": "stdout",
     "output_type": "stream",
     "text": [
      "Dropped 42 epochs: 26, 27, 31, 58, 63, 66, 74, 91, 98, 116, 123, 125, 126, 156, 161, 171, 184, 189, 208, 249, 296, 328, 350, 374, 385, 390, 416, 434, 447, 638, 662, 691, 713, 749, 812, 833, 869, 874, 877, 895, 918, 940\n",
      "Overwriting existing file.\n"
     ]
    },
    {
     "name": "stderr",
     "output_type": "stream",
     "text": [
      "C:\\Users\\annad\\AppData\\Local\\Temp\\ipykernel_172744\\2105183387.py:20: RuntimeWarning: This filename (C:/Users/annad/Documents/Thesis/Data/Stimlocked_fixed_index/VP9_epo_t2.fif) does not conform to MNE naming conventions. All epochs files should end with -epo.fif, -epo.fif.gz, _epo.fif or _epo.fif.gz\n",
      "  epochs.save(path+'Stimlocked_fixed_index/%s_epo_t2.fif'%subj, overwrite=True)\n"
     ]
    },
    {
     "name": "stdout",
     "output_type": "stream",
     "text": [
      "Overwriting existing file.\n"
     ]
    }
   ],
   "source": [
    "tmin = -0.25\n",
    "tmax = 2\n",
    "\n",
    "for subj in subj_names:\n",
    "    # Skip those subjects because the data is not valid\n",
    "    if subj == 'VP6' or subj == 'VP7':\n",
    "        continue\n",
    "\n",
    "    raw = mne.io.read_raw_fif(path+\"Post ICA/post_ica_%s_raw.fif\"%subj, preload=True)\n",
    "    # epoch = mne.read_epochs(epoch_data_path+subj+'.fif')\n",
    "\n",
    "    # ================= STIMULUS 1 =================\n",
    "    # epochs, events = create_epochs_t1(tmin, tmax, raw)\n",
    "    # epochs = autoreject(epochs, raw)\n",
    "    # epochs.save(path+'Stimlocked_fixed_index/%s_epo_t1.fif'%subj, overwrite=True)\n",
    "\n",
    "    # # ================= STIMULUS 2 =================\n",
    "    epochs, events = create_epochs_t2(tmin, tmax, raw)\n",
    "    epochs = autoreject(epochs, raw)\n",
    "    epochs.save(path+'Stimlocked_fixed_index/%s_epo_t2.fif'%subj, overwrite=True)\n",
    "\n",
    "    # ================= WHOLE TRIALS =================\n",
    "    # epochs, events = create_epochs_trial(tmin, tmax, raw)\n",
    "    # epochs = autoreject(epochs, raw)\n",
    "    # epochs.save(path+'Stimlocked_fixed_index/%s_epo_trial.fif'%subj, overwrite=True)"
   ]
  },
  {
   "cell_type": "code",
   "execution_count": 45,
   "metadata": {},
   "outputs": [
    {
     "ename": "NameError",
     "evalue": "name 'events_t1' is not defined",
     "output_type": "error",
     "traceback": [
      "\u001b[1;31m---------------------------------------------------------------------------\u001b[0m",
      "\u001b[1;31mNameError\u001b[0m                                 Traceback (most recent call last)",
      "Cell \u001b[1;32mIn[45], line 1\u001b[0m\n\u001b[1;32m----> 1\u001b[0m events_t1 \u001b[38;5;241m=\u001b[39m np\u001b[38;5;241m.\u001b[39masarray(\u001b[43mevents_t1\u001b[49m, dtype\u001b[38;5;241m=\u001b[39mnp\u001b[38;5;241m.\u001b[39mfloat32)\n\u001b[0;32m      2\u001b[0m events_t2 \u001b[38;5;241m=\u001b[39m np\u001b[38;5;241m.\u001b[39masarray(events_t2, dtype\u001b[38;5;241m=\u001b[39mnp\u001b[38;5;241m.\u001b[39mfloat32)\n",
      "\u001b[1;31mNameError\u001b[0m: name 'events_t1' is not defined"
     ]
    }
   ],
   "source": [
    "events_t1 = np.asarray(events_t1, dtype=np.float32)\n",
    "events_t2 = np.asarray(events_t2, dtype=np.float32)"
   ]
  },
  {
   "cell_type": "code",
   "execution_count": null,
   "metadata": {},
   "outputs": [
    {
     "name": "stdout",
     "output_type": "stream",
     "text": [
      "Task 1, visual stimulu, N300\n"
     ]
    },
    {
     "ename": "ValueError",
     "evalue": "Please pass a list of Evoked or AverageTFR objects.",
     "output_type": "error",
     "traceback": [
      "\u001b[1;31m---------------------------------------------------------------------------\u001b[0m",
      "\u001b[1;31mValueError\u001b[0m                                Traceback (most recent call last)",
      "Cell \u001b[1;32mIn[12], line 2\u001b[0m\n\u001b[0;32m      1\u001b[0m \u001b[38;5;28mprint\u001b[39m(\u001b[38;5;124m\"\u001b[39m\u001b[38;5;124mTask 1, visual stimulu, N300\u001b[39m\u001b[38;5;124m\"\u001b[39m)\n\u001b[1;32m----> 2\u001b[0m \u001b[43mmne\u001b[49m\u001b[38;5;241;43m.\u001b[39;49m\u001b[43mgrand_average\u001b[49m\u001b[43m(\u001b[49m\u001b[43mevoked_t1\u001b[49m\u001b[43m)\u001b[49m\u001b[38;5;241m.\u001b[39mplot(picks\u001b[38;5;241m=\u001b[39m[\u001b[38;5;124m'\u001b[39m\u001b[38;5;124mF3\u001b[39m\u001b[38;5;124m'\u001b[39m, \u001b[38;5;124m'\u001b[39m\u001b[38;5;124mF4\u001b[39m\u001b[38;5;124m'\u001b[39m], hline\u001b[38;5;241m=\u001b[39m[\u001b[38;5;241m0\u001b[39m])\n\u001b[0;32m      4\u001b[0m \u001b[38;5;28mprint\u001b[39m(\u001b[38;5;124m\"\u001b[39m\u001b[38;5;124mTask 2, auditory stimulu, P300\u001b[39m\u001b[38;5;124m\"\u001b[39m)\n\u001b[0;32m      5\u001b[0m mne\u001b[38;5;241m.\u001b[39mgrand_average(evoked_t2)\u001b[38;5;241m.\u001b[39mplot(picks\u001b[38;5;241m=\u001b[39m[\u001b[38;5;124m'\u001b[39m\u001b[38;5;124mAF3\u001b[39m\u001b[38;5;124m'\u001b[39m, \u001b[38;5;124m'\u001b[39m\u001b[38;5;124mAF4\u001b[39m\u001b[38;5;124m'\u001b[39m], hline\u001b[38;5;241m=\u001b[39m[\u001b[38;5;241m0\u001b[39m])\n",
      "File \u001b[1;32mc:\\Users\\annad\\AppData\\Local\\Programs\\Python\\Python312\\Lib\\site-packages\\mne\\utils\\numerics.py:588\u001b[0m, in \u001b[0;36mgrand_average\u001b[1;34m(all_inst, interpolate_bads, drop_bads)\u001b[0m\n\u001b[0;32m    585\u001b[0m \u001b[38;5;28;01mfrom\u001b[39;00m \u001b[38;5;21;01m.\u001b[39;00m\u001b[38;5;21;01m.\u001b[39;00m\u001b[38;5;21;01mtime_frequency\u001b[39;00m \u001b[38;5;28;01mimport\u001b[39;00m AverageTFR\n\u001b[0;32m    587\u001b[0m \u001b[38;5;28;01mif\u001b[39;00m \u001b[38;5;129;01mnot\u001b[39;00m all_inst:\n\u001b[1;32m--> 588\u001b[0m     \u001b[38;5;28;01mraise\u001b[39;00m \u001b[38;5;167;01mValueError\u001b[39;00m(\u001b[38;5;124m\"\u001b[39m\u001b[38;5;124mPlease pass a list of Evoked or AverageTFR objects.\u001b[39m\u001b[38;5;124m\"\u001b[39m)\n\u001b[0;32m    589\u001b[0m \u001b[38;5;28;01melif\u001b[39;00m \u001b[38;5;28mlen\u001b[39m(all_inst) \u001b[38;5;241m==\u001b[39m \u001b[38;5;241m1\u001b[39m:\n\u001b[0;32m    590\u001b[0m     warn(\u001b[38;5;124m\"\u001b[39m\u001b[38;5;124mOnly a single dataset was passed to mne.grand_average().\u001b[39m\u001b[38;5;124m\"\u001b[39m)\n",
      "\u001b[1;31mValueError\u001b[0m: Please pass a list of Evoked or AverageTFR objects."
     ]
    }
   ],
   "source": [
    "print(\"Task 1, visual stimulu, N300\")\n",
    "mne.grand_average(evoked_t1).plot(picks=['F3', 'F4'], hline=[0])\n",
    "\n",
    "print(\"Task 2, auditory stimulu, P300\")\n",
    "mne.grand_average(evoked_t2).plot(picks=['AF3', 'AF4'], hline=[0])\n",
    "\n",
    "print(\"Task 1, visual stimulu, PN300\")\n",
    "mne.grand_average(evoked_t1).plot(picks=['Fz', 'Cz'], hline=[0])\n",
    "\n",
    "print(\"Task 2, auditory stimulu, PN300\")\n",
    "mne.grand_average(evoked_t2).plot(picks=['Fz', 'Cz'], hline=[0])"
   ]
  },
  {
   "cell_type": "code",
   "execution_count": null,
   "metadata": {},
   "outputs": [
    {
     "name": "stdout",
     "output_type": "stream",
     "text": [
      "Identifying common channels ...\n",
      "No projector specified for this dataset. Please consider the method self.add_proj.\n"
     ]
    },
    {
     "data": {
      "image/png": "[encoded data removed]",
      "text/plain": [
       "<Figure size 800x420 with 6 Axes>"
      ]
     },
     "metadata": {},
     "output_type": "display_data"
    },
    {
     "name": "stdout",
     "output_type": "stream",
     "text": [
      "Identifying common channels ...\n",
      "No projector specified for this dataset. Please consider the method self.add_proj.\n"
     ]
    },
    {
     "data": {
      "image/png": "[encoded data removed]",
      "text/plain": [
       "<Figure size 800x420 with 6 Axes>"
      ]
     },
     "metadata": {},
     "output_type": "display_data"
    },
    {
     "data": {
      "image/png": "[encoded data removed]",
      "text/plain": [
       "<Figure size 800x420 with 6 Axes>"
      ]
     },
     "execution_count": 21,
     "metadata": {},
     "output_type": "execute_result"
    }
   ],
   "source": [
    "mne.grand_average(evoked_t1).plot_joint(picks=['POz', 'FCz'])\n",
    "\n",
    "mne.grand_average(evoked_t2).plot_joint(picks=['POz', 'FCz'])"
   ]
  },
  {
   "cell_type": "code",
   "execution_count": 7,
   "metadata": {},
   "outputs": [],
   "source": [
    "def create_epochs(stimulus_id, response_id, tmin, tmax, raw):\n",
    "    events = mne.find_events(raw, shortest_event=1)\n",
    "    events = merge_events(events)\n",
    "\n",
    "    # Identify new events across trigger sets and consider only the two nearest events\n",
    "    new_events = find_condition(events, stimulus_id)\n",
    "    new_events = np.array(new_events)\n",
    "    events_temp = np.concatenate((events, new_events))\n",
    "\n",
    "    condition_id = {\"condition/short\":512, \"condition/long\":256} #condition trigger\n",
    "    stimulus_id_thingy = {'stimulus/t1':11}\n",
    "    response_ids = {'response/t2':4, 'response/t1':1}\n",
    "    event_id = condition_id | stimulus_id_thingy | response_ids #all retained events\n",
    "\n",
    "    # get metadata and events\n",
    "    metadata, events, event_id = mne.epochs.make_metadata(\n",
    "        events=events_temp, event_id=event_id, tmin=tmin, tmax=tmax,\n",
    "        sfreq=raw.info[\"sfreq\"], row_events=list(stimulus_id_thingy.keys()), keep_first=[\"condition\"])\n",
    "    \n",
    "    print(metadata)\n",
    "\n",
    "    condition_id = {\"condition/short\":512, \"condition/long\":256} #condition trigger\n",
    "    response_ids = {'response/t2':4, 'response/t1':1}\n",
    "    stimulus_id_thingy = {'stimulus/t1':11, 'stimulus/t2':64}\n",
    "    event_id = condition_id | stimulus_id_thingy | response_ids #all retained events\n",
    "\n",
    "    metadata, events, event_id = mne.epochs.make_metadata(\n",
    "        events=events_temp, event_id=event_id, tmin=tmin, tmax=tmax,\n",
    "        sfreq=raw.info[\"sfreq\"], row_events=list(stimulus_id_thingy.keys()), keep_first=[\"condition\"])\n",
    "    \n",
    "    # print(metadata)\n",
    "    what = metadata.loc[metadata['event_name'] == 'stimulus/t1']\n",
    "    print(what)\n",
    "    # what = what['first_condition'] != np.nan\n",
    "    what['response/t2'] = np.where(what['first_condition']=='short', what['response/t2']-0.3, what['response/t2']-1.2)\n",
    "    print(what)\n",
    "    \n",
    "    keep_cols = [list(response_id.keys())[0], 'first_condition']\n",
    "    metadata = metadata[keep_cols]\n",
    "    metadata.reset_index(drop=True, inplace=True)#This allows to preserve the trial number after the rejections performed by the mne.Epochs function\n",
    "    metadata.columns = ['rt', 'condition']#More convenient names\n",
    "    # metadata['rt'] = metadata['rt']\n",
    "\n",
    "    # create epochs\n",
    "    epochs = mne.Epochs(raw, events, event_id, tmin, tmax, proj=False,\n",
    "                baseline=(None, 0), preload=True, \n",
    "                verbose=True, detrend=1, on_missing = 'warn', event_repeated='drop',\n",
    "                metadata=metadata, reject_by_annotation=True, reject=None)\n",
    "    \n",
    "    return epochs, events_temp"
   ]
  }
 ],
 "metadata": {
  "kernelspec": {
   "display_name": "Python 3",
   "language": "python",
   "name": "python3"
  },
  "language_info": {
   "codemirror_mode": {
    "name": "ipython",
    "version": 3
   },
   "file_extension": ".py",
   "mimetype": "text/x-python",
   "name": "python",
   "nbconvert_exporter": "python",
   "pygments_lexer": "ipython3",
   "version": "3.12.3"
  }
 },
 "nbformat": 4,
 "nbformat_minor": 2
}
