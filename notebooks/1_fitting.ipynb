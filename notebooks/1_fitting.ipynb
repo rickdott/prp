{
 "cells": [
  {
   "cell_type": "code",
   "execution_count": 1,
   "metadata": {},
   "outputs": [],
   "source": [
    "%load_ext autoreload\n",
    "%autoreload 2\n",
    "import numpy as np\n",
    "import netCDF4\n",
    "import xarray as xr\n",
    "import hmp\n",
    "from pathlib import Path\n",
    "from mne.io import read_info\n",
    "from mne import read_epochs\n",
    "from hmpai.data import StageFinder\n",
    "import os\n",
    "DATA_PATH = Path(os.getenv(\"DATA_PATH\"))"
   ]
  },
  {
   "cell_type": "code",
   "execution_count": null,
   "metadata": {},
   "outputs": [],
   "source": [
    "# info_path = DATA_PATH / \"sat2/preprocessed_500hz/preprocessed_S1_raw.fif\"\n",
    "info_path = DATA_PATH / \"sat2/preprocessed_500hz/S1_epo.fif\"\n",
    "# info_path = DATA_PATH / \"sat1/preprocessed/processed_0001_epo.fif\"\n",
    "positions = read_info(info_path)\n",
    "\n",
    "epoch = read_epochs(info_path)\n",
    "epoch.set_montage(\"biosemi64\")\n",
    "positions = epoch.info"
   ]
  },
  {
   "cell_type": "markdown",
   "metadata": {},
   "source": [
    "#### HMP Fitting"
   ]
  },
  {
   "cell_type": "code",
   "execution_count": null,
   "metadata": {},
   "outputs": [],
   "source": [
    "cpus = 4\n",
    "\n",
    "epoched_data_path = DATA_PATH / \"prp/file.nc\"\n",
    "\n",
    "# TODO: Conditions + labels\n",
    "conditions = [\"accuracy\", \"speed\"]\n",
    "labels = {\"accuracy\": [], \"speed\": []}\n",
    "\n",
    "stage_finder = StageFinder(\n",
    "    epoched_data_path,\n",
    "    labels,\n",
    "    conditions=conditions,\n",
    "    cpus=cpus,\n",
    "    fit_function=\"fit\",  # n_events is extracted from the amount of labels in 'conditions' variable\n",
    "    verbose=False,\n",
    "    condition_variable=\"condition\",\n",
    "    condition_method=\"equal\",\n",
    "    # fits_to_load=[\"250hz_accuracy_high.nc\", \"250hz_speed_high.nc\"],\n",
    "    n_comp=10,\n",
    "    event_width=40,\n",
    ")\n",
    "# Retraining model with smaller window\n",
    "stage_finder.fit_model()"
   ]
  },
  {
   "cell_type": "code",
   "execution_count": null,
   "metadata": {},
   "outputs": [],
   "source": [
    "stage_finder.visualize_model(positions, max_time=800)"
   ]
  },
  {
   "cell_type": "code",
   "execution_count": null,
   "metadata": {},
   "outputs": [],
   "source": [
    "hmp.utils.save_fit(stage_finder.fits[0], \"250hz_1.nc\")\n",
    "hmp.utils.save_fit(stage_finder.fits[1], \"250hz_2.nc\")"
   ]
  },
  {
   "cell_type": "code",
   "execution_count": null,
   "metadata": {},
   "outputs": [],
   "source": [
    "output_path = DATA_PATH / \"prp/stage_data_250hz.nc\"\n",
    "stage_data = stage_finder.label_model(\n",
    "    label_fn=stage_finder.__label_model_probabilistic__, probabilistic=True\n",
    ")"
   ]
  },
  {
   "cell_type": "code",
   "execution_count": 5,
   "metadata": {},
   "outputs": [],
   "source": [
    "stage_data.to_netcdf(output_path)"
   ]
  }
 ],
 "metadata": {
  "kernelspec": {
   "display_name": "base",
   "language": "python",
   "name": "python3"
  },
  "language_info": {
   "codemirror_mode": {
    "name": "ipython",
    "version": 3
   },
   "file_extension": ".py",
   "mimetype": "text/x-python",
   "name": "python",
   "nbconvert_exporter": "python",
   "pygments_lexer": "ipython3",
   "version": "3.10.14"
  }
 },
 "nbformat": 4,
 "nbformat_minor": 2
}
