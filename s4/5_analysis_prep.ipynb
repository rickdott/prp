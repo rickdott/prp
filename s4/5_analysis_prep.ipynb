{
 "cells": [
  {
   "cell_type": "code",
   "execution_count": 1,
   "id": "27495135",
   "metadata": {},
   "outputs": [],
   "source": [
    "%load_ext autoreload\n",
    "%autoreload 2\n",
    "from pathlib import Path\n",
    "from hmpai.training import split_participants, split_participants_custom\n",
    "from hmpai.pytorch.training import train_and_test\n",
    "from hmpai.pytorch.utilities import DEVICE, set_global_seed, load_model\n",
    "from hmpai.pytorch.generators import MultiXArrayProbaDataset\n",
    "from hmpai.data import SAT_CLASSES_ACCURACY\n",
    "from hmpai.pytorch.normalization import *\n",
    "from torch.utils.data import DataLoader\n",
    "from torchvision.transforms import Compose\n",
    "from hmpai.pytorch.transforms import *\n",
    "from hmpai.pytorch.mamba import *\n",
    "from hmpai.behaviour.sat2 import SAT2_SPLITS\n",
    "from hmpai.visualization import predict_with_auc, set_seaborn_style, plot_peak_timing\n",
    "import os\n",
    "import pandas as pd\n",
    "import matplotlib.pyplot as plt\n",
    "import seaborn as sns\n",
    "import mne\n",
    "from pymer4.models import Lmer\n",
    "DATA_PATH = Path(os.getenv(\"DATA_PATH\"))\n",
    "\n",
    "labels_t1 = [\"negative\", \"t1_1\", \"t1_2\", \"t1_3\"]\n",
    "labels_t2 = [\"negative\", \"t2_1\", \"t2_2\", \"t2_3\"]\n"
   ]
  },
  {
   "cell_type": "code",
   "execution_count": null,
   "id": "4f342f0a",
   "metadata": {},
   "outputs": [],
   "source": [
    "def save_peak_timing(model, loader, labels, path: Path, cue_var=\"condition\"):\n",
    "    if not path.exists():\n",
    "        output = []\n",
    "        torch.cuda.empty_cache()\n",
    "\n",
    "        with torch.no_grad():\n",
    "            for batch in loader:\n",
    "                info = batch[2][0]  # Contains RT\n",
    "\n",
    "                pred = model(batch[0].to(DEVICE))\n",
    "                pred = torch.nn.Softmax(dim=2)(pred).to(\"cpu\")\n",
    "\n",
    "                true = batch[1]\n",
    "\n",
    "                lengths = get_masking_indices(batch[0])\n",
    "\n",
    "                pred_peaks = pred[..., 1:].argmax(dim=1).float()\n",
    "                true_peaks = true[..., 1:].argmax(dim=1).float()\n",
    "\n",
    "                # Get activations at the peak positions\n",
    "                batch_indices = torch.arange(batch[0].shape[0]).unsqueeze(1).expand(-1, pred_peaks.shape[-1])\n",
    "                # [batch_size, classes, channels]\n",
    "                peak_values = batch[0][batch_indices, pred_peaks.int(), :]\n",
    "\n",
    "                # pred_peaks /= lengths.unsqueeze(1)\n",
    "                # true_peaks /= lengths.unsqueeze(1)\n",
    "                data = {\"condition\": info[cue_var], \"epoch\": info[\"trial_index\"], \"participant\": info[\"participant\"], \"interval\": info[\"interval\"] if \"interval\" in info else None, \"rt_samples\": lengths}\n",
    "                for i, label in enumerate(labels):\n",
    "                    if i == 0:\n",
    "                        continue\n",
    "                    label_pred_peaks = pred_peaks[:, i - 1]\n",
    "                    label_true_peaks = true_peaks[:, i - 1]\n",
    "                    data[f\"{label}_pred\"] = label_pred_peaks\n",
    "                    data[f\"{label}_true\"] = label_true_peaks\n",
    "                    data[f\"{label}_peak_values\"] = peak_values[:, i - 1].tolist()\n",
    "                output.append(data)\n",
    "        df = pd.concat([pd.DataFrame(data) for data in output])\n",
    "        df.to_csv(path, index=False)\n",
    "    else:\n",
    "        df = pd.read_csv(path)"
   ]
  },
  {
   "cell_type": "markdown",
   "id": "170a69d8",
   "metadata": {},
   "source": [
    "### Analysis task 1"
   ]
  },
  {
   "cell_type": "code",
   "execution_count": 13,
   "id": "97761c9b",
   "metadata": {},
   "outputs": [],
   "source": [
    "set_global_seed(42)\n",
    "\n",
    "data_paths = [DATA_PATH / \"prp/stage_data_250hz_t1.nc\"]\n",
    "\n",
    "# train_percentage=100 makes test and val 100 as well\n",
    "# splits = split_participants(data_paths, train_percentage=60)\n",
    "splits = split_participants_custom(data_paths, 0)\n",
    "# info_to_keep = ['event_name', 'participant', 'epochs', 'rt'] #TODO: Might not be present\n",
    "info_to_keep = ['rt', 'participant', 'epochs', 'condition', 'trial_index', 'interval']\n",
    "whole_epoch = True\n",
    "subset_cond = None\n",
    "# subset_cond = ('condition', 'equal', 'long')\n",
    "add_negative = True\n",
    "skip_samples = 62 # 62\n",
    "cut_samples = 63 # 63\n",
    "add_pe = True"
   ]
  },
  {
   "cell_type": "code",
   "execution_count": 14,
   "id": "56cc4f6f",
   "metadata": {},
   "outputs": [],
   "source": [
    "norm_fn = norm_mad_zscore\n",
    "test_data = MultiXArrayProbaDataset(\n",
    "    data_paths,\n",
    "    participants_to_keep=splits[0],\n",
    "    normalization_fn=norm_fn,\n",
    "    labels=labels_t1,\n",
    "    info_to_keep=info_to_keep,\n",
    "    subset_cond=subset_cond,\n",
    "    add_negative=add_negative,\n",
    "    skip_samples=skip_samples,\n",
    "    cut_samples=cut_samples,\n",
    "    add_pe=add_pe,\n",
    ")"
   ]
  },
  {
   "cell_type": "code",
   "execution_count": 15,
   "id": "68147178",
   "metadata": {},
   "outputs": [],
   "source": [
    "test_loader = DataLoader(\n",
    "    test_data, batch_size=128, shuffle=True, num_workers=0, pin_memory=True\n",
    ")"
   ]
  },
  {
   "cell_type": "code",
   "execution_count": 16,
   "id": "0b349d11",
   "metadata": {},
   "outputs": [
    {
     "name": "stdout",
     "output_type": "stream",
     "text": [
      "Reading /workspace/data_local/prp/epoched/VP1-t1-epo.fif ...\n"
     ]
    },
    {
     "name": "stdout",
     "output_type": "stream",
     "text": [
      "    Found the data of interest:\n",
      "        t =    -250.00 ...    2000.00 ms\n",
      "        0 CTF compensation matrices available\n",
      "Adding metadata with 4 columns\n",
      "771 matching events found\n",
      "No baseline correction applied\n",
      "0 projection items activated\n"
     ]
    }
   ],
   "source": [
    "# info_path = DATA_PATH / \"sat2/preprocessed_500hz/preprocessed_S1_raw.fif\"\n",
    "info_path = DATA_PATH / \"prp/epoched/VP1-t1-epo.fif\"\n",
    "\n",
    "epoch = mne.read_epochs(info_path)\n",
    "epoch.set_montage(\"biosemi64\")\n",
    "positions = epoch.info"
   ]
  },
  {
   "cell_type": "code",
   "execution_count": 17,
   "id": "35f0ef82",
   "metadata": {},
   "outputs": [],
   "source": [
    "chk_path = Path(\"../models/t1_pe.pt\")\n",
    "checkpoint = load_model(chk_path)\n",
    "config = {\n",
    "    \"n_channels\": 64,\n",
    "    \"n_classes\": len(labels_t1),\n",
    "    \"n_mamba_layers\": 5,\n",
    "    \"use_pointconv_fe\": True,\n",
    "    \"spatial_feature_dim\": 128,\n",
    "    \"use_conv\": True,\n",
    "    \"conv_kernel_sizes\": [3, 9],\n",
    "    \"conv_in_channels\": [128, 128],\n",
    "    \"conv_out_channels\": [256, 256],\n",
    "    \"conv_concat\": True,\n",
    "    \"use_pos_enc\": add_pe,\n",
    "}\n",
    "\n",
    "model = build_mamba(config)\n",
    "model.load_state_dict(checkpoint[\"model_state_dict\"])\n",
    "model = model.to(DEVICE)\n",
    "model.eval();"
   ]
  },
  {
   "cell_type": "code",
   "execution_count": 19,
   "id": "08fe2989",
   "metadata": {},
   "outputs": [],
   "source": [
    "save_peak_timing(model, test_loader, labels_t1, Path(\"files/t1_peaks.csv\"), cue_var=\"condition\")"
   ]
  },
  {
   "cell_type": "markdown",
   "id": "1a3ec1a9",
   "metadata": {},
   "source": [
    "### Analysis Task 2"
   ]
  },
  {
   "cell_type": "code",
   "execution_count": 27,
   "id": "e4a515f5",
   "metadata": {},
   "outputs": [],
   "source": [
    "set_global_seed(42)\n",
    "\n",
    "data_paths = [DATA_PATH / \"prp/stage_data_250hz_t2.nc\"]\n",
    "\n",
    "# train_percentage=100 makes test and val 100 as well\n",
    "# splits = split_participants(data_paths, train_percentage=60)\n",
    "splits = split_participants_custom(data_paths, 0)\n",
    "# info_to_keep = ['event_name', 'participant', 'epochs', 'rt'] #TODO: Might not be present\n",
    "info_to_keep = ['rt', 'participant', 'epochs', 'condition', 'trial_index']\n",
    "whole_epoch = True\n",
    "subset_cond = None\n",
    "# subset_cond = ('condition', 'equal', 'long')\n",
    "add_negative = True\n",
    "skip_samples = 62 # 62\n",
    "cut_samples = 63 # 63\n",
    "add_pe = True"
   ]
  },
  {
   "cell_type": "code",
   "execution_count": 28,
   "id": "f6fb4286",
   "metadata": {},
   "outputs": [],
   "source": [
    "norm_fn = norm_mad_zscore\n",
    "test_data = MultiXArrayProbaDataset(\n",
    "    data_paths,\n",
    "    participants_to_keep=splits[0],\n",
    "    normalization_fn=norm_fn,\n",
    "    labels=labels_t2,\n",
    "    info_to_keep=info_to_keep,\n",
    "    subset_cond=subset_cond,\n",
    "    add_negative=add_negative,\n",
    "    skip_samples=skip_samples,\n",
    "    cut_samples=cut_samples,\n",
    "    add_pe=add_pe,\n",
    ")"
   ]
  },
  {
   "cell_type": "code",
   "execution_count": 29,
   "id": "d33e7582",
   "metadata": {},
   "outputs": [],
   "source": [
    "test_loader = DataLoader(\n",
    "    test_data, batch_size=128, shuffle=True, num_workers=0, pin_memory=True\n",
    ")"
   ]
  },
  {
   "cell_type": "code",
   "execution_count": 30,
   "id": "f2c5addc",
   "metadata": {},
   "outputs": [],
   "source": [
    "chk_path = Path(\"../models/t2_pe.pt\")\n",
    "checkpoint = load_model(chk_path)\n",
    "config = {\n",
    "    \"n_channels\": 64,\n",
    "    \"n_classes\": len(labels_t2),\n",
    "    \"n_mamba_layers\": 5,\n",
    "    \"use_pointconv_fe\": True,\n",
    "    \"spatial_feature_dim\": 128,\n",
    "    \"use_conv\": True,\n",
    "    \"conv_kernel_sizes\": [3, 9],\n",
    "    \"conv_in_channels\": [128, 128],\n",
    "    \"conv_out_channels\": [256, 256],\n",
    "    \"conv_concat\": True,\n",
    "    \"use_pos_enc\": add_pe,\n",
    "}\n",
    "\n",
    "model = build_mamba(config)\n",
    "model.load_state_dict(checkpoint[\"model_state_dict\"])\n",
    "model = model.to(DEVICE)\n",
    "model.eval();"
   ]
  },
  {
   "cell_type": "code",
   "execution_count": 31,
   "id": "38535dc5",
   "metadata": {},
   "outputs": [
    {
     "name": "stdout",
     "output_type": "stream",
     "text": [
      "Reading /workspace/data_local/prp/epoched/VP1-t1-epo.fif ...\n",
      "    Found the data of interest:\n",
      "        t =    -250.00 ...    2000.00 ms\n",
      "        0 CTF compensation matrices available\n",
      "Adding metadata with 4 columns\n",
      "771 matching events found\n",
      "No baseline correction applied\n",
      "0 projection items activated\n"
     ]
    }
   ],
   "source": [
    "# info_path = DATA_PATH / \"sat2/preprocessed_500hz/preprocessed_S1_raw.fif\"\n",
    "info_path = DATA_PATH / \"prp/epoched/VP1-t1-epo.fif\"\n",
    "\n",
    "epoch = mne.read_epochs(info_path)\n",
    "epoch.set_montage(\"biosemi64\")\n",
    "positions = epoch.info"
   ]
  },
  {
   "cell_type": "code",
   "execution_count": 36,
   "id": "ee5912d8",
   "metadata": {},
   "outputs": [],
   "source": [
    "save_peak_timing(model, test_loader, labels_t2, Path(\"files/t2_peaks.csv\"), cue_var=\"condition\")"
   ]
  }
 ],
 "metadata": {
  "kernelspec": {
   "display_name": "base",
   "language": "python",
   "name": "python3"
  },
  "language_info": {
   "codemirror_mode": {
    "name": "ipython",
    "version": 3
   },
   "file_extension": ".py",
   "mimetype": "text/x-python",
   "name": "python",
   "nbconvert_exporter": "python",
   "pygments_lexer": "ipython3",
   "version": "3.11.10"
  }
 },
 "nbformat": 4,
 "nbformat_minor": 5
}
