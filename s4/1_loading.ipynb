{
 "cells": [
  {
   "cell_type": "code",
   "execution_count": 1,
   "id": "f5c85df3",
   "metadata": {},
   "outputs": [],
   "source": [
    "%load_ext autoreload\n",
    "%autoreload 2\n",
    "import numpy as np\n",
    "import hmp\n",
    "from pathlib import Path\n",
    "import os\n",
    "DATA_PATH = Path(os.getenv(\"DATA_PATH\"))"
   ]
  },
  {
   "cell_type": "markdown",
   "id": "5816f946",
   "metadata": {},
   "source": [
    "### Task 1"
   ]
  },
  {
   "cell_type": "code",
   "execution_count": 2,
   "id": "4229ccb8",
   "metadata": {},
   "outputs": [],
   "source": [
    "sfreq = 250  # For resampling\n",
    "\n",
    "eeg_path = DATA_PATH / \"prp/epoched\"\n",
    "subj_names = [\n",
    "    x.split(\"_\")[0].split(\"-\")[0] for x in os.listdir(eeg_path) if \"t1\" in x\n",
    "] \n",
    "subj_names = [subj for subj in subj_names if subj not in [\"VP6\", \"VP7\"]]\n",
    "subj_names.sort()\n",
    "\n",
    "subj_files = [str(eeg_path) + \"/\" + x + \"-t1-epo.fif\" for x in subj_names]"
   ]
  },
  {
   "cell_type": "code",
   "execution_count": 3,
   "id": "d453a12e",
   "metadata": {},
   "outputs": [
    {
     "name": "stdout",
     "output_type": "stream",
     "text": [
      "Processing participant /workspace/data_local/prp/epoched/VP1-t1-epo.fif's epoched eeg\n"
     ]
    },
    {
     "name": "stderr",
     "output_type": "stream",
     "text": [
      "/workspace/hmp/hmp/utils.py:254: RuntimeWarning: filter_length (1691) is longer than the signal (1153), distortion is likely. Reduce filter length or filter a longer signal.\n",
      "  epochs.filter(high_pass, low_pass, fir_design='firwin', verbose=verbose)\n"
     ]
    },
    {
     "name": "stdout",
     "output_type": "stream",
     "text": [
      "EEG channel type selected for re-referencing\n",
      "Applying average reference.\n",
      "Applying a custom ('EEG',) reference.\n",
      "843 trials were retained for participant /workspace/data_local/prp/epoched/VP1-t1-epo.fif\n",
      "Processing participant /workspace/data_local/prp/epoched/VP10-t1-epo.fif's epoched eeg\n"
     ]
    },
    {
     "name": "stderr",
     "output_type": "stream",
     "text": [
      "/workspace/hmp/hmp/utils.py:254: RuntimeWarning: filter_length (1691) is longer than the signal (1153), distortion is likely. Reduce filter length or filter a longer signal.\n",
      "  epochs.filter(high_pass, low_pass, fir_design='firwin', verbose=verbose)\n"
     ]
    },
    {
     "name": "stdout",
     "output_type": "stream",
     "text": [
      "EEG channel type selected for re-referencing\n",
      "Applying average reference.\n",
      "Applying a custom ('EEG',) reference.\n",
      "1208 trials were retained for participant /workspace/data_local/prp/epoched/VP10-t1-epo.fif\n",
      "Processing participant /workspace/data_local/prp/epoched/VP11-t1-epo.fif's epoched eeg\n"
     ]
    },
    {
     "name": "stderr",
     "output_type": "stream",
     "text": [
      "/workspace/hmp/hmp/utils.py:254: RuntimeWarning: filter_length (1691) is longer than the signal (1153), distortion is likely. Reduce filter length or filter a longer signal.\n",
      "  epochs.filter(high_pass, low_pass, fir_design='firwin', verbose=verbose)\n"
     ]
    },
    {
     "name": "stdout",
     "output_type": "stream",
     "text": [
      "EEG channel type selected for re-referencing\n",
      "Applying average reference.\n",
      "Applying a custom ('EEG',) reference.\n",
      "1154 trials were retained for participant /workspace/data_local/prp/epoched/VP11-t1-epo.fif\n",
      "Processing participant /workspace/data_local/prp/epoched/VP12-t1-epo.fif's epoched eeg\n"
     ]
    },
    {
     "name": "stderr",
     "output_type": "stream",
     "text": [
      "/workspace/hmp/hmp/utils.py:254: RuntimeWarning: filter_length (1691) is longer than the signal (1153), distortion is likely. Reduce filter length or filter a longer signal.\n",
      "  epochs.filter(high_pass, low_pass, fir_design='firwin', verbose=verbose)\n"
     ]
    },
    {
     "name": "stdout",
     "output_type": "stream",
     "text": [
      "EEG channel type selected for re-referencing\n",
      "Applying average reference.\n",
      "Applying a custom ('EEG',) reference.\n",
      "811 trials were retained for participant /workspace/data_local/prp/epoched/VP12-t1-epo.fif\n",
      "Processing participant /workspace/data_local/prp/epoched/VP13-t1-epo.fif's epoched eeg\n"
     ]
    },
    {
     "name": "stderr",
     "output_type": "stream",
     "text": [
      "/workspace/hmp/hmp/utils.py:254: RuntimeWarning: filter_length (1691) is longer than the signal (1153), distortion is likely. Reduce filter length or filter a longer signal.\n",
      "  epochs.filter(high_pass, low_pass, fir_design='firwin', verbose=verbose)\n"
     ]
    },
    {
     "name": "stdout",
     "output_type": "stream",
     "text": [
      "EEG channel type selected for re-referencing\n",
      "Applying average reference.\n",
      "Applying a custom ('EEG',) reference.\n",
      "1023 trials were retained for participant /workspace/data_local/prp/epoched/VP13-t1-epo.fif\n",
      "Processing participant /workspace/data_local/prp/epoched/VP14-t1-epo.fif's epoched eeg\n"
     ]
    },
    {
     "name": "stderr",
     "output_type": "stream",
     "text": [
      "/workspace/hmp/hmp/utils.py:254: RuntimeWarning: filter_length (1691) is longer than the signal (1153), distortion is likely. Reduce filter length or filter a longer signal.\n",
      "  epochs.filter(high_pass, low_pass, fir_design='firwin', verbose=verbose)\n"
     ]
    },
    {
     "name": "stdout",
     "output_type": "stream",
     "text": [
      "EEG channel type selected for re-referencing\n",
      "Applying average reference.\n",
      "Applying a custom ('EEG',) reference.\n",
      "1228 trials were retained for participant /workspace/data_local/prp/epoched/VP14-t1-epo.fif\n",
      "Processing participant /workspace/data_local/prp/epoched/VP15-t1-epo.fif's epoched eeg\n"
     ]
    },
    {
     "name": "stderr",
     "output_type": "stream",
     "text": [
      "/workspace/hmp/hmp/utils.py:254: RuntimeWarning: filter_length (1691) is longer than the signal (1153), distortion is likely. Reduce filter length or filter a longer signal.\n",
      "  epochs.filter(high_pass, low_pass, fir_design='firwin', verbose=verbose)\n"
     ]
    },
    {
     "name": "stdout",
     "output_type": "stream",
     "text": [
      "EEG channel type selected for re-referencing\n",
      "Applying average reference.\n",
      "Applying a custom ('EEG',) reference.\n",
      "1246 trials were retained for participant /workspace/data_local/prp/epoched/VP15-t1-epo.fif\n",
      "Processing participant /workspace/data_local/prp/epoched/VP16-t1-epo.fif's epoched eeg\n"
     ]
    },
    {
     "name": "stderr",
     "output_type": "stream",
     "text": [
      "/workspace/hmp/hmp/utils.py:254: RuntimeWarning: filter_length (1691) is longer than the signal (1153), distortion is likely. Reduce filter length or filter a longer signal.\n",
      "  epochs.filter(high_pass, low_pass, fir_design='firwin', verbose=verbose)\n"
     ]
    },
    {
     "name": "stdout",
     "output_type": "stream",
     "text": [
      "EEG channel type selected for re-referencing\n",
      "Applying average reference.\n",
      "Applying a custom ('EEG',) reference.\n",
      "1261 trials were retained for participant /workspace/data_local/prp/epoched/VP16-t1-epo.fif\n",
      "Processing participant /workspace/data_local/prp/epoched/VP17-t1-epo.fif's epoched eeg\n"
     ]
    },
    {
     "name": "stderr",
     "output_type": "stream",
     "text": [
      "/workspace/hmp/hmp/utils.py:254: RuntimeWarning: filter_length (1691) is longer than the signal (1153), distortion is likely. Reduce filter length or filter a longer signal.\n",
      "  epochs.filter(high_pass, low_pass, fir_design='firwin', verbose=verbose)\n"
     ]
    },
    {
     "name": "stdout",
     "output_type": "stream",
     "text": [
      "EEG channel type selected for re-referencing\n",
      "Applying average reference.\n",
      "Applying a custom ('EEG',) reference.\n",
      "765 trials were retained for participant /workspace/data_local/prp/epoched/VP17-t1-epo.fif\n",
      "Processing participant /workspace/data_local/prp/epoched/VP18-t1-epo.fif's epoched eeg\n"
     ]
    },
    {
     "name": "stderr",
     "output_type": "stream",
     "text": [
      "/workspace/hmp/hmp/utils.py:254: RuntimeWarning: filter_length (1691) is longer than the signal (1153), distortion is likely. Reduce filter length or filter a longer signal.\n",
      "  epochs.filter(high_pass, low_pass, fir_design='firwin', verbose=verbose)\n"
     ]
    },
    {
     "name": "stdout",
     "output_type": "stream",
     "text": [
      "EEG channel type selected for re-referencing\n",
      "Applying average reference.\n",
      "Applying a custom ('EEG',) reference.\n",
      "1195 trials were retained for participant /workspace/data_local/prp/epoched/VP18-t1-epo.fif\n",
      "Processing participant /workspace/data_local/prp/epoched/VP19-t1-epo.fif's epoched eeg\n"
     ]
    },
    {
     "name": "stderr",
     "output_type": "stream",
     "text": [
      "/workspace/hmp/hmp/utils.py:254: RuntimeWarning: filter_length (1691) is longer than the signal (1153), distortion is likely. Reduce filter length or filter a longer signal.\n",
      "  epochs.filter(high_pass, low_pass, fir_design='firwin', verbose=verbose)\n"
     ]
    },
    {
     "name": "stdout",
     "output_type": "stream",
     "text": [
      "EEG channel type selected for re-referencing\n",
      "Applying average reference.\n",
      "Applying a custom ('EEG',) reference.\n",
      "1133 trials were retained for participant /workspace/data_local/prp/epoched/VP19-t1-epo.fif\n",
      "Processing participant /workspace/data_local/prp/epoched/VP2-t1-epo.fif's epoched eeg\n"
     ]
    },
    {
     "name": "stderr",
     "output_type": "stream",
     "text": [
      "/workspace/hmp/hmp/utils.py:254: RuntimeWarning: filter_length (1691) is longer than the signal (1153), distortion is likely. Reduce filter length or filter a longer signal.\n",
      "  epochs.filter(high_pass, low_pass, fir_design='firwin', verbose=verbose)\n"
     ]
    },
    {
     "name": "stdout",
     "output_type": "stream",
     "text": [
      "EEG channel type selected for re-referencing\n",
      "Applying average reference.\n",
      "Applying a custom ('EEG',) reference.\n",
      "1208 trials were retained for participant /workspace/data_local/prp/epoched/VP2-t1-epo.fif\n",
      "Processing participant /workspace/data_local/prp/epoched/VP20-t1-epo.fif's epoched eeg\n"
     ]
    },
    {
     "name": "stderr",
     "output_type": "stream",
     "text": [
      "/workspace/hmp/hmp/utils.py:254: RuntimeWarning: filter_length (1691) is longer than the signal (1153), distortion is likely. Reduce filter length or filter a longer signal.\n",
      "  epochs.filter(high_pass, low_pass, fir_design='firwin', verbose=verbose)\n"
     ]
    },
    {
     "name": "stdout",
     "output_type": "stream",
     "text": [
      "EEG channel type selected for re-referencing\n",
      "Applying average reference.\n",
      "Applying a custom ('EEG',) reference.\n",
      "1103 trials were retained for participant /workspace/data_local/prp/epoched/VP20-t1-epo.fif\n",
      "Processing participant /workspace/data_local/prp/epoched/VP21-t1-epo.fif's epoched eeg\n"
     ]
    },
    {
     "name": "stderr",
     "output_type": "stream",
     "text": [
      "/workspace/hmp/hmp/utils.py:254: RuntimeWarning: filter_length (1691) is longer than the signal (1153), distortion is likely. Reduce filter length or filter a longer signal.\n",
      "  epochs.filter(high_pass, low_pass, fir_design='firwin', verbose=verbose)\n"
     ]
    },
    {
     "name": "stdout",
     "output_type": "stream",
     "text": [
      "EEG channel type selected for re-referencing\n",
      "Applying average reference.\n",
      "Applying a custom ('EEG',) reference.\n",
      "1163 trials were retained for participant /workspace/data_local/prp/epoched/VP21-t1-epo.fif\n",
      "Processing participant /workspace/data_local/prp/epoched/VP22-t1-epo.fif's epoched eeg\n"
     ]
    },
    {
     "name": "stderr",
     "output_type": "stream",
     "text": [
      "/workspace/hmp/hmp/utils.py:254: RuntimeWarning: filter_length (1691) is longer than the signal (1153), distortion is likely. Reduce filter length or filter a longer signal.\n",
      "  epochs.filter(high_pass, low_pass, fir_design='firwin', verbose=verbose)\n"
     ]
    },
    {
     "name": "stdout",
     "output_type": "stream",
     "text": [
      "EEG channel type selected for re-referencing\n",
      "Applying average reference.\n",
      "Applying a custom ('EEG',) reference.\n",
      "1186 trials were retained for participant /workspace/data_local/prp/epoched/VP22-t1-epo.fif\n",
      "Processing participant /workspace/data_local/prp/epoched/VP23-t1-epo.fif's epoched eeg\n"
     ]
    },
    {
     "name": "stderr",
     "output_type": "stream",
     "text": [
      "/workspace/hmp/hmp/utils.py:254: RuntimeWarning: filter_length (1691) is longer than the signal (1153), distortion is likely. Reduce filter length or filter a longer signal.\n",
      "  epochs.filter(high_pass, low_pass, fir_design='firwin', verbose=verbose)\n"
     ]
    },
    {
     "name": "stdout",
     "output_type": "stream",
     "text": [
      "EEG channel type selected for re-referencing\n",
      "Applying average reference.\n",
      "Applying a custom ('EEG',) reference.\n",
      "1165 trials were retained for participant /workspace/data_local/prp/epoched/VP23-t1-epo.fif\n",
      "Processing participant /workspace/data_local/prp/epoched/VP24-t1-epo.fif's epoched eeg\n"
     ]
    },
    {
     "name": "stderr",
     "output_type": "stream",
     "text": [
      "/workspace/hmp/hmp/utils.py:254: RuntimeWarning: filter_length (1691) is longer than the signal (1153), distortion is likely. Reduce filter length or filter a longer signal.\n",
      "  epochs.filter(high_pass, low_pass, fir_design='firwin', verbose=verbose)\n"
     ]
    },
    {
     "name": "stdout",
     "output_type": "stream",
     "text": [
      "EEG channel type selected for re-referencing\n",
      "Applying average reference.\n",
      "Applying a custom ('EEG',) reference.\n",
      "1202 trials were retained for participant /workspace/data_local/prp/epoched/VP24-t1-epo.fif\n",
      "Processing participant /workspace/data_local/prp/epoched/VP3-t1-epo.fif's epoched eeg\n"
     ]
    },
    {
     "name": "stderr",
     "output_type": "stream",
     "text": [
      "/workspace/hmp/hmp/utils.py:254: RuntimeWarning: filter_length (1691) is longer than the signal (1153), distortion is likely. Reduce filter length or filter a longer signal.\n",
      "  epochs.filter(high_pass, low_pass, fir_design='firwin', verbose=verbose)\n"
     ]
    },
    {
     "name": "stdout",
     "output_type": "stream",
     "text": [
      "EEG channel type selected for re-referencing\n",
      "Applying average reference.\n",
      "Applying a custom ('EEG',) reference.\n",
      "1209 trials were retained for participant /workspace/data_local/prp/epoched/VP3-t1-epo.fif\n",
      "Processing participant /workspace/data_local/prp/epoched/VP5-t1-epo.fif's epoched eeg\n"
     ]
    },
    {
     "name": "stderr",
     "output_type": "stream",
     "text": [
      "/workspace/hmp/hmp/utils.py:254: RuntimeWarning: filter_length (1691) is longer than the signal (1153), distortion is likely. Reduce filter length or filter a longer signal.\n",
      "  epochs.filter(high_pass, low_pass, fir_design='firwin', verbose=verbose)\n"
     ]
    },
    {
     "name": "stdout",
     "output_type": "stream",
     "text": [
      "EEG channel type selected for re-referencing\n",
      "Applying average reference.\n",
      "Applying a custom ('EEG',) reference.\n",
      "1182 trials were retained for participant /workspace/data_local/prp/epoched/VP5-t1-epo.fif\n",
      "Processing participant /workspace/data_local/prp/epoched/VP8-t1-epo.fif's epoched eeg\n"
     ]
    },
    {
     "name": "stderr",
     "output_type": "stream",
     "text": [
      "/workspace/hmp/hmp/utils.py:254: RuntimeWarning: filter_length (1691) is longer than the signal (1153), distortion is likely. Reduce filter length or filter a longer signal.\n",
      "  epochs.filter(high_pass, low_pass, fir_design='firwin', verbose=verbose)\n"
     ]
    },
    {
     "name": "stdout",
     "output_type": "stream",
     "text": [
      "EEG channel type selected for re-referencing\n",
      "Applying average reference.\n",
      "Applying a custom ('EEG',) reference.\n",
      "1115 trials were retained for participant /workspace/data_local/prp/epoched/VP8-t1-epo.fif\n",
      "Processing participant /workspace/data_local/prp/epoched/VP9-t1-epo.fif's epoched eeg\n"
     ]
    },
    {
     "name": "stderr",
     "output_type": "stream",
     "text": [
      "/workspace/hmp/hmp/utils.py:254: RuntimeWarning: filter_length (1691) is longer than the signal (1153), distortion is likely. Reduce filter length or filter a longer signal.\n",
      "  epochs.filter(high_pass, low_pass, fir_design='firwin', verbose=verbose)\n"
     ]
    },
    {
     "name": "stdout",
     "output_type": "stream",
     "text": [
      "EEG channel type selected for re-referencing\n",
      "Applying average reference.\n",
      "Applying a custom ('EEG',) reference.\n",
      "1218 trials were retained for participant /workspace/data_local/prp/epoched/VP9-t1-epo.fif\n"
     ]
    }
   ],
   "source": [
    "epoch_data = hmp.utils.read_mne_data(\n",
    "    subj_files,\n",
    "    epoched=True,\n",
    "    sfreq=sfreq,\n",
    "    rt_col='rt',\n",
    "    scale=1,\n",
    "    lower_limit_RT=0.2,\n",
    "    # reject_threshold=1e-4,\n",
    "    high_pass=1,\n",
    "    low_pass=50,\n",
    "    reference='average',\n",
    "    verbose=False,\n",
    "    subj_idx=subj_names,\n",
    "    offset_after_resp=0.30,\n",
    "    offset_before_stim=0.25,\n",
    ")\n",
    "tmp_offset = epoch_data.offset\n",
    "# epoch_data = epoch_data.assign_attrs({'offset': 0, 'extra_offset': tmp_offset})\n",
    "epoch_data = epoch_data.assign_attrs({'offset': 12, 'extra_offset': tmp_offset - 12})\n",
    "# hmp.utils.read_mne_data(subj_files, epoched=True, sfreq=sfreq, verbose=False, subj_idx=subj_names, rt_col='rt', reference='average', \n",
    "#                         lower_limit_RT=.2, low_pass=50, offset_after_resp=0.05).to_netcdf(data_path+'Data_t1_250Hz.nc')"
   ]
  },
  {
   "cell_type": "code",
   "execution_count": 4,
   "id": "4fcec903",
   "metadata": {},
   "outputs": [
    {
     "data": {
      "text/html": [
       "<div><svg style=\"position: absolute; width: 0; height: 0; overflow: hidden\">\n",
       "<defs>\n",
       "<symbol id=\"icon-database\" viewBox=\"0 0 32 32\">\n",
       "<path d=\"M16 0c-8.837 0-16 2.239-16 5v4c0 2.761 7.163 5 16 5s16-2.239 16-5v-4c0-2.761-7.163-5-16-5z\"></path>\n",
       "<path d=\"M16 17c-8.837 0-16-2.239-16-5v6c0 2.761 7.163 5 16 5s16-2.239 16-5v-6c0 2.761-7.163 5-16 5z\"></path>\n",
       "<path d=\"M16 26c-8.837 0-16-2.239-16-5v6c0 2.761 7.163 5 16 5s16-2.239 16-5v-6c0 2.761-7.163 5-16 5z\"></path>\n",
       "</symbol>\n",
       "<symbol id=\"icon-file-text2\" viewBox=\"0 0 32 32\">\n",
       "<path d=\"M28.681 7.159c-0.694-0.947-1.662-2.053-2.724-3.116s-2.169-2.030-3.116-2.724c-1.612-1.182-2.393-1.319-2.841-1.319h-15.5c-1.378 0-2.5 1.121-2.5 2.5v27c0 1.378 1.122 2.5 2.5 2.5h23c1.378 0 2.5-1.122 2.5-2.5v-19.5c0-0.448-0.137-1.23-1.319-2.841zM24.543 5.457c0.959 0.959 1.712 1.825 2.268 2.543h-4.811v-4.811c0.718 0.556 1.584 1.309 2.543 2.268zM28 29.5c0 0.271-0.229 0.5-0.5 0.5h-23c-0.271 0-0.5-0.229-0.5-0.5v-27c0-0.271 0.229-0.5 0.5-0.5 0 0 15.499-0 15.5 0v7c0 0.552 0.448 1 1 1h7v19.5z\"></path>\n",
       "<path d=\"M23 26h-14c-0.552 0-1-0.448-1-1s0.448-1 1-1h14c0.552 0 1 0.448 1 1s-0.448 1-1 1z\"></path>\n",
       "<path d=\"M23 22h-14c-0.552 0-1-0.448-1-1s0.448-1 1-1h14c0.552 0 1 0.448 1 1s-0.448 1-1 1z\"></path>\n",
       "<path d=\"M23 18h-14c-0.552 0-1-0.448-1-1s0.448-1 1-1h14c0.552 0 1 0.448 1 1s-0.448 1-1 1z\"></path>\n",
       "</symbol>\n",
       "</defs>\n",
       "</svg>\n",
       "<style>/* CSS stylesheet for displaying xarray objects in jupyterlab.\n",
       " *\n",
       " */\n",
       "\n",
       ":root {\n",
       "  --xr-font-color0: var(--jp-content-font-color0, rgba(0, 0, 0, 1));\n",
       "  --xr-font-color2: var(--jp-content-font-color2, rgba(0, 0, 0, 0.54));\n",
       "  --xr-font-color3: var(--jp-content-font-color3, rgba(0, 0, 0, 0.38));\n",
       "  --xr-border-color: var(--jp-border-color2, #e0e0e0);\n",
       "  --xr-disabled-color: var(--jp-layout-color3, #bdbdbd);\n",
       "  --xr-background-color: var(--jp-layout-color0, white);\n",
       "  --xr-background-color-row-even: var(--jp-layout-color1, white);\n",
       "  --xr-background-color-row-odd: var(--jp-layout-color2, #eeeeee);\n",
       "}\n",
       "\n",
       "html[theme=\"dark\"],\n",
       "html[data-theme=\"dark\"],\n",
       "body[data-theme=\"dark\"],\n",
       "body.vscode-dark {\n",
       "  --xr-font-color0: rgba(255, 255, 255, 1);\n",
       "  --xr-font-color2: rgba(255, 255, 255, 0.54);\n",
       "  --xr-font-color3: rgba(255, 255, 255, 0.38);\n",
       "  --xr-border-color: #1f1f1f;\n",
       "  --xr-disabled-color: #515151;\n",
       "  --xr-background-color: #111111;\n",
       "  --xr-background-color-row-even: #111111;\n",
       "  --xr-background-color-row-odd: #313131;\n",
       "}\n",
       "\n",
       ".xr-wrap {\n",
       "  display: block !important;\n",
       "  min-width: 300px;\n",
       "  max-width: 700px;\n",
       "}\n",
       "\n",
       ".xr-text-repr-fallback {\n",
       "  /* fallback to plain text repr when CSS is not injected (untrusted notebook) */\n",
       "  display: none;\n",
       "}\n",
       "\n",
       ".xr-header {\n",
       "  padding-top: 6px;\n",
       "  padding-bottom: 6px;\n",
       "  margin-bottom: 4px;\n",
       "  border-bottom: solid 1px var(--xr-border-color);\n",
       "}\n",
       "\n",
       ".xr-header > div,\n",
       ".xr-header > ul {\n",
       "  display: inline;\n",
       "  margin-top: 0;\n",
       "  margin-bottom: 0;\n",
       "}\n",
       "\n",
       ".xr-obj-type,\n",
       ".xr-array-name {\n",
       "  margin-left: 2px;\n",
       "  margin-right: 10px;\n",
       "}\n",
       "\n",
       ".xr-obj-type {\n",
       "  color: var(--xr-font-color2);\n",
       "}\n",
       "\n",
       ".xr-sections {\n",
       "  padding-left: 0 !important;\n",
       "  display: grid;\n",
       "  grid-template-columns: 150px auto auto 1fr 0 20px 0 20px;\n",
       "}\n",
       "\n",
       ".xr-section-item {\n",
       "  display: contents;\n",
       "}\n",
       "\n",
       ".xr-section-item input {\n",
       "  display: inline-block;\n",
       "  opacity: 0;\n",
       "  height: 0;\n",
       "}\n",
       "\n",
       ".xr-section-item input + label {\n",
       "  color: var(--xr-disabled-color);\n",
       "}\n",
       "\n",
       ".xr-section-item input:enabled + label {\n",
       "  cursor: pointer;\n",
       "  color: var(--xr-font-color2);\n",
       "}\n",
       "\n",
       ".xr-section-item input:focus + label {\n",
       "  border: 2px solid var(--xr-font-color0);\n",
       "}\n",
       "\n",
       ".xr-section-item input:enabled + label:hover {\n",
       "  color: var(--xr-font-color0);\n",
       "}\n",
       "\n",
       ".xr-section-summary {\n",
       "  grid-column: 1;\n",
       "  color: var(--xr-font-color2);\n",
       "  font-weight: 500;\n",
       "}\n",
       "\n",
       ".xr-section-summary > span {\n",
       "  display: inline-block;\n",
       "  padding-left: 0.5em;\n",
       "}\n",
       "\n",
       ".xr-section-summary-in:disabled + label {\n",
       "  color: var(--xr-font-color2);\n",
       "}\n",
       "\n",
       ".xr-section-summary-in + label:before {\n",
       "  display: inline-block;\n",
       "  content: \"►\";\n",
       "  font-size: 11px;\n",
       "  width: 15px;\n",
       "  text-align: center;\n",
       "}\n",
       "\n",
       ".xr-section-summary-in:disabled + label:before {\n",
       "  color: var(--xr-disabled-color);\n",
       "}\n",
       "\n",
       ".xr-section-summary-in:checked + label:before {\n",
       "  content: \"▼\";\n",
       "}\n",
       "\n",
       ".xr-section-summary-in:checked + label > span {\n",
       "  display: none;\n",
       "}\n",
       "\n",
       ".xr-section-summary,\n",
       ".xr-section-inline-details {\n",
       "  padding-top: 4px;\n",
       "  padding-bottom: 4px;\n",
       "}\n",
       "\n",
       ".xr-section-inline-details {\n",
       "  grid-column: 2 / -1;\n",
       "}\n",
       "\n",
       ".xr-section-details {\n",
       "  display: none;\n",
       "  grid-column: 1 / -1;\n",
       "  margin-bottom: 5px;\n",
       "}\n",
       "\n",
       ".xr-section-summary-in:checked ~ .xr-section-details {\n",
       "  display: contents;\n",
       "}\n",
       "\n",
       ".xr-array-wrap {\n",
       "  grid-column: 1 / -1;\n",
       "  display: grid;\n",
       "  grid-template-columns: 20px auto;\n",
       "}\n",
       "\n",
       ".xr-array-wrap > label {\n",
       "  grid-column: 1;\n",
       "  vertical-align: top;\n",
       "}\n",
       "\n",
       ".xr-preview {\n",
       "  color: var(--xr-font-color3);\n",
       "}\n",
       "\n",
       ".xr-array-preview,\n",
       ".xr-array-data {\n",
       "  padding: 0 5px !important;\n",
       "  grid-column: 2;\n",
       "}\n",
       "\n",
       ".xr-array-data,\n",
       ".xr-array-in:checked ~ .xr-array-preview {\n",
       "  display: none;\n",
       "}\n",
       "\n",
       ".xr-array-in:checked ~ .xr-array-data,\n",
       ".xr-array-preview {\n",
       "  display: inline-block;\n",
       "}\n",
       "\n",
       ".xr-dim-list {\n",
       "  display: inline-block !important;\n",
       "  list-style: none;\n",
       "  padding: 0 !important;\n",
       "  margin: 0;\n",
       "}\n",
       "\n",
       ".xr-dim-list li {\n",
       "  display: inline-block;\n",
       "  padding: 0;\n",
       "  margin: 0;\n",
       "}\n",
       "\n",
       ".xr-dim-list:before {\n",
       "  content: \"(\";\n",
       "}\n",
       "\n",
       ".xr-dim-list:after {\n",
       "  content: \")\";\n",
       "}\n",
       "\n",
       ".xr-dim-list li:not(:last-child):after {\n",
       "  content: \",\";\n",
       "  padding-right: 5px;\n",
       "}\n",
       "\n",
       ".xr-has-index {\n",
       "  font-weight: bold;\n",
       "}\n",
       "\n",
       ".xr-var-list,\n",
       ".xr-var-item {\n",
       "  display: contents;\n",
       "}\n",
       "\n",
       ".xr-var-item > div,\n",
       ".xr-var-item label,\n",
       ".xr-var-item > .xr-var-name span {\n",
       "  background-color: var(--xr-background-color-row-even);\n",
       "  margin-bottom: 0;\n",
       "}\n",
       "\n",
       ".xr-var-item > .xr-var-name:hover span {\n",
       "  padding-right: 5px;\n",
       "}\n",
       "\n",
       ".xr-var-list > li:nth-child(odd) > div,\n",
       ".xr-var-list > li:nth-child(odd) > label,\n",
       ".xr-var-list > li:nth-child(odd) > .xr-var-name span {\n",
       "  background-color: var(--xr-background-color-row-odd);\n",
       "}\n",
       "\n",
       ".xr-var-name {\n",
       "  grid-column: 1;\n",
       "}\n",
       "\n",
       ".xr-var-dims {\n",
       "  grid-column: 2;\n",
       "}\n",
       "\n",
       ".xr-var-dtype {\n",
       "  grid-column: 3;\n",
       "  text-align: right;\n",
       "  color: var(--xr-font-color2);\n",
       "}\n",
       "\n",
       ".xr-var-preview {\n",
       "  grid-column: 4;\n",
       "}\n",
       "\n",
       ".xr-index-preview {\n",
       "  grid-column: 2 / 5;\n",
       "  color: var(--xr-font-color2);\n",
       "}\n",
       "\n",
       ".xr-var-name,\n",
       ".xr-var-dims,\n",
       ".xr-var-dtype,\n",
       ".xr-preview,\n",
       ".xr-attrs dt {\n",
       "  white-space: nowrap;\n",
       "  overflow: hidden;\n",
       "  text-overflow: ellipsis;\n",
       "  padding-right: 10px;\n",
       "}\n",
       "\n",
       ".xr-var-name:hover,\n",
       ".xr-var-dims:hover,\n",
       ".xr-var-dtype:hover,\n",
       ".xr-attrs dt:hover {\n",
       "  overflow: visible;\n",
       "  width: auto;\n",
       "  z-index: 1;\n",
       "}\n",
       "\n",
       ".xr-var-attrs,\n",
       ".xr-var-data,\n",
       ".xr-index-data {\n",
       "  display: none;\n",
       "  background-color: var(--xr-background-color) !important;\n",
       "  padding-bottom: 5px !important;\n",
       "}\n",
       "\n",
       ".xr-var-attrs-in:checked ~ .xr-var-attrs,\n",
       ".xr-var-data-in:checked ~ .xr-var-data,\n",
       ".xr-index-data-in:checked ~ .xr-index-data {\n",
       "  display: block;\n",
       "}\n",
       "\n",
       ".xr-var-data > table {\n",
       "  float: right;\n",
       "}\n",
       "\n",
       ".xr-var-name span,\n",
       ".xr-var-data,\n",
       ".xr-index-name div,\n",
       ".xr-index-data,\n",
       ".xr-attrs {\n",
       "  padding-left: 25px !important;\n",
       "}\n",
       "\n",
       ".xr-attrs,\n",
       ".xr-var-attrs,\n",
       ".xr-var-data,\n",
       ".xr-index-data {\n",
       "  grid-column: 1 / -1;\n",
       "}\n",
       "\n",
       "dl.xr-attrs {\n",
       "  padding: 0;\n",
       "  margin: 0;\n",
       "  display: grid;\n",
       "  grid-template-columns: 125px auto;\n",
       "}\n",
       "\n",
       ".xr-attrs dt,\n",
       ".xr-attrs dd {\n",
       "  padding: 0;\n",
       "  margin: 0;\n",
       "  float: left;\n",
       "  padding-right: 10px;\n",
       "  width: auto;\n",
       "}\n",
       "\n",
       ".xr-attrs dt {\n",
       "  font-weight: normal;\n",
       "  grid-column: 1;\n",
       "}\n",
       "\n",
       ".xr-attrs dt:hover span {\n",
       "  display: inline-block;\n",
       "  background: var(--xr-background-color);\n",
       "  padding-right: 10px;\n",
       "}\n",
       "\n",
       ".xr-attrs dd {\n",
       "  grid-column: 2;\n",
       "  white-space: pre-wrap;\n",
       "  word-break: break-all;\n",
       "}\n",
       "\n",
       ".xr-icon-database,\n",
       ".xr-icon-file-text2,\n",
       ".xr-no-icon {\n",
       "  display: inline-block;\n",
       "  vertical-align: middle;\n",
       "  width: 1em;\n",
       "  height: 1.5em !important;\n",
       "  stroke-width: 0;\n",
       "  stroke: currentColor;\n",
       "  fill: currentColor;\n",
       "}\n",
       "</style><pre class='xr-text-repr-fallback'>&lt;xarray.DataArray &#x27;correct&#x27; (participant: 21, epochs: 1281)&gt; Size: 215kB\n",
       "array([[1.0, 1.0, 1.0, ..., nan, nan, nan],\n",
       "       [True, True, True, ..., nan, nan, nan],\n",
       "       [1.0, 1.0, 1.0, ..., nan, nan, nan],\n",
       "       ...,\n",
       "       [1.0, 1.0, 0.0, ..., nan, nan, nan],\n",
       "       [1.0, 1.0, 1.0, ..., nan, nan, nan],\n",
       "       [0.0, 0.0, 1.0, ..., nan, nan, nan]], dtype=object)\n",
       "Coordinates:\n",
       "  * epochs       (epochs) int64 10kB 0 1 2 3 4 5 ... 1276 1277 1278 1279 1280\n",
       "    rt           (participant, epochs) float64 215kB 1.406 0.6855 ... nan nan\n",
       "    condition    (participant, epochs) object 215kB &#x27;long&#x27; &#x27;long&#x27; ... nan nan\n",
       "    trial_index  (participant, epochs) float64 215kB 0.0 1.0 2.0 ... nan nan nan\n",
       "    interval     (participant, epochs) float64 215kB 1.197 1.178 ... nan nan\n",
       "    correct      (participant, epochs) object 215kB 1.0 1.0 1.0 ... nan nan nan\n",
       "  * participant  (participant) &lt;U4 336B &#x27;VP1&#x27; &#x27;VP10&#x27; &#x27;VP11&#x27; ... &#x27;VP8&#x27; &#x27;VP9&#x27;</pre><div class='xr-wrap' style='display:none'><div class='xr-header'><div class='xr-obj-type'>xarray.DataArray</div><div class='xr-array-name'>'correct'</div><ul class='xr-dim-list'><li><span class='xr-has-index'>participant</span>: 21</li><li><span class='xr-has-index'>epochs</span>: 1281</li></ul></div><ul class='xr-sections'><li class='xr-section-item'><div class='xr-array-wrap'><input id='section-2462ea0a-9e21-4c66-988c-d40c468c7283' class='xr-array-in' type='checkbox' checked><label for='section-2462ea0a-9e21-4c66-988c-d40c468c7283' title='Show/hide data repr'><svg class='icon xr-icon-database'><use xlink:href='#icon-database'></use></svg></label><div class='xr-array-preview xr-preview'><span>1.0 1.0 1.0 0.0 1.0 1.0 1.0 1.0 ... nan nan nan nan nan nan nan nan</span></div><div class='xr-array-data'><pre>array([[1.0, 1.0, 1.0, ..., nan, nan, nan],\n",
       "       [True, True, True, ..., nan, nan, nan],\n",
       "       [1.0, 1.0, 1.0, ..., nan, nan, nan],\n",
       "       ...,\n",
       "       [1.0, 1.0, 0.0, ..., nan, nan, nan],\n",
       "       [1.0, 1.0, 1.0, ..., nan, nan, nan],\n",
       "       [0.0, 0.0, 1.0, ..., nan, nan, nan]], dtype=object)</pre></div></div></li><li class='xr-section-item'><input id='section-673c2832-b98c-46e9-a078-1a3dce4c4eba' class='xr-section-summary-in' type='checkbox'  checked><label for='section-673c2832-b98c-46e9-a078-1a3dce4c4eba' class='xr-section-summary' >Coordinates: <span>(7)</span></label><div class='xr-section-inline-details'></div><div class='xr-section-details'><ul class='xr-var-list'><li class='xr-var-item'><div class='xr-var-name'><span class='xr-has-index'>epochs</span></div><div class='xr-var-dims'>(epochs)</div><div class='xr-var-dtype'>int64</div><div class='xr-var-preview xr-preview'>0 1 2 3 4 ... 1277 1278 1279 1280</div><input id='attrs-4dcf653a-30f0-4a8f-8ffb-2ae1a3604168' class='xr-var-attrs-in' type='checkbox' disabled><label for='attrs-4dcf653a-30f0-4a8f-8ffb-2ae1a3604168' title='Show/Hide attributes'><svg class='icon xr-icon-file-text2'><use xlink:href='#icon-file-text2'></use></svg></label><input id='data-9e4aeeda-4a14-49b8-b781-26d0a83886ea' class='xr-var-data-in' type='checkbox'><label for='data-9e4aeeda-4a14-49b8-b781-26d0a83886ea' title='Show/Hide data repr'><svg class='icon xr-icon-database'><use xlink:href='#icon-database'></use></svg></label><div class='xr-var-attrs'><dl class='xr-attrs'></dl></div><div class='xr-var-data'><pre>array([   0,    1,    2, ..., 1278, 1279, 1280])</pre></div></li><li class='xr-var-item'><div class='xr-var-name'><span>rt</span></div><div class='xr-var-dims'>(participant, epochs)</div><div class='xr-var-dtype'>float64</div><div class='xr-var-preview xr-preview'>1.406 0.6855 0.5371 ... nan nan nan</div><input id='attrs-068eaa68-d45b-438f-ab0b-638e9ea9d7e4' class='xr-var-attrs-in' type='checkbox' disabled><label for='attrs-068eaa68-d45b-438f-ab0b-638e9ea9d7e4' title='Show/Hide attributes'><svg class='icon xr-icon-file-text2'><use xlink:href='#icon-file-text2'></use></svg></label><input id='data-ff0e607d-719b-4d60-be9f-7c228b982f35' class='xr-var-data-in' type='checkbox'><label for='data-ff0e607d-719b-4d60-be9f-7c228b982f35' title='Show/Hide data repr'><svg class='icon xr-icon-database'><use xlink:href='#icon-database'></use></svg></label><div class='xr-var-attrs'><dl class='xr-attrs'></dl></div><div class='xr-var-data'><pre>array([[1.40625   , 0.68554688, 0.53710938, ...,        nan,        nan,\n",
       "               nan],\n",
       "       [0.6171875 , 0.64257812, 0.76367188, ...,        nan,        nan,\n",
       "               nan],\n",
       "       [0.51953125, 0.640625  , 0.59570312, ...,        nan,        nan,\n",
       "               nan],\n",
       "       ...,\n",
       "       [0.4453125 , 0.52148438, 0.5703125 , ...,        nan,        nan,\n",
       "               nan],\n",
       "       [0.64648438, 0.84765625, 0.5703125 , ...,        nan,        nan,\n",
       "               nan],\n",
       "       [0.5390625 , 0.4765625 , 0.75390625, ...,        nan,        nan,\n",
       "               nan]])</pre></div></li><li class='xr-var-item'><div class='xr-var-name'><span>condition</span></div><div class='xr-var-dims'>(participant, epochs)</div><div class='xr-var-dtype'>object</div><div class='xr-var-preview xr-preview'>&#x27;long&#x27; &#x27;long&#x27; &#x27;short&#x27; ... nan nan</div><input id='attrs-f6381476-4c78-477d-988d-3ea2b4524784' class='xr-var-attrs-in' type='checkbox' disabled><label for='attrs-f6381476-4c78-477d-988d-3ea2b4524784' title='Show/Hide attributes'><svg class='icon xr-icon-file-text2'><use xlink:href='#icon-file-text2'></use></svg></label><input id='data-c3691434-3bb8-460a-9c08-311d27e894eb' class='xr-var-data-in' type='checkbox'><label for='data-c3691434-3bb8-460a-9c08-311d27e894eb' title='Show/Hide data repr'><svg class='icon xr-icon-database'><use xlink:href='#icon-database'></use></svg></label><div class='xr-var-attrs'><dl class='xr-attrs'></dl></div><div class='xr-var-data'><pre>array([[&#x27;long&#x27;, &#x27;long&#x27;, &#x27;short&#x27;, ..., nan, nan, nan],\n",
       "       [&#x27;long&#x27;, &#x27;short&#x27;, &#x27;long&#x27;, ..., nan, nan, nan],\n",
       "       [&#x27;short&#x27;, &#x27;long&#x27;, &#x27;short&#x27;, ..., nan, nan, nan],\n",
       "       ...,\n",
       "       [&#x27;long&#x27;, &#x27;long&#x27;, &#x27;short&#x27;, ..., nan, nan, nan],\n",
       "       [&#x27;long&#x27;, &#x27;short&#x27;, &#x27;long&#x27;, ..., nan, nan, nan],\n",
       "       [&#x27;long&#x27;, &#x27;short&#x27;, &#x27;long&#x27;, ..., nan, nan, nan]], dtype=object)</pre></div></li><li class='xr-var-item'><div class='xr-var-name'><span>trial_index</span></div><div class='xr-var-dims'>(participant, epochs)</div><div class='xr-var-dtype'>float64</div><div class='xr-var-preview xr-preview'>0.0 1.0 2.0 3.0 ... nan nan nan nan</div><input id='attrs-0409e41a-1090-4312-990f-36b5d1cd7b15' class='xr-var-attrs-in' type='checkbox' disabled><label for='attrs-0409e41a-1090-4312-990f-36b5d1cd7b15' title='Show/Hide attributes'><svg class='icon xr-icon-file-text2'><use xlink:href='#icon-file-text2'></use></svg></label><input id='data-d2dcfb98-ccea-472b-84cd-1a3d92b63821' class='xr-var-data-in' type='checkbox'><label for='data-d2dcfb98-ccea-472b-84cd-1a3d92b63821' title='Show/Hide data repr'><svg class='icon xr-icon-database'><use xlink:href='#icon-database'></use></svg></label><div class='xr-var-attrs'><dl class='xr-attrs'></dl></div><div class='xr-var-data'><pre>array([[ 0.,  1.,  2., ..., nan, nan, nan],\n",
       "       [ 1.,  2.,  3., ..., nan, nan, nan],\n",
       "       [ 2.,  3.,  4., ..., nan, nan, nan],\n",
       "       ...,\n",
       "       [ 0.,  1.,  2., ..., nan, nan, nan],\n",
       "       [ 1.,  2.,  3., ..., nan, nan, nan],\n",
       "       [ 0.,  1.,  3., ..., nan, nan, nan]])</pre></div></li><li class='xr-var-item'><div class='xr-var-name'><span>interval</span></div><div class='xr-var-dims'>(participant, epochs)</div><div class='xr-var-dtype'>float64</div><div class='xr-var-preview xr-preview'>1.197 1.178 0.2754 ... nan nan nan</div><input id='attrs-02ed5919-820b-438c-ab9a-9f2c594ebacc' class='xr-var-attrs-in' type='checkbox' disabled><label for='attrs-02ed5919-820b-438c-ab9a-9f2c594ebacc' title='Show/Hide attributes'><svg class='icon xr-icon-file-text2'><use xlink:href='#icon-file-text2'></use></svg></label><input id='data-6b05e7b7-f846-4dba-b8aa-e61acfe9f749' class='xr-var-data-in' type='checkbox'><label for='data-6b05e7b7-f846-4dba-b8aa-e61acfe9f749' title='Show/Hide data repr'><svg class='icon xr-icon-database'><use xlink:href='#icon-database'></use></svg></label><div class='xr-var-attrs'><dl class='xr-attrs'></dl></div><div class='xr-var-data'><pre>array([[1.19726562, 1.17773438, 0.27539062, ...,        nan,        nan,\n",
       "               nan],\n",
       "       [1.17578125, 0.27734375, 1.17773438, ...,        nan,        nan,\n",
       "               nan],\n",
       "       [0.27539062, 1.17578125, 0.27539062, ...,        nan,        nan,\n",
       "               nan],\n",
       "       ...,\n",
       "       [1.19726562, 1.17578125, 0.27734375, ...,        nan,        nan,\n",
       "               nan],\n",
       "       [1.17578125, 0.27539062, 1.17773438, ...,        nan,        nan,\n",
       "               nan],\n",
       "       [1.19726562, 0.27734375, 1.17578125, ...,        nan,        nan,\n",
       "               nan]])</pre></div></li><li class='xr-var-item'><div class='xr-var-name'><span>correct</span></div><div class='xr-var-dims'>(participant, epochs)</div><div class='xr-var-dtype'>object</div><div class='xr-var-preview xr-preview'>1.0 1.0 1.0 0.0 ... nan nan nan nan</div><input id='attrs-92cd92ea-d793-42d9-897a-c4d68e9bff47' class='xr-var-attrs-in' type='checkbox' disabled><label for='attrs-92cd92ea-d793-42d9-897a-c4d68e9bff47' title='Show/Hide attributes'><svg class='icon xr-icon-file-text2'><use xlink:href='#icon-file-text2'></use></svg></label><input id='data-cb09343a-fc21-4f34-8330-236294540d2a' class='xr-var-data-in' type='checkbox'><label for='data-cb09343a-fc21-4f34-8330-236294540d2a' title='Show/Hide data repr'><svg class='icon xr-icon-database'><use xlink:href='#icon-database'></use></svg></label><div class='xr-var-attrs'><dl class='xr-attrs'></dl></div><div class='xr-var-data'><pre>array([[1.0, 1.0, 1.0, ..., nan, nan, nan],\n",
       "       [True, True, True, ..., nan, nan, nan],\n",
       "       [1.0, 1.0, 1.0, ..., nan, nan, nan],\n",
       "       ...,\n",
       "       [1.0, 1.0, 0.0, ..., nan, nan, nan],\n",
       "       [1.0, 1.0, 1.0, ..., nan, nan, nan],\n",
       "       [0.0, 0.0, 1.0, ..., nan, nan, nan]], dtype=object)</pre></div></li><li class='xr-var-item'><div class='xr-var-name'><span class='xr-has-index'>participant</span></div><div class='xr-var-dims'>(participant)</div><div class='xr-var-dtype'>&lt;U4</div><div class='xr-var-preview xr-preview'>&#x27;VP1&#x27; &#x27;VP10&#x27; &#x27;VP11&#x27; ... &#x27;VP8&#x27; &#x27;VP9&#x27;</div><input id='attrs-2098bcd9-2bc8-4ccd-afc0-9105a93431e5' class='xr-var-attrs-in' type='checkbox' disabled><label for='attrs-2098bcd9-2bc8-4ccd-afc0-9105a93431e5' title='Show/Hide attributes'><svg class='icon xr-icon-file-text2'><use xlink:href='#icon-file-text2'></use></svg></label><input id='data-4fb15d91-3ba1-43ca-98f7-f1f56dffffe3' class='xr-var-data-in' type='checkbox'><label for='data-4fb15d91-3ba1-43ca-98f7-f1f56dffffe3' title='Show/Hide data repr'><svg class='icon xr-icon-database'><use xlink:href='#icon-database'></use></svg></label><div class='xr-var-attrs'><dl class='xr-attrs'></dl></div><div class='xr-var-data'><pre>array([&#x27;VP1&#x27;, &#x27;VP10&#x27;, &#x27;VP11&#x27;, &#x27;VP12&#x27;, &#x27;VP13&#x27;, &#x27;VP14&#x27;, &#x27;VP15&#x27;, &#x27;VP16&#x27;, &#x27;VP17&#x27;,\n",
       "       &#x27;VP18&#x27;, &#x27;VP19&#x27;, &#x27;VP2&#x27;, &#x27;VP20&#x27;, &#x27;VP21&#x27;, &#x27;VP22&#x27;, &#x27;VP23&#x27;, &#x27;VP24&#x27;, &#x27;VP3&#x27;,\n",
       "       &#x27;VP5&#x27;, &#x27;VP8&#x27;, &#x27;VP9&#x27;], dtype=&#x27;&lt;U4&#x27;)</pre></div></li></ul></div></li><li class='xr-section-item'><input id='section-573f14f2-c363-4bfa-9bcb-126f64a3ae4c' class='xr-section-summary-in' type='checkbox'  ><label for='section-573f14f2-c363-4bfa-9bcb-126f64a3ae4c' class='xr-section-summary' >Indexes: <span>(2)</span></label><div class='xr-section-inline-details'></div><div class='xr-section-details'><ul class='xr-var-list'><li class='xr-var-item'><div class='xr-index-name'><div>epochs</div></div><div class='xr-index-preview'>PandasIndex</div><input type='checkbox' disabled/><label></label><input id='index-583bdd14-386c-4cc6-b91c-63ec24eeeb46' class='xr-index-data-in' type='checkbox'/><label for='index-583bdd14-386c-4cc6-b91c-63ec24eeeb46' title='Show/Hide index repr'><svg class='icon xr-icon-database'><use xlink:href='#icon-database'></use></svg></label><div class='xr-index-data'><pre>PandasIndex(Index([   0,    1,    2,    3,    4,    5,    6,    7,    8,    9,\n",
       "       ...\n",
       "       1271, 1272, 1273, 1274, 1275, 1276, 1277, 1278, 1279, 1280],\n",
       "      dtype=&#x27;int64&#x27;, name=&#x27;epochs&#x27;, length=1281))</pre></div></li><li class='xr-var-item'><div class='xr-index-name'><div>participant</div></div><div class='xr-index-preview'>PandasIndex</div><input type='checkbox' disabled/><label></label><input id='index-051f630d-621d-4f1b-aec2-f2f21593474c' class='xr-index-data-in' type='checkbox'/><label for='index-051f630d-621d-4f1b-aec2-f2f21593474c' title='Show/Hide index repr'><svg class='icon xr-icon-database'><use xlink:href='#icon-database'></use></svg></label><div class='xr-index-data'><pre>PandasIndex(Index([&#x27;VP1&#x27;, &#x27;VP10&#x27;, &#x27;VP11&#x27;, &#x27;VP12&#x27;, &#x27;VP13&#x27;, &#x27;VP14&#x27;, &#x27;VP15&#x27;, &#x27;VP16&#x27;, &#x27;VP17&#x27;,\n",
       "       &#x27;VP18&#x27;, &#x27;VP19&#x27;, &#x27;VP2&#x27;, &#x27;VP20&#x27;, &#x27;VP21&#x27;, &#x27;VP22&#x27;, &#x27;VP23&#x27;, &#x27;VP24&#x27;, &#x27;VP3&#x27;,\n",
       "       &#x27;VP5&#x27;, &#x27;VP8&#x27;, &#x27;VP9&#x27;],\n",
       "      dtype=&#x27;object&#x27;, name=&#x27;participant&#x27;))</pre></div></li></ul></div></li><li class='xr-section-item'><input id='section-e6954ade-e887-4ee9-96e2-74a4c3a76388' class='xr-section-summary-in' type='checkbox' disabled ><label for='section-e6954ade-e887-4ee9-96e2-74a4c3a76388' class='xr-section-summary'  title='Expand/collapse section'>Attributes: <span>(0)</span></label><div class='xr-section-inline-details'></div><div class='xr-section-details'><dl class='xr-attrs'></dl></div></li></ul></div></div>"
      ],
      "text/plain": [
       "<xarray.DataArray 'correct' (participant: 21, epochs: 1281)> Size: 215kB\n",
       "array([[1.0, 1.0, 1.0, ..., nan, nan, nan],\n",
       "       [True, True, True, ..., nan, nan, nan],\n",
       "       [1.0, 1.0, 1.0, ..., nan, nan, nan],\n",
       "       ...,\n",
       "       [1.0, 1.0, 0.0, ..., nan, nan, nan],\n",
       "       [1.0, 1.0, 1.0, ..., nan, nan, nan],\n",
       "       [0.0, 0.0, 1.0, ..., nan, nan, nan]], dtype=object)\n",
       "Coordinates:\n",
       "  * epochs       (epochs) int64 10kB 0 1 2 3 4 5 ... 1276 1277 1278 1279 1280\n",
       "    rt           (participant, epochs) float64 215kB 1.406 0.6855 ... nan nan\n",
       "    condition    (participant, epochs) object 215kB 'long' 'long' ... nan nan\n",
       "    trial_index  (participant, epochs) float64 215kB 0.0 1.0 2.0 ... nan nan nan\n",
       "    interval     (participant, epochs) float64 215kB 1.197 1.178 ... nan nan\n",
       "    correct      (participant, epochs) object 215kB 1.0 1.0 1.0 ... nan nan nan\n",
       "  * participant  (participant) <U4 336B 'VP1' 'VP10' 'VP11' ... 'VP8' 'VP9'"
      ]
     },
     "execution_count": 4,
     "metadata": {},
     "output_type": "execute_result"
    }
   ],
   "source": [
    "epoch_data.correct"
   ]
  },
  {
   "cell_type": "code",
   "execution_count": 8,
   "id": "571fb14b",
   "metadata": {},
   "outputs": [],
   "source": [
    "epoch_data['correct'] = epoch_data.correct.astype(float)\n",
    "epoch_data.to_netcdf(DATA_PATH / 'prp/data_t1_250hz.nc')"
   ]
  },
  {
   "cell_type": "markdown",
   "id": "4db767cc",
   "metadata": {},
   "source": [
    "### Task 2"
   ]
  },
  {
   "cell_type": "code",
   "execution_count": null,
   "id": "0cb5c349",
   "metadata": {},
   "outputs": [],
   "source": [
    "sfreq = 250  # For resampling\n",
    "\n",
    "eeg_path = DATA_PATH / \"prp/epoched\"\n",
    "subj_names = [\n",
    "    x.split(\"_\")[0].split(\"-\")[0] for x in os.listdir(eeg_path) if \"t2\" in x\n",
    "] \n",
    "subj_names = [subj for subj in subj_names if subj not in [\"VP6\", \"VP7\"]]\n",
    "subj_names.sort()\n",
    "\n",
    "subj_files = [str(eeg_path) + \"/\" + x + \"-t2-epo.fif\" for x in subj_names]"
   ]
  },
  {
   "cell_type": "code",
   "execution_count": null,
   "id": "f488014c",
   "metadata": {},
   "outputs": [
    {
     "name": "stdout",
     "output_type": "stream",
     "text": [
      "Processing participant /workspace/data_local/prp/epoched/VP1-t2-epo.fif's epoched eeg\n"
     ]
    },
    {
     "name": "stderr",
     "output_type": "stream",
     "text": [
      "/workspace/hmp/hmp/utils.py:254: RuntimeWarning: filter_length (1691) is longer than the signal (1153), distortion is likely. Reduce filter length or filter a longer signal.\n",
      "  epochs.filter(high_pass, low_pass, fir_design='firwin', verbose=verbose)\n"
     ]
    },
    {
     "name": "stdout",
     "output_type": "stream",
     "text": [
      "EEG channel type selected for re-referencing\n",
      "Applying average reference.\n",
      "Applying a custom ('EEG',) reference.\n",
      "829 trials were retained for participant /workspace/data_local/prp/epoched/VP1-t2-epo.fif\n",
      "Processing participant /workspace/data_local/prp/epoched/VP10-t2-epo.fif's epoched eeg\n"
     ]
    },
    {
     "name": "stderr",
     "output_type": "stream",
     "text": [
      "/workspace/hmp/hmp/utils.py:254: RuntimeWarning: filter_length (1691) is longer than the signal (1153), distortion is likely. Reduce filter length or filter a longer signal.\n",
      "  epochs.filter(high_pass, low_pass, fir_design='firwin', verbose=verbose)\n"
     ]
    },
    {
     "name": "stdout",
     "output_type": "stream",
     "text": [
      "EEG channel type selected for re-referencing\n",
      "Applying average reference.\n",
      "Applying a custom ('EEG',) reference.\n",
      "1205 trials were retained for participant /workspace/data_local/prp/epoched/VP10-t2-epo.fif\n",
      "Processing participant /workspace/data_local/prp/epoched/VP11-t2-epo.fif's epoched eeg\n"
     ]
    },
    {
     "name": "stderr",
     "output_type": "stream",
     "text": [
      "/workspace/hmp/hmp/utils.py:254: RuntimeWarning: filter_length (1691) is longer than the signal (1153), distortion is likely. Reduce filter length or filter a longer signal.\n",
      "  epochs.filter(high_pass, low_pass, fir_design='firwin', verbose=verbose)\n"
     ]
    },
    {
     "name": "stdout",
     "output_type": "stream",
     "text": [
      "EEG channel type selected for re-referencing\n",
      "Applying average reference.\n",
      "Applying a custom ('EEG',) reference.\n",
      "1182 trials were retained for participant /workspace/data_local/prp/epoched/VP11-t2-epo.fif\n",
      "Processing participant /workspace/data_local/prp/epoched/VP12-t2-epo.fif's epoched eeg\n"
     ]
    },
    {
     "name": "stderr",
     "output_type": "stream",
     "text": [
      "/workspace/hmp/hmp/utils.py:254: RuntimeWarning: filter_length (1691) is longer than the signal (1153), distortion is likely. Reduce filter length or filter a longer signal.\n",
      "  epochs.filter(high_pass, low_pass, fir_design='firwin', verbose=verbose)\n"
     ]
    },
    {
     "name": "stdout",
     "output_type": "stream",
     "text": [
      "EEG channel type selected for re-referencing\n",
      "Applying average reference.\n",
      "Applying a custom ('EEG',) reference.\n",
      "578 trials were retained for participant /workspace/data_local/prp/epoched/VP12-t2-epo.fif\n",
      "Processing participant /workspace/data_local/prp/epoched/VP13-t2-epo.fif's epoched eeg\n"
     ]
    },
    {
     "name": "stderr",
     "output_type": "stream",
     "text": [
      "/workspace/hmp/hmp/utils.py:254: RuntimeWarning: filter_length (1691) is longer than the signal (1153), distortion is likely. Reduce filter length or filter a longer signal.\n",
      "  epochs.filter(high_pass, low_pass, fir_design='firwin', verbose=verbose)\n"
     ]
    },
    {
     "name": "stdout",
     "output_type": "stream",
     "text": [
      "EEG channel type selected for re-referencing\n",
      "Applying average reference.\n",
      "Applying a custom ('EEG',) reference.\n",
      "1017 trials were retained for participant /workspace/data_local/prp/epoched/VP13-t2-epo.fif\n",
      "Processing participant /workspace/data_local/prp/epoched/VP14-t2-epo.fif's epoched eeg\n"
     ]
    },
    {
     "name": "stderr",
     "output_type": "stream",
     "text": [
      "/workspace/hmp/hmp/utils.py:254: RuntimeWarning: filter_length (1691) is longer than the signal (1153), distortion is likely. Reduce filter length or filter a longer signal.\n",
      "  epochs.filter(high_pass, low_pass, fir_design='firwin', verbose=verbose)\n"
     ]
    },
    {
     "name": "stdout",
     "output_type": "stream",
     "text": [
      "EEG channel type selected for re-referencing\n",
      "Applying average reference.\n",
      "Applying a custom ('EEG',) reference.\n",
      "1223 trials were retained for participant /workspace/data_local/prp/epoched/VP14-t2-epo.fif\n",
      "Processing participant /workspace/data_local/prp/epoched/VP15-t2-epo.fif's epoched eeg\n"
     ]
    },
    {
     "name": "stderr",
     "output_type": "stream",
     "text": [
      "/workspace/hmp/hmp/utils.py:254: RuntimeWarning: filter_length (1691) is longer than the signal (1153), distortion is likely. Reduce filter length or filter a longer signal.\n",
      "  epochs.filter(high_pass, low_pass, fir_design='firwin', verbose=verbose)\n"
     ]
    },
    {
     "name": "stdout",
     "output_type": "stream",
     "text": [
      "EEG channel type selected for re-referencing\n",
      "Applying average reference.\n",
      "Applying a custom ('EEG',) reference.\n",
      "1235 trials were retained for participant /workspace/data_local/prp/epoched/VP15-t2-epo.fif\n",
      "Processing participant /workspace/data_local/prp/epoched/VP16-t2-epo.fif's epoched eeg\n"
     ]
    },
    {
     "name": "stderr",
     "output_type": "stream",
     "text": [
      "/workspace/hmp/hmp/utils.py:254: RuntimeWarning: filter_length (1691) is longer than the signal (1153), distortion is likely. Reduce filter length or filter a longer signal.\n",
      "  epochs.filter(high_pass, low_pass, fir_design='firwin', verbose=verbose)\n"
     ]
    },
    {
     "name": "stdout",
     "output_type": "stream",
     "text": [
      "EEG channel type selected for re-referencing\n",
      "Applying average reference.\n",
      "Applying a custom ('EEG',) reference.\n",
      "1254 trials were retained for participant /workspace/data_local/prp/epoched/VP16-t2-epo.fif\n",
      "Processing participant /workspace/data_local/prp/epoched/VP17-t2-epo.fif's epoched eeg\n"
     ]
    },
    {
     "name": "stderr",
     "output_type": "stream",
     "text": [
      "/workspace/hmp/hmp/utils.py:254: RuntimeWarning: filter_length (1691) is longer than the signal (1153), distortion is likely. Reduce filter length or filter a longer signal.\n",
      "  epochs.filter(high_pass, low_pass, fir_design='firwin', verbose=verbose)\n"
     ]
    },
    {
     "name": "stdout",
     "output_type": "stream",
     "text": [
      "EEG channel type selected for re-referencing\n",
      "Applying average reference.\n",
      "Applying a custom ('EEG',) reference.\n",
      "806 trials were retained for participant /workspace/data_local/prp/epoched/VP17-t2-epo.fif\n",
      "Processing participant /workspace/data_local/prp/epoched/VP18-t2-epo.fif's epoched eeg\n"
     ]
    },
    {
     "name": "stderr",
     "output_type": "stream",
     "text": [
      "/workspace/hmp/hmp/utils.py:254: RuntimeWarning: filter_length (1691) is longer than the signal (1153), distortion is likely. Reduce filter length or filter a longer signal.\n",
      "  epochs.filter(high_pass, low_pass, fir_design='firwin', verbose=verbose)\n"
     ]
    },
    {
     "name": "stdout",
     "output_type": "stream",
     "text": [
      "EEG channel type selected for re-referencing\n",
      "Applying average reference.\n",
      "Applying a custom ('EEG',) reference.\n",
      "1188 trials were retained for participant /workspace/data_local/prp/epoched/VP18-t2-epo.fif\n",
      "Processing participant /workspace/data_local/prp/epoched/VP19-t2-epo.fif's epoched eeg\n"
     ]
    },
    {
     "name": "stderr",
     "output_type": "stream",
     "text": [
      "/workspace/hmp/hmp/utils.py:254: RuntimeWarning: filter_length (1691) is longer than the signal (1153), distortion is likely. Reduce filter length or filter a longer signal.\n",
      "  epochs.filter(high_pass, low_pass, fir_design='firwin', verbose=verbose)\n"
     ]
    },
    {
     "name": "stdout",
     "output_type": "stream",
     "text": [
      "EEG channel type selected for re-referencing\n",
      "Applying average reference.\n",
      "Applying a custom ('EEG',) reference.\n",
      "1150 trials were retained for participant /workspace/data_local/prp/epoched/VP19-t2-epo.fif\n",
      "Processing participant /workspace/data_local/prp/epoched/VP2-t2-epo.fif's epoched eeg\n"
     ]
    },
    {
     "name": "stderr",
     "output_type": "stream",
     "text": [
      "/workspace/hmp/hmp/utils.py:254: RuntimeWarning: filter_length (1691) is longer than the signal (1153), distortion is likely. Reduce filter length or filter a longer signal.\n",
      "  epochs.filter(high_pass, low_pass, fir_design='firwin', verbose=verbose)\n"
     ]
    },
    {
     "name": "stdout",
     "output_type": "stream",
     "text": [
      "EEG channel type selected for re-referencing\n",
      "Applying average reference.\n",
      "Applying a custom ('EEG',) reference.\n",
      "1193 trials were retained for participant /workspace/data_local/prp/epoched/VP2-t2-epo.fif\n",
      "Processing participant /workspace/data_local/prp/epoched/VP20-t2-epo.fif's epoched eeg\n"
     ]
    },
    {
     "name": "stderr",
     "output_type": "stream",
     "text": [
      "/workspace/hmp/hmp/utils.py:254: RuntimeWarning: filter_length (1691) is longer than the signal (1153), distortion is likely. Reduce filter length or filter a longer signal.\n",
      "  epochs.filter(high_pass, low_pass, fir_design='firwin', verbose=verbose)\n"
     ]
    },
    {
     "name": "stdout",
     "output_type": "stream",
     "text": [
      "EEG channel type selected for re-referencing\n",
      "Applying average reference.\n",
      "Applying a custom ('EEG',) reference.\n",
      "1103 trials were retained for participant /workspace/data_local/prp/epoched/VP20-t2-epo.fif\n",
      "Processing participant /workspace/data_local/prp/epoched/VP21-t2-epo.fif's epoched eeg\n"
     ]
    },
    {
     "name": "stderr",
     "output_type": "stream",
     "text": [
      "/workspace/hmp/hmp/utils.py:254: RuntimeWarning: filter_length (1691) is longer than the signal (1153), distortion is likely. Reduce filter length or filter a longer signal.\n",
      "  epochs.filter(high_pass, low_pass, fir_design='firwin', verbose=verbose)\n"
     ]
    },
    {
     "name": "stdout",
     "output_type": "stream",
     "text": [
      "EEG channel type selected for re-referencing\n",
      "Applying average reference.\n",
      "Applying a custom ('EEG',) reference.\n",
      "1154 trials were retained for participant /workspace/data_local/prp/epoched/VP21-t2-epo.fif\n",
      "Processing participant /workspace/data_local/prp/epoched/VP22-t2-epo.fif's epoched eeg\n"
     ]
    },
    {
     "name": "stderr",
     "output_type": "stream",
     "text": [
      "/workspace/hmp/hmp/utils.py:254: RuntimeWarning: filter_length (1691) is longer than the signal (1153), distortion is likely. Reduce filter length or filter a longer signal.\n",
      "  epochs.filter(high_pass, low_pass, fir_design='firwin', verbose=verbose)\n"
     ]
    },
    {
     "name": "stdout",
     "output_type": "stream",
     "text": [
      "EEG channel type selected for re-referencing\n",
      "Applying average reference.\n",
      "Applying a custom ('EEG',) reference.\n",
      "1181 trials were retained for participant /workspace/data_local/prp/epoched/VP22-t2-epo.fif\n",
      "Processing participant /workspace/data_local/prp/epoched/VP23-t2-epo.fif's epoched eeg\n"
     ]
    },
    {
     "name": "stderr",
     "output_type": "stream",
     "text": [
      "/workspace/hmp/hmp/utils.py:254: RuntimeWarning: filter_length (1691) is longer than the signal (1153), distortion is likely. Reduce filter length or filter a longer signal.\n",
      "  epochs.filter(high_pass, low_pass, fir_design='firwin', verbose=verbose)\n"
     ]
    },
    {
     "name": "stdout",
     "output_type": "stream",
     "text": [
      "EEG channel type selected for re-referencing\n",
      "Applying average reference.\n",
      "Applying a custom ('EEG',) reference.\n",
      "1167 trials were retained for participant /workspace/data_local/prp/epoched/VP23-t2-epo.fif\n",
      "Processing participant /workspace/data_local/prp/epoched/VP24-t2-epo.fif's epoched eeg\n"
     ]
    },
    {
     "name": "stderr",
     "output_type": "stream",
     "text": [
      "/workspace/hmp/hmp/utils.py:254: RuntimeWarning: filter_length (1691) is longer than the signal (1153), distortion is likely. Reduce filter length or filter a longer signal.\n",
      "  epochs.filter(high_pass, low_pass, fir_design='firwin', verbose=verbose)\n"
     ]
    },
    {
     "name": "stdout",
     "output_type": "stream",
     "text": [
      "EEG channel type selected for re-referencing\n",
      "Applying average reference.\n",
      "Applying a custom ('EEG',) reference.\n",
      "1210 trials were retained for participant /workspace/data_local/prp/epoched/VP24-t2-epo.fif\n",
      "Processing participant /workspace/data_local/prp/epoched/VP3-t2-epo.fif's epoched eeg\n"
     ]
    },
    {
     "name": "stderr",
     "output_type": "stream",
     "text": [
      "/workspace/hmp/hmp/utils.py:254: RuntimeWarning: filter_length (1691) is longer than the signal (1153), distortion is likely. Reduce filter length or filter a longer signal.\n",
      "  epochs.filter(high_pass, low_pass, fir_design='firwin', verbose=verbose)\n"
     ]
    },
    {
     "name": "stdout",
     "output_type": "stream",
     "text": [
      "EEG channel type selected for re-referencing\n",
      "Applying average reference.\n",
      "Applying a custom ('EEG',) reference.\n",
      "1191 trials were retained for participant /workspace/data_local/prp/epoched/VP3-t2-epo.fif\n",
      "Processing participant /workspace/data_local/prp/epoched/VP5-t2-epo.fif's epoched eeg\n"
     ]
    },
    {
     "name": "stderr",
     "output_type": "stream",
     "text": [
      "/workspace/hmp/hmp/utils.py:254: RuntimeWarning: filter_length (1691) is longer than the signal (1153), distortion is likely. Reduce filter length or filter a longer signal.\n",
      "  epochs.filter(high_pass, low_pass, fir_design='firwin', verbose=verbose)\n"
     ]
    },
    {
     "name": "stdout",
     "output_type": "stream",
     "text": [
      "EEG channel type selected for re-referencing\n",
      "Applying average reference.\n",
      "Applying a custom ('EEG',) reference.\n",
      "1182 trials were retained for participant /workspace/data_local/prp/epoched/VP5-t2-epo.fif\n",
      "Processing participant /workspace/data_local/prp/epoched/VP8-t2-epo.fif's epoched eeg\n"
     ]
    },
    {
     "name": "stderr",
     "output_type": "stream",
     "text": [
      "/workspace/hmp/hmp/utils.py:254: RuntimeWarning: filter_length (1691) is longer than the signal (1153), distortion is likely. Reduce filter length or filter a longer signal.\n",
      "  epochs.filter(high_pass, low_pass, fir_design='firwin', verbose=verbose)\n"
     ]
    },
    {
     "name": "stdout",
     "output_type": "stream",
     "text": [
      "EEG channel type selected for re-referencing\n",
      "Applying average reference.\n",
      "Applying a custom ('EEG',) reference.\n",
      "1003 trials were retained for participant /workspace/data_local/prp/epoched/VP8-t2-epo.fif\n",
      "Processing participant /workspace/data_local/prp/epoched/VP9-t2-epo.fif's epoched eeg\n"
     ]
    },
    {
     "name": "stderr",
     "output_type": "stream",
     "text": [
      "/workspace/hmp/hmp/utils.py:254: RuntimeWarning: filter_length (1691) is longer than the signal (1153), distortion is likely. Reduce filter length or filter a longer signal.\n",
      "  epochs.filter(high_pass, low_pass, fir_design='firwin', verbose=verbose)\n"
     ]
    },
    {
     "name": "stdout",
     "output_type": "stream",
     "text": [
      "EEG channel type selected for re-referencing\n",
      "Applying average reference.\n",
      "Applying a custom ('EEG',) reference.\n",
      "1172 trials were retained for participant /workspace/data_local/prp/epoched/VP9-t2-epo.fif\n"
     ]
    }
   ],
   "source": [
    "epoch_data = hmp.utils.read_mne_data(\n",
    "    subj_files,\n",
    "    epoched=True,\n",
    "    sfreq=sfreq,\n",
    "    rt_col='rt',\n",
    "    scale=1,\n",
    "    lower_limit_RT=0.2,\n",
    "    # reject_threshold=1e-4,\n",
    "    high_pass=1,\n",
    "    low_pass=50,\n",
    "    reference='average',\n",
    "    verbose=False,\n",
    "    subj_idx=subj_names,\n",
    "    offset_after_resp=0.30,\n",
    "    offset_before_stim=0.25,\n",
    ")\n",
    "tmp_offset = epoch_data.offset\n",
    "# epoch_data = epoch_data.assign_attrs({'offset': 0, 'extra_offset': tmp_offset})\n",
    "epoch_data = epoch_data.assign_attrs({'offset': 12, 'extra_offset': tmp_offset - 12})"
   ]
  },
  {
   "cell_type": "code",
   "execution_count": null,
   "id": "9bea07e9",
   "metadata": {},
   "outputs": [],
   "source": [
    "epoch_data['correct'] = epoch_data.correct.astype(float)\n",
    "epoch_data.to_netcdf(DATA_PATH / 'prp/data_t2_250hz.nc')"
   ]
  },
  {
   "cell_type": "markdown",
   "id": "ee17f33c",
   "metadata": {},
   "source": [
    "### Combined"
   ]
  },
  {
   "cell_type": "code",
   "execution_count": 2,
   "id": "ba06b60d",
   "metadata": {},
   "outputs": [],
   "source": [
    "sfreq = 250  # For resampling\n",
    "\n",
    "eeg_path = DATA_PATH / \"prp/epoched\"\n",
    "subj_names = [\n",
    "    x.split(\"_\")[0].split(\"-\")[0] for x in os.listdir(eeg_path) if \"t1\" in x\n",
    "] \n",
    "subj_names = [subj for subj in subj_names if subj not in [\"VP6\", \"VP7\"]]\n",
    "subj_names.sort()\n",
    "\n",
    "subj_files = [str(eeg_path) + \"/\" + x + \"-t-epo.fif\" for x in subj_names]"
   ]
  },
  {
   "cell_type": "code",
   "execution_count": null,
   "id": "824ff06f",
   "metadata": {},
   "outputs": [],
   "source": [
    "epoch_data = hmp.utils.read_mne_data(\n",
    "    subj_files,\n",
    "    epoched=True,\n",
    "    sfreq=sfreq,\n",
    "    rt_col='rt',\n",
    "    scale=1,\n",
    "    lower_limit_RT=0.2,\n",
    "    # reject_threshold=1e-4,\n",
    "    upper_limit_RT=4, # Manually set here since tmax-offset is used otherwise\n",
    "    high_pass=1,\n",
    "    low_pass=50,\n",
    "    reference='average',\n",
    "    verbose=True,\n",
    "    subj_idx=subj_names,\n",
    "    offset_after_resp=0.30,\n",
    "    offset_before_stim=0.25,\n",
    ")\n",
    "tmp_offset = epoch_data.offset\n",
    "# epoch_data = epoch_data.assign_attrs({'offset': 0, 'extra_offset': tmp_offset})\n",
    "epoch_data = epoch_data.assign_attrs({'offset': 12, 'extra_offset': tmp_offset - 12})"
   ]
  },
  {
   "cell_type": "code",
   "execution_count": 4,
   "id": "944df974",
   "metadata": {},
   "outputs": [],
   "source": [
    "epoch_data['correct_t1'] = epoch_data.correct_t1.astype(float)\n",
    "epoch_data['correct_t2'] = epoch_data.correct_t2.astype(float)\n",
    "epoch_data.to_netcdf(DATA_PATH / 'prp/data_t_250hz.nc')"
   ]
  }
 ],
 "metadata": {
  "kernelspec": {
   "display_name": "base",
   "language": "python",
   "name": "python3"
  },
  "language_info": {
   "codemirror_mode": {
    "name": "ipython",
    "version": 3
   },
   "file_extension": ".py",
   "mimetype": "text/x-python",
   "name": "python",
   "nbconvert_exporter": "python",
   "pygments_lexer": "ipython3",
   "version": "3.11.10"
  }
 },
 "nbformat": 4,
 "nbformat_minor": 5
}
