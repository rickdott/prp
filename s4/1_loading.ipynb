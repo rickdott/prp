{
 "cells": [
  {
   "cell_type": "code",
   "execution_count": 1,
   "id": "f5c85df3",
   "metadata": {},
   "outputs": [],
   "source": [
    "%load_ext autoreload\n",
    "%autoreload 2\n",
    "import numpy as np\n",
    "import hmp\n",
    "from pathlib import Path\n",
    "import os\n",
    "DATA_PATH = Path(os.getenv(\"DATA_PATH\"))"
   ]
  },
  {
   "cell_type": "markdown",
   "id": "5816f946",
   "metadata": {},
   "source": [
    "### Task 1"
   ]
  },
  {
   "cell_type": "code",
   "execution_count": 2,
   "id": "4229ccb8",
   "metadata": {},
   "outputs": [],
   "source": [
    "sfreq = 250  # For resampling\n",
    "\n",
    "eeg_path = DATA_PATH / \"prp/epoched\"\n",
    "subj_names = [\n",
    "    x.split(\"_\")[0].split(\"-\")[0] for x in os.listdir(eeg_path) if \"t1\" in x\n",
    "] \n",
    "subj_names = [subj for subj in subj_names if subj not in [\"VP6\", \"VP7\"]]\n",
    "subj_names.sort()\n",
    "\n",
    "subj_files = [str(eeg_path) + \"/\" + x + \"-t1-epo.fif\" for x in subj_names]"
   ]
  },
  {
   "cell_type": "code",
   "execution_count": 3,
   "id": "d453a12e",
   "metadata": {},
   "outputs": [
    {
     "name": "stdout",
     "output_type": "stream",
     "text": [
      "Processing participant /workspace/data_local/prp/epoched/VP1-t1-epo.fif's epoched eeg\n"
     ]
    },
    {
     "name": "stderr",
     "output_type": "stream",
     "text": [
      "/workspace/hmp/hmp/utils.py:254: RuntimeWarning: filter_length (1691) is longer than the signal (1153), distortion is likely. Reduce filter length or filter a longer signal.\n",
      "  epochs.filter(high_pass, low_pass, fir_design='firwin', verbose=verbose)\n"
     ]
    },
    {
     "name": "stdout",
     "output_type": "stream",
     "text": [
      "EEG channel type selected for re-referencing\n",
      "Applying average reference.\n",
      "Applying a custom ('EEG',) reference.\n",
      "770 trials were retained for participant /workspace/data_local/prp/epoched/VP1-t1-epo.fif\n",
      "Processing participant /workspace/data_local/prp/epoched/VP10-t1-epo.fif's epoched eeg\n"
     ]
    },
    {
     "name": "stderr",
     "output_type": "stream",
     "text": [
      "/workspace/hmp/hmp/utils.py:254: RuntimeWarning: filter_length (1691) is longer than the signal (1153), distortion is likely. Reduce filter length or filter a longer signal.\n",
      "  epochs.filter(high_pass, low_pass, fir_design='firwin', verbose=verbose)\n"
     ]
    },
    {
     "name": "stdout",
     "output_type": "stream",
     "text": [
      "EEG channel type selected for re-referencing\n",
      "Applying average reference.\n",
      "Applying a custom ('EEG',) reference.\n",
      "1210 trials were retained for participant /workspace/data_local/prp/epoched/VP10-t1-epo.fif\n",
      "Processing participant /workspace/data_local/prp/epoched/VP11-t1-epo.fif's epoched eeg\n"
     ]
    },
    {
     "name": "stderr",
     "output_type": "stream",
     "text": [
      "/workspace/hmp/hmp/utils.py:254: RuntimeWarning: filter_length (1691) is longer than the signal (1153), distortion is likely. Reduce filter length or filter a longer signal.\n",
      "  epochs.filter(high_pass, low_pass, fir_design='firwin', verbose=verbose)\n"
     ]
    },
    {
     "name": "stdout",
     "output_type": "stream",
     "text": [
      "EEG channel type selected for re-referencing\n",
      "Applying average reference.\n",
      "Applying a custom ('EEG',) reference.\n",
      "1172 trials were retained for participant /workspace/data_local/prp/epoched/VP11-t1-epo.fif\n",
      "Processing participant /workspace/data_local/prp/epoched/VP12-t1-epo.fif's epoched eeg\n"
     ]
    },
    {
     "name": "stderr",
     "output_type": "stream",
     "text": [
      "/workspace/hmp/hmp/utils.py:254: RuntimeWarning: filter_length (1691) is longer than the signal (1153), distortion is likely. Reduce filter length or filter a longer signal.\n",
      "  epochs.filter(high_pass, low_pass, fir_design='firwin', verbose=verbose)\n"
     ]
    },
    {
     "name": "stdout",
     "output_type": "stream",
     "text": [
      "EEG channel type selected for re-referencing\n",
      "Applying average reference.\n",
      "Applying a custom ('EEG',) reference.\n",
      "842 trials were retained for participant /workspace/data_local/prp/epoched/VP12-t1-epo.fif\n",
      "Processing participant /workspace/data_local/prp/epoched/VP13-t1-epo.fif's epoched eeg\n"
     ]
    },
    {
     "name": "stderr",
     "output_type": "stream",
     "text": [
      "/workspace/hmp/hmp/utils.py:254: RuntimeWarning: filter_length (1691) is longer than the signal (1153), distortion is likely. Reduce filter length or filter a longer signal.\n",
      "  epochs.filter(high_pass, low_pass, fir_design='firwin', verbose=verbose)\n"
     ]
    },
    {
     "name": "stdout",
     "output_type": "stream",
     "text": [
      "EEG channel type selected for re-referencing\n",
      "Applying average reference.\n",
      "Applying a custom ('EEG',) reference.\n",
      "1022 trials were retained for participant /workspace/data_local/prp/epoched/VP13-t1-epo.fif\n",
      "Processing participant /workspace/data_local/prp/epoched/VP14-t1-epo.fif's epoched eeg\n"
     ]
    },
    {
     "name": "stderr",
     "output_type": "stream",
     "text": [
      "/workspace/hmp/hmp/utils.py:254: RuntimeWarning: filter_length (1691) is longer than the signal (1153), distortion is likely. Reduce filter length or filter a longer signal.\n",
      "  epochs.filter(high_pass, low_pass, fir_design='firwin', verbose=verbose)\n"
     ]
    },
    {
     "name": "stdout",
     "output_type": "stream",
     "text": [
      "EEG channel type selected for re-referencing\n",
      "Applying average reference.\n",
      "Applying a custom ('EEG',) reference.\n",
      "1232 trials were retained for participant /workspace/data_local/prp/epoched/VP14-t1-epo.fif\n",
      "Processing participant /workspace/data_local/prp/epoched/VP15-t1-epo.fif's epoched eeg\n"
     ]
    },
    {
     "name": "stderr",
     "output_type": "stream",
     "text": [
      "/workspace/hmp/hmp/utils.py:254: RuntimeWarning: filter_length (1691) is longer than the signal (1153), distortion is likely. Reduce filter length or filter a longer signal.\n",
      "  epochs.filter(high_pass, low_pass, fir_design='firwin', verbose=verbose)\n"
     ]
    },
    {
     "name": "stdout",
     "output_type": "stream",
     "text": [
      "EEG channel type selected for re-referencing\n",
      "Applying average reference.\n",
      "Applying a custom ('EEG',) reference.\n",
      "1247 trials were retained for participant /workspace/data_local/prp/epoched/VP15-t1-epo.fif\n",
      "Processing participant /workspace/data_local/prp/epoched/VP16-t1-epo.fif's epoched eeg\n"
     ]
    },
    {
     "name": "stderr",
     "output_type": "stream",
     "text": [
      "/workspace/hmp/hmp/utils.py:254: RuntimeWarning: filter_length (1691) is longer than the signal (1153), distortion is likely. Reduce filter length or filter a longer signal.\n",
      "  epochs.filter(high_pass, low_pass, fir_design='firwin', verbose=verbose)\n"
     ]
    },
    {
     "name": "stdout",
     "output_type": "stream",
     "text": [
      "EEG channel type selected for re-referencing\n",
      "Applying average reference.\n",
      "Applying a custom ('EEG',) reference.\n",
      "1261 trials were retained for participant /workspace/data_local/prp/epoched/VP16-t1-epo.fif\n",
      "Processing participant /workspace/data_local/prp/epoched/VP17-t1-epo.fif's epoched eeg\n"
     ]
    },
    {
     "name": "stderr",
     "output_type": "stream",
     "text": [
      "/workspace/hmp/hmp/utils.py:254: RuntimeWarning: filter_length (1691) is longer than the signal (1153), distortion is likely. Reduce filter length or filter a longer signal.\n",
      "  epochs.filter(high_pass, low_pass, fir_design='firwin', verbose=verbose)\n"
     ]
    },
    {
     "name": "stdout",
     "output_type": "stream",
     "text": [
      "EEG channel type selected for re-referencing\n",
      "Applying average reference.\n",
      "Applying a custom ('EEG',) reference.\n",
      "754 trials were retained for participant /workspace/data_local/prp/epoched/VP17-t1-epo.fif\n",
      "Processing participant /workspace/data_local/prp/epoched/VP18-t1-epo.fif's epoched eeg\n"
     ]
    },
    {
     "name": "stderr",
     "output_type": "stream",
     "text": [
      "/workspace/hmp/hmp/utils.py:254: RuntimeWarning: filter_length (1691) is longer than the signal (1153), distortion is likely. Reduce filter length or filter a longer signal.\n",
      "  epochs.filter(high_pass, low_pass, fir_design='firwin', verbose=verbose)\n"
     ]
    },
    {
     "name": "stdout",
     "output_type": "stream",
     "text": [
      "EEG channel type selected for re-referencing\n",
      "Applying average reference.\n",
      "Applying a custom ('EEG',) reference.\n",
      "1202 trials were retained for participant /workspace/data_local/prp/epoched/VP18-t1-epo.fif\n",
      "Processing participant /workspace/data_local/prp/epoched/VP19-t1-epo.fif's epoched eeg\n"
     ]
    },
    {
     "name": "stderr",
     "output_type": "stream",
     "text": [
      "/workspace/hmp/hmp/utils.py:254: RuntimeWarning: filter_length (1691) is longer than the signal (1153), distortion is likely. Reduce filter length or filter a longer signal.\n",
      "  epochs.filter(high_pass, low_pass, fir_design='firwin', verbose=verbose)\n"
     ]
    },
    {
     "name": "stdout",
     "output_type": "stream",
     "text": [
      "EEG channel type selected for re-referencing\n",
      "Applying average reference.\n",
      "Applying a custom ('EEG',) reference.\n",
      "1124 trials were retained for participant /workspace/data_local/prp/epoched/VP19-t1-epo.fif\n",
      "Processing participant /workspace/data_local/prp/epoched/VP2-t1-epo.fif's epoched eeg\n"
     ]
    },
    {
     "name": "stderr",
     "output_type": "stream",
     "text": [
      "/workspace/hmp/hmp/utils.py:254: RuntimeWarning: filter_length (1691) is longer than the signal (1153), distortion is likely. Reduce filter length or filter a longer signal.\n",
      "  epochs.filter(high_pass, low_pass, fir_design='firwin', verbose=verbose)\n"
     ]
    },
    {
     "name": "stdout",
     "output_type": "stream",
     "text": [
      "EEG channel type selected for re-referencing\n",
      "Applying average reference.\n",
      "Applying a custom ('EEG',) reference.\n",
      "1203 trials were retained for participant /workspace/data_local/prp/epoched/VP2-t1-epo.fif\n",
      "Processing participant /workspace/data_local/prp/epoched/VP20-t1-epo.fif's epoched eeg\n"
     ]
    },
    {
     "name": "stderr",
     "output_type": "stream",
     "text": [
      "/workspace/hmp/hmp/utils.py:254: RuntimeWarning: filter_length (1691) is longer than the signal (1153), distortion is likely. Reduce filter length or filter a longer signal.\n",
      "  epochs.filter(high_pass, low_pass, fir_design='firwin', verbose=verbose)\n"
     ]
    },
    {
     "name": "stdout",
     "output_type": "stream",
     "text": [
      "EEG channel type selected for re-referencing\n",
      "Applying average reference.\n",
      "Applying a custom ('EEG',) reference.\n",
      "1096 trials were retained for participant /workspace/data_local/prp/epoched/VP20-t1-epo.fif\n",
      "Processing participant /workspace/data_local/prp/epoched/VP21-t1-epo.fif's epoched eeg\n"
     ]
    },
    {
     "name": "stderr",
     "output_type": "stream",
     "text": [
      "/workspace/hmp/hmp/utils.py:254: RuntimeWarning: filter_length (1691) is longer than the signal (1153), distortion is likely. Reduce filter length or filter a longer signal.\n",
      "  epochs.filter(high_pass, low_pass, fir_design='firwin', verbose=verbose)\n"
     ]
    },
    {
     "name": "stdout",
     "output_type": "stream",
     "text": [
      "EEG channel type selected for re-referencing\n",
      "Applying average reference.\n",
      "Applying a custom ('EEG',) reference.\n",
      "1154 trials were retained for participant /workspace/data_local/prp/epoched/VP21-t1-epo.fif\n",
      "Processing participant /workspace/data_local/prp/epoched/VP22-t1-epo.fif's epoched eeg\n"
     ]
    },
    {
     "name": "stderr",
     "output_type": "stream",
     "text": [
      "/workspace/hmp/hmp/utils.py:254: RuntimeWarning: filter_length (1691) is longer than the signal (1153), distortion is likely. Reduce filter length or filter a longer signal.\n",
      "  epochs.filter(high_pass, low_pass, fir_design='firwin', verbose=verbose)\n"
     ]
    },
    {
     "name": "stdout",
     "output_type": "stream",
     "text": [
      "EEG channel type selected for re-referencing\n",
      "Applying average reference.\n",
      "Applying a custom ('EEG',) reference.\n",
      "1188 trials were retained for participant /workspace/data_local/prp/epoched/VP22-t1-epo.fif\n",
      "Processing participant /workspace/data_local/prp/epoched/VP23-t1-epo.fif's epoched eeg\n"
     ]
    },
    {
     "name": "stderr",
     "output_type": "stream",
     "text": [
      "/workspace/hmp/hmp/utils.py:254: RuntimeWarning: filter_length (1691) is longer than the signal (1153), distortion is likely. Reduce filter length or filter a longer signal.\n",
      "  epochs.filter(high_pass, low_pass, fir_design='firwin', verbose=verbose)\n"
     ]
    },
    {
     "name": "stdout",
     "output_type": "stream",
     "text": [
      "EEG channel type selected for re-referencing\n",
      "Applying average reference.\n",
      "Applying a custom ('EEG',) reference.\n",
      "1177 trials were retained for participant /workspace/data_local/prp/epoched/VP23-t1-epo.fif\n",
      "Processing participant /workspace/data_local/prp/epoched/VP24-t1-epo.fif's epoched eeg\n"
     ]
    },
    {
     "name": "stderr",
     "output_type": "stream",
     "text": [
      "/workspace/hmp/hmp/utils.py:254: RuntimeWarning: filter_length (1691) is longer than the signal (1153), distortion is likely. Reduce filter length or filter a longer signal.\n",
      "  epochs.filter(high_pass, low_pass, fir_design='firwin', verbose=verbose)\n"
     ]
    },
    {
     "name": "stdout",
     "output_type": "stream",
     "text": [
      "EEG channel type selected for re-referencing\n",
      "Applying average reference.\n",
      "Applying a custom ('EEG',) reference.\n",
      "1198 trials were retained for participant /workspace/data_local/prp/epoched/VP24-t1-epo.fif\n",
      "Processing participant /workspace/data_local/prp/epoched/VP3-t1-epo.fif's epoched eeg\n"
     ]
    },
    {
     "name": "stderr",
     "output_type": "stream",
     "text": [
      "/workspace/hmp/hmp/utils.py:254: RuntimeWarning: filter_length (1691) is longer than the signal (1153), distortion is likely. Reduce filter length or filter a longer signal.\n",
      "  epochs.filter(high_pass, low_pass, fir_design='firwin', verbose=verbose)\n"
     ]
    },
    {
     "name": "stdout",
     "output_type": "stream",
     "text": [
      "EEG channel type selected for re-referencing\n",
      "Applying average reference.\n",
      "Applying a custom ('EEG',) reference.\n",
      "1210 trials were retained for participant /workspace/data_local/prp/epoched/VP3-t1-epo.fif\n",
      "Processing participant /workspace/data_local/prp/epoched/VP5-t1-epo.fif's epoched eeg\n"
     ]
    },
    {
     "name": "stderr",
     "output_type": "stream",
     "text": [
      "/workspace/hmp/hmp/utils.py:254: RuntimeWarning: filter_length (1691) is longer than the signal (1153), distortion is likely. Reduce filter length or filter a longer signal.\n",
      "  epochs.filter(high_pass, low_pass, fir_design='firwin', verbose=verbose)\n"
     ]
    },
    {
     "name": "stdout",
     "output_type": "stream",
     "text": [
      "EEG channel type selected for re-referencing\n",
      "Applying average reference.\n",
      "Applying a custom ('EEG',) reference.\n",
      "1185 trials were retained for participant /workspace/data_local/prp/epoched/VP5-t1-epo.fif\n",
      "Processing participant /workspace/data_local/prp/epoched/VP8-t1-epo.fif's epoched eeg\n"
     ]
    },
    {
     "name": "stderr",
     "output_type": "stream",
     "text": [
      "/workspace/hmp/hmp/utils.py:254: RuntimeWarning: filter_length (1691) is longer than the signal (1153), distortion is likely. Reduce filter length or filter a longer signal.\n",
      "  epochs.filter(high_pass, low_pass, fir_design='firwin', verbose=verbose)\n"
     ]
    },
    {
     "name": "stdout",
     "output_type": "stream",
     "text": [
      "EEG channel type selected for re-referencing\n",
      "Applying average reference.\n",
      "Applying a custom ('EEG',) reference.\n",
      "1131 trials were retained for participant /workspace/data_local/prp/epoched/VP8-t1-epo.fif\n",
      "Processing participant /workspace/data_local/prp/epoched/VP9-t1-epo.fif's epoched eeg\n"
     ]
    },
    {
     "name": "stderr",
     "output_type": "stream",
     "text": [
      "/workspace/hmp/hmp/utils.py:254: RuntimeWarning: filter_length (1691) is longer than the signal (1153), distortion is likely. Reduce filter length or filter a longer signal.\n",
      "  epochs.filter(high_pass, low_pass, fir_design='firwin', verbose=verbose)\n"
     ]
    },
    {
     "name": "stdout",
     "output_type": "stream",
     "text": [
      "EEG channel type selected for re-referencing\n",
      "Applying average reference.\n",
      "Applying a custom ('EEG',) reference.\n",
      "1206 trials were retained for participant /workspace/data_local/prp/epoched/VP9-t1-epo.fif\n"
     ]
    }
   ],
   "source": [
    "epoch_data = hmp.utils.read_mne_data(\n",
    "    subj_files,\n",
    "    epoched=True,\n",
    "    sfreq=sfreq,\n",
    "    rt_col='rt',\n",
    "    scale=1,\n",
    "    lower_limit_RT=0.2,\n",
    "    # reject_threshold=1e-4,\n",
    "    high_pass=1,\n",
    "    low_pass=50,\n",
    "    reference='average',\n",
    "    verbose=False,\n",
    "    subj_idx=subj_names,\n",
    "    offset_after_resp=0.30,\n",
    "    offset_before_stim=0.25,\n",
    ")\n",
    "tmp_offset = epoch_data.offset\n",
    "# epoch_data = epoch_data.assign_attrs({'offset': 0, 'extra_offset': tmp_offset})\n",
    "epoch_data = epoch_data.assign_attrs({'offset': 12, 'extra_offset': tmp_offset - 12})\n",
    "# hmp.utils.read_mne_data(subj_files, epoched=True, sfreq=sfreq, verbose=False, subj_idx=subj_names, rt_col='rt', reference='average', \n",
    "#                         lower_limit_RT=.2, low_pass=50, offset_after_resp=0.05).to_netcdf(data_path+'Data_t1_250Hz.nc')"
   ]
  },
  {
   "cell_type": "code",
   "execution_count": 4,
   "id": "571fb14b",
   "metadata": {},
   "outputs": [],
   "source": [
    "epoch_data.to_netcdf(DATA_PATH / 'prp/data_t1_250hz.nc')"
   ]
  },
  {
   "cell_type": "markdown",
   "id": "4db767cc",
   "metadata": {},
   "source": [
    "### Task 2"
   ]
  },
  {
   "cell_type": "code",
   "execution_count": 5,
   "id": "4721698f",
   "metadata": {},
   "outputs": [],
   "source": [
    "sfreq = 250  # For resampling\n",
    "\n",
    "eeg_path = DATA_PATH / \"prp/epoched\"\n",
    "subj_names = [\n",
    "    x.split(\"_\")[0].split(\"-\")[0] for x in os.listdir(eeg_path) if \"t2\" in x\n",
    "] \n",
    "subj_names = [subj for subj in subj_names if subj not in [\"VP6\", \"VP7\"]]\n",
    "subj_names.sort()\n",
    "\n",
    "subj_files = [str(eeg_path) + \"/\" + x + \"-t2-epo.fif\" for x in subj_names]"
   ]
  },
  {
   "cell_type": "code",
   "execution_count": 6,
   "id": "a865aaa4",
   "metadata": {},
   "outputs": [
    {
     "name": "stdout",
     "output_type": "stream",
     "text": [
      "Processing participant /workspace/data_local/prp/epoched/VP1-t2-epo.fif's epoched eeg\n"
     ]
    },
    {
     "name": "stderr",
     "output_type": "stream",
     "text": [
      "/workspace/hmp/hmp/utils.py:254: RuntimeWarning: filter_length (1691) is longer than the signal (1153), distortion is likely. Reduce filter length or filter a longer signal.\n",
      "  epochs.filter(high_pass, low_pass, fir_design='firwin', verbose=verbose)\n"
     ]
    },
    {
     "name": "stdout",
     "output_type": "stream",
     "text": [
      "EEG channel type selected for re-referencing\n",
      "Applying average reference.\n",
      "Applying a custom ('EEG',) reference.\n",
      "851 trials were retained for participant /workspace/data_local/prp/epoched/VP1-t2-epo.fif\n",
      "Processing participant /workspace/data_local/prp/epoched/VP10-t2-epo.fif's epoched eeg\n"
     ]
    },
    {
     "name": "stderr",
     "output_type": "stream",
     "text": [
      "/workspace/hmp/hmp/utils.py:254: RuntimeWarning: filter_length (1691) is longer than the signal (1153), distortion is likely. Reduce filter length or filter a longer signal.\n",
      "  epochs.filter(high_pass, low_pass, fir_design='firwin', verbose=verbose)\n"
     ]
    },
    {
     "name": "stdout",
     "output_type": "stream",
     "text": [
      "EEG channel type selected for re-referencing\n",
      "Applying average reference.\n",
      "Applying a custom ('EEG',) reference.\n",
      "1222 trials were retained for participant /workspace/data_local/prp/epoched/VP10-t2-epo.fif\n",
      "Processing participant /workspace/data_local/prp/epoched/VP11-t2-epo.fif's epoched eeg\n"
     ]
    },
    {
     "name": "stderr",
     "output_type": "stream",
     "text": [
      "/workspace/hmp/hmp/utils.py:254: RuntimeWarning: filter_length (1691) is longer than the signal (1153), distortion is likely. Reduce filter length or filter a longer signal.\n",
      "  epochs.filter(high_pass, low_pass, fir_design='firwin', verbose=verbose)\n"
     ]
    },
    {
     "name": "stdout",
     "output_type": "stream",
     "text": [
      "EEG channel type selected for re-referencing\n",
      "Applying average reference.\n",
      "Applying a custom ('EEG',) reference.\n",
      "1158 trials were retained for participant /workspace/data_local/prp/epoched/VP11-t2-epo.fif\n",
      "Processing participant /workspace/data_local/prp/epoched/VP12-t2-epo.fif's epoched eeg\n"
     ]
    },
    {
     "name": "stderr",
     "output_type": "stream",
     "text": [
      "/workspace/hmp/hmp/utils.py:254: RuntimeWarning: filter_length (1691) is longer than the signal (1153), distortion is likely. Reduce filter length or filter a longer signal.\n",
      "  epochs.filter(high_pass, low_pass, fir_design='firwin', verbose=verbose)\n"
     ]
    },
    {
     "name": "stdout",
     "output_type": "stream",
     "text": [
      "EEG channel type selected for re-referencing\n",
      "Applying average reference.\n",
      "Applying a custom ('EEG',) reference.\n",
      "567 trials were retained for participant /workspace/data_local/prp/epoched/VP12-t2-epo.fif\n",
      "Processing participant /workspace/data_local/prp/epoched/VP13-t2-epo.fif's epoched eeg\n"
     ]
    },
    {
     "name": "stderr",
     "output_type": "stream",
     "text": [
      "/workspace/hmp/hmp/utils.py:254: RuntimeWarning: filter_length (1691) is longer than the signal (1153), distortion is likely. Reduce filter length or filter a longer signal.\n",
      "  epochs.filter(high_pass, low_pass, fir_design='firwin', verbose=verbose)\n"
     ]
    },
    {
     "name": "stdout",
     "output_type": "stream",
     "text": [
      "EEG channel type selected for re-referencing\n",
      "Applying average reference.\n",
      "Applying a custom ('EEG',) reference.\n",
      "1012 trials were retained for participant /workspace/data_local/prp/epoched/VP13-t2-epo.fif\n",
      "Processing participant /workspace/data_local/prp/epoched/VP14-t2-epo.fif's epoched eeg\n"
     ]
    },
    {
     "name": "stderr",
     "output_type": "stream",
     "text": [
      "/workspace/hmp/hmp/utils.py:254: RuntimeWarning: filter_length (1691) is longer than the signal (1153), distortion is likely. Reduce filter length or filter a longer signal.\n",
      "  epochs.filter(high_pass, low_pass, fir_design='firwin', verbose=verbose)\n"
     ]
    },
    {
     "name": "stdout",
     "output_type": "stream",
     "text": [
      "EEG channel type selected for re-referencing\n",
      "Applying average reference.\n",
      "Applying a custom ('EEG',) reference.\n",
      "1222 trials were retained for participant /workspace/data_local/prp/epoched/VP14-t2-epo.fif\n",
      "Processing participant /workspace/data_local/prp/epoched/VP15-t2-epo.fif's epoched eeg\n"
     ]
    },
    {
     "name": "stderr",
     "output_type": "stream",
     "text": [
      "/workspace/hmp/hmp/utils.py:254: RuntimeWarning: filter_length (1691) is longer than the signal (1153), distortion is likely. Reduce filter length or filter a longer signal.\n",
      "  epochs.filter(high_pass, low_pass, fir_design='firwin', verbose=verbose)\n"
     ]
    },
    {
     "name": "stdout",
     "output_type": "stream",
     "text": [
      "EEG channel type selected for re-referencing\n",
      "Applying average reference.\n",
      "Applying a custom ('EEG',) reference.\n",
      "1235 trials were retained for participant /workspace/data_local/prp/epoched/VP15-t2-epo.fif\n",
      "Processing participant /workspace/data_local/prp/epoched/VP16-t2-epo.fif's epoched eeg\n"
     ]
    },
    {
     "name": "stderr",
     "output_type": "stream",
     "text": [
      "/workspace/hmp/hmp/utils.py:254: RuntimeWarning: filter_length (1691) is longer than the signal (1153), distortion is likely. Reduce filter length or filter a longer signal.\n",
      "  epochs.filter(high_pass, low_pass, fir_design='firwin', verbose=verbose)\n"
     ]
    },
    {
     "name": "stdout",
     "output_type": "stream",
     "text": [
      "EEG channel type selected for re-referencing\n",
      "Applying average reference.\n",
      "Applying a custom ('EEG',) reference.\n",
      "1252 trials were retained for participant /workspace/data_local/prp/epoched/VP16-t2-epo.fif\n",
      "Processing participant /workspace/data_local/prp/epoched/VP17-t2-epo.fif's epoched eeg\n"
     ]
    },
    {
     "name": "stderr",
     "output_type": "stream",
     "text": [
      "/workspace/hmp/hmp/utils.py:254: RuntimeWarning: filter_length (1691) is longer than the signal (1153), distortion is likely. Reduce filter length or filter a longer signal.\n",
      "  epochs.filter(high_pass, low_pass, fir_design='firwin', verbose=verbose)\n"
     ]
    },
    {
     "name": "stdout",
     "output_type": "stream",
     "text": [
      "EEG channel type selected for re-referencing\n",
      "Applying average reference.\n",
      "Applying a custom ('EEG',) reference.\n",
      "823 trials were retained for participant /workspace/data_local/prp/epoched/VP17-t2-epo.fif\n",
      "Processing participant /workspace/data_local/prp/epoched/VP18-t2-epo.fif's epoched eeg\n"
     ]
    },
    {
     "name": "stderr",
     "output_type": "stream",
     "text": [
      "/workspace/hmp/hmp/utils.py:254: RuntimeWarning: filter_length (1691) is longer than the signal (1153), distortion is likely. Reduce filter length or filter a longer signal.\n",
      "  epochs.filter(high_pass, low_pass, fir_design='firwin', verbose=verbose)\n"
     ]
    },
    {
     "name": "stdout",
     "output_type": "stream",
     "text": [
      "EEG channel type selected for re-referencing\n",
      "Applying average reference.\n",
      "Applying a custom ('EEG',) reference.\n",
      "1188 trials were retained for participant /workspace/data_local/prp/epoched/VP18-t2-epo.fif\n",
      "Processing participant /workspace/data_local/prp/epoched/VP19-t2-epo.fif's epoched eeg\n"
     ]
    },
    {
     "name": "stderr",
     "output_type": "stream",
     "text": [
      "/workspace/hmp/hmp/utils.py:254: RuntimeWarning: filter_length (1691) is longer than the signal (1153), distortion is likely. Reduce filter length or filter a longer signal.\n",
      "  epochs.filter(high_pass, low_pass, fir_design='firwin', verbose=verbose)\n"
     ]
    },
    {
     "name": "stdout",
     "output_type": "stream",
     "text": [
      "EEG channel type selected for re-referencing\n",
      "Applying average reference.\n",
      "Applying a custom ('EEG',) reference.\n",
      "1149 trials were retained for participant /workspace/data_local/prp/epoched/VP19-t2-epo.fif\n",
      "Processing participant /workspace/data_local/prp/epoched/VP2-t2-epo.fif's epoched eeg\n"
     ]
    },
    {
     "name": "stderr",
     "output_type": "stream",
     "text": [
      "/workspace/hmp/hmp/utils.py:254: RuntimeWarning: filter_length (1691) is longer than the signal (1153), distortion is likely. Reduce filter length or filter a longer signal.\n",
      "  epochs.filter(high_pass, low_pass, fir_design='firwin', verbose=verbose)\n"
     ]
    },
    {
     "name": "stdout",
     "output_type": "stream",
     "text": [
      "EEG channel type selected for re-referencing\n",
      "Applying average reference.\n",
      "Applying a custom ('EEG',) reference.\n",
      "1190 trials were retained for participant /workspace/data_local/prp/epoched/VP2-t2-epo.fif\n",
      "Processing participant /workspace/data_local/prp/epoched/VP20-t2-epo.fif's epoched eeg\n"
     ]
    },
    {
     "name": "stderr",
     "output_type": "stream",
     "text": [
      "/workspace/hmp/hmp/utils.py:254: RuntimeWarning: filter_length (1691) is longer than the signal (1153), distortion is likely. Reduce filter length or filter a longer signal.\n",
      "  epochs.filter(high_pass, low_pass, fir_design='firwin', verbose=verbose)\n"
     ]
    },
    {
     "name": "stdout",
     "output_type": "stream",
     "text": [
      "EEG channel type selected for re-referencing\n",
      "Applying average reference.\n",
      "Applying a custom ('EEG',) reference.\n",
      "1115 trials were retained for participant /workspace/data_local/prp/epoched/VP20-t2-epo.fif\n",
      "Processing participant /workspace/data_local/prp/epoched/VP21-t2-epo.fif's epoched eeg\n"
     ]
    },
    {
     "name": "stderr",
     "output_type": "stream",
     "text": [
      "/workspace/hmp/hmp/utils.py:254: RuntimeWarning: filter_length (1691) is longer than the signal (1153), distortion is likely. Reduce filter length or filter a longer signal.\n",
      "  epochs.filter(high_pass, low_pass, fir_design='firwin', verbose=verbose)\n"
     ]
    },
    {
     "name": "stdout",
     "output_type": "stream",
     "text": [
      "EEG channel type selected for re-referencing\n",
      "Applying average reference.\n",
      "Applying a custom ('EEG',) reference.\n",
      "1162 trials were retained for participant /workspace/data_local/prp/epoched/VP21-t2-epo.fif\n",
      "Processing participant /workspace/data_local/prp/epoched/VP22-t2-epo.fif's epoched eeg\n"
     ]
    },
    {
     "name": "stderr",
     "output_type": "stream",
     "text": [
      "/workspace/hmp/hmp/utils.py:254: RuntimeWarning: filter_length (1691) is longer than the signal (1153), distortion is likely. Reduce filter length or filter a longer signal.\n",
      "  epochs.filter(high_pass, low_pass, fir_design='firwin', verbose=verbose)\n"
     ]
    },
    {
     "name": "stdout",
     "output_type": "stream",
     "text": [
      "EEG channel type selected for re-referencing\n",
      "Applying average reference.\n",
      "Applying a custom ('EEG',) reference.\n",
      "1182 trials were retained for participant /workspace/data_local/prp/epoched/VP22-t2-epo.fif\n",
      "Processing participant /workspace/data_local/prp/epoched/VP23-t2-epo.fif's epoched eeg\n"
     ]
    },
    {
     "name": "stderr",
     "output_type": "stream",
     "text": [
      "/workspace/hmp/hmp/utils.py:254: RuntimeWarning: filter_length (1691) is longer than the signal (1153), distortion is likely. Reduce filter length or filter a longer signal.\n",
      "  epochs.filter(high_pass, low_pass, fir_design='firwin', verbose=verbose)\n"
     ]
    },
    {
     "name": "stdout",
     "output_type": "stream",
     "text": [
      "EEG channel type selected for re-referencing\n",
      "Applying average reference.\n",
      "Applying a custom ('EEG',) reference.\n",
      "1163 trials were retained for participant /workspace/data_local/prp/epoched/VP23-t2-epo.fif\n",
      "Processing participant /workspace/data_local/prp/epoched/VP24-t2-epo.fif's epoched eeg\n"
     ]
    },
    {
     "name": "stderr",
     "output_type": "stream",
     "text": [
      "/workspace/hmp/hmp/utils.py:254: RuntimeWarning: filter_length (1691) is longer than the signal (1153), distortion is likely. Reduce filter length or filter a longer signal.\n",
      "  epochs.filter(high_pass, low_pass, fir_design='firwin', verbose=verbose)\n"
     ]
    },
    {
     "name": "stdout",
     "output_type": "stream",
     "text": [
      "EEG channel type selected for re-referencing\n",
      "Applying average reference.\n",
      "Applying a custom ('EEG',) reference.\n",
      "1198 trials were retained for participant /workspace/data_local/prp/epoched/VP24-t2-epo.fif\n",
      "Processing participant /workspace/data_local/prp/epoched/VP3-t2-epo.fif's epoched eeg\n"
     ]
    },
    {
     "name": "stderr",
     "output_type": "stream",
     "text": [
      "/workspace/hmp/hmp/utils.py:254: RuntimeWarning: filter_length (1691) is longer than the signal (1153), distortion is likely. Reduce filter length or filter a longer signal.\n",
      "  epochs.filter(high_pass, low_pass, fir_design='firwin', verbose=verbose)\n"
     ]
    },
    {
     "name": "stdout",
     "output_type": "stream",
     "text": [
      "EEG channel type selected for re-referencing\n",
      "Applying average reference.\n",
      "Applying a custom ('EEG',) reference.\n",
      "1192 trials were retained for participant /workspace/data_local/prp/epoched/VP3-t2-epo.fif\n",
      "Processing participant /workspace/data_local/prp/epoched/VP5-t2-epo.fif's epoched eeg\n"
     ]
    },
    {
     "name": "stderr",
     "output_type": "stream",
     "text": [
      "/workspace/hmp/hmp/utils.py:254: RuntimeWarning: filter_length (1691) is longer than the signal (1153), distortion is likely. Reduce filter length or filter a longer signal.\n",
      "  epochs.filter(high_pass, low_pass, fir_design='firwin', verbose=verbose)\n"
     ]
    },
    {
     "name": "stdout",
     "output_type": "stream",
     "text": [
      "EEG channel type selected for re-referencing\n",
      "Applying average reference.\n",
      "Applying a custom ('EEG',) reference.\n",
      "1185 trials were retained for participant /workspace/data_local/prp/epoched/VP5-t2-epo.fif\n",
      "Processing participant /workspace/data_local/prp/epoched/VP8-t2-epo.fif's epoched eeg\n"
     ]
    },
    {
     "name": "stderr",
     "output_type": "stream",
     "text": [
      "/workspace/hmp/hmp/utils.py:254: RuntimeWarning: filter_length (1691) is longer than the signal (1153), distortion is likely. Reduce filter length or filter a longer signal.\n",
      "  epochs.filter(high_pass, low_pass, fir_design='firwin', verbose=verbose)\n"
     ]
    },
    {
     "name": "stdout",
     "output_type": "stream",
     "text": [
      "EEG channel type selected for re-referencing\n",
      "Applying average reference.\n",
      "Applying a custom ('EEG',) reference.\n",
      "1016 trials were retained for participant /workspace/data_local/prp/epoched/VP8-t2-epo.fif\n",
      "Processing participant /workspace/data_local/prp/epoched/VP9-t2-epo.fif's epoched eeg\n"
     ]
    },
    {
     "name": "stderr",
     "output_type": "stream",
     "text": [
      "/workspace/hmp/hmp/utils.py:254: RuntimeWarning: filter_length (1691) is longer than the signal (1153), distortion is likely. Reduce filter length or filter a longer signal.\n",
      "  epochs.filter(high_pass, low_pass, fir_design='firwin', verbose=verbose)\n"
     ]
    },
    {
     "name": "stdout",
     "output_type": "stream",
     "text": [
      "EEG channel type selected for re-referencing\n",
      "Applying average reference.\n",
      "Applying a custom ('EEG',) reference.\n",
      "1188 trials were retained for participant /workspace/data_local/prp/epoched/VP9-t2-epo.fif\n"
     ]
    }
   ],
   "source": [
    "epoch_data = hmp.utils.read_mne_data(\n",
    "    subj_files,\n",
    "    epoched=True,\n",
    "    sfreq=sfreq,\n",
    "    rt_col='rt',\n",
    "    scale=1,\n",
    "    lower_limit_RT=0.2,\n",
    "    # reject_threshold=1e-4,\n",
    "    high_pass=1,\n",
    "    low_pass=50,\n",
    "    reference='average',\n",
    "    verbose=False,\n",
    "    subj_idx=subj_names,\n",
    "    offset_after_resp=0.30,\n",
    "    offset_before_stim=0.25,\n",
    ")\n",
    "tmp_offset = epoch_data.offset\n",
    "# epoch_data = epoch_data.assign_attrs({'offset': 0, 'extra_offset': tmp_offset})\n",
    "epoch_data = epoch_data.assign_attrs({'offset': 12, 'extra_offset': tmp_offset - 12})"
   ]
  },
  {
   "cell_type": "code",
   "execution_count": 7,
   "id": "cd194207",
   "metadata": {},
   "outputs": [],
   "source": [
    "epoch_data.to_netcdf(DATA_PATH / 'prp/data_t2_250hz.nc')"
   ]
  }
 ],
 "metadata": {
  "kernelspec": {
   "display_name": "base",
   "language": "python",
   "name": "python3"
  },
  "language_info": {
   "codemirror_mode": {
    "name": "ipython",
    "version": 3
   },
   "file_extension": ".py",
   "mimetype": "text/x-python",
   "name": "python",
   "nbconvert_exporter": "python",
   "pygments_lexer": "ipython3",
   "version": "3.11.10"
  }
 },
 "nbformat": 4,
 "nbformat_minor": 5
}
