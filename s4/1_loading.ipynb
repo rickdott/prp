{
 "cells": [
  {
   "cell_type": "code",
   "execution_count": 1,
   "id": "f5c85df3",
   "metadata": {},
   "outputs": [],
   "source": [
    "%load_ext autoreload\n",
    "%autoreload 2\n",
    "import numpy as np\n",
    "import hmp\n",
    "from pathlib import Path\n",
    "import os\n",
    "DATA_PATH = Path(os.getenv(\"DATA_PATH\"))"
   ]
  },
  {
   "cell_type": "markdown",
   "id": "5816f946",
   "metadata": {},
   "source": [
    "### Task 1"
   ]
  },
  {
   "cell_type": "code",
   "execution_count": 2,
   "id": "4229ccb8",
   "metadata": {},
   "outputs": [],
   "source": [
    "sfreq = 250  # For resampling\n",
    "\n",
    "eeg_path = DATA_PATH / \"prp/epoched\"\n",
    "subj_names = [\n",
    "    x.split(\"_\")[0].split(\"-\")[0] for x in os.listdir(eeg_path) if \"t1\" in x\n",
    "] \n",
    "subj_names = [subj for subj in subj_names if subj not in [\"VP6\", \"VP7\"]]\n",
    "subj_names.sort()\n",
    "\n",
    "subj_files = [str(eeg_path) + \"/\" + x + \"-t1-epo.fif\" for x in subj_names]"
   ]
  },
  {
   "cell_type": "code",
   "execution_count": 16,
   "id": "d453a12e",
   "metadata": {},
   "outputs": [
    {
     "name": "stdout",
     "output_type": "stream",
     "text": [
      "Processing participant /workspace/data_local/prp/epoched/VP1-t1-epo.fif's epoched eeg\n"
     ]
    },
    {
     "name": "stderr",
     "output_type": "stream",
     "text": [
      "/workspace/hmp/hmp/utils.py:254: RuntimeWarning: filter_length (1691) is longer than the signal (1153), distortion is likely. Reduce filter length or filter a longer signal.\n",
      "  epochs.filter(high_pass, low_pass, fir_design='firwin', verbose=verbose)\n"
     ]
    },
    {
     "name": "stdout",
     "output_type": "stream",
     "text": [
      "EEG channel type selected for re-referencing\n",
      "Applying average reference.\n",
      "Applying a custom ('EEG',) reference.\n",
      "826 trials were retained for participant /workspace/data_local/prp/epoched/VP1-t1-epo.fif\n"
     ]
    },
    {
     "ename": "KeyError",
     "evalue": "'[52, 82, 132, 188, 210, 282, 289, 306, 316, 331, 332, 338, 343, 369, 426, 436, 439, 448, 455, 456, 457, 461, 465, 466, 467, 468, 469, 470, 471, 477, 481, 510, 551, 588, 599, 603, 604, 618, 635, 648, 655, 657, 661, 663, 664, 666, 669, 671, 673, 677, 680, 681, 685, 686, 690, 692, 697, 698, 700, 701, 714, 716, 722, 723, 725, 728, 731, 732, 736, 737, 739, 740, 750, 768, 769, 771, 779, 786, 791, 801, 814, 829, 833, 851, 867, 868, 884, 893, 927, 928, 930, 952, 954, 955, 956, 958, 959, 960, 961, 962, 963, 964, 965, 966, 967, 968, 969, 970, 973, 974, 975, 976, 978, 979, 980, 981, 982, 984, 985, 987, 988, 989, 990, 991, 992, 995, 996, 997, 998, 1000, 1001, 1002, 1003, 1004, 1005, 1006, 1007, 1008, 1009, 1012, 1013, 1014, 1015, 1017, 1019, 1021, 1022, 1023, 1024, 1025, 1026, 1027, 1028, 1029, 1030, 1031, 1032, 1033, 1034, 1035, 1036, 1037, 1038, 1039, 1040, 1041, 1042, 1043, 1044, 1045, 1046, 1047, 1048, 1049, 1050, 1051, 1052, 1053, 1056, 1058, 1059, 1060, 1061, 1062, 1063, 1064, 1065, 1066, 1067, 1068, 1069, 1070, 1071, 1072, 1073, 1074, 1075, 1076, 1077, 1078] not in index'",
     "output_type": "error",
     "traceback": [
      "\u001b[0;31m---------------------------------------------------------------------------\u001b[0m",
      "\u001b[0;31mKeyError\u001b[0m                                  Traceback (most recent call last)",
      "Cell \u001b[0;32mIn[16], line 1\u001b[0m\n\u001b[0;32m----> 1\u001b[0m epoch_data \u001b[38;5;241m=\u001b[39m \u001b[43mhmp\u001b[49m\u001b[38;5;241;43m.\u001b[39;49m\u001b[43mutils\u001b[49m\u001b[38;5;241;43m.\u001b[39;49m\u001b[43mread_mne_data\u001b[49m\u001b[43m(\u001b[49m\n\u001b[1;32m      2\u001b[0m \u001b[43m    \u001b[49m\u001b[43msubj_files\u001b[49m\u001b[43m,\u001b[49m\n\u001b[1;32m      3\u001b[0m \u001b[43m    \u001b[49m\u001b[43mepoched\u001b[49m\u001b[38;5;241;43m=\u001b[39;49m\u001b[38;5;28;43;01mTrue\u001b[39;49;00m\u001b[43m,\u001b[49m\n\u001b[1;32m      4\u001b[0m \u001b[43m    \u001b[49m\u001b[43msfreq\u001b[49m\u001b[38;5;241;43m=\u001b[39;49m\u001b[43msfreq\u001b[49m\u001b[43m,\u001b[49m\n\u001b[1;32m      5\u001b[0m \u001b[43m    \u001b[49m\u001b[43mrt_col\u001b[49m\u001b[38;5;241;43m=\u001b[39;49m\u001b[38;5;124;43m'\u001b[39;49m\u001b[38;5;124;43mrt\u001b[39;49m\u001b[38;5;124;43m'\u001b[39;49m\u001b[43m,\u001b[49m\n\u001b[1;32m      6\u001b[0m \u001b[43m    \u001b[49m\u001b[43mscale\u001b[49m\u001b[38;5;241;43m=\u001b[39;49m\u001b[38;5;241;43m1\u001b[39;49m\u001b[43m,\u001b[49m\n\u001b[1;32m      7\u001b[0m \u001b[43m    \u001b[49m\u001b[43mlower_limit_RT\u001b[49m\u001b[38;5;241;43m=\u001b[39;49m\u001b[38;5;241;43m0.2\u001b[39;49m\u001b[43m,\u001b[49m\n\u001b[1;32m      8\u001b[0m \u001b[43m    \u001b[49m\u001b[38;5;66;43;03m# reject_threshold=1e-4,\u001b[39;49;00m\n\u001b[1;32m      9\u001b[0m \u001b[43m    \u001b[49m\u001b[43mhigh_pass\u001b[49m\u001b[38;5;241;43m=\u001b[39;49m\u001b[38;5;241;43m1\u001b[39;49m\u001b[43m,\u001b[49m\n\u001b[1;32m     10\u001b[0m \u001b[43m    \u001b[49m\u001b[43mlow_pass\u001b[49m\u001b[38;5;241;43m=\u001b[39;49m\u001b[38;5;241;43m50\u001b[39;49m\u001b[43m,\u001b[49m\n\u001b[1;32m     11\u001b[0m \u001b[43m    \u001b[49m\u001b[43mreference\u001b[49m\u001b[38;5;241;43m=\u001b[39;49m\u001b[38;5;124;43m'\u001b[39;49m\u001b[38;5;124;43maverage\u001b[39;49m\u001b[38;5;124;43m'\u001b[39;49m\u001b[43m,\u001b[49m\n\u001b[1;32m     12\u001b[0m \u001b[43m    \u001b[49m\u001b[43mverbose\u001b[49m\u001b[38;5;241;43m=\u001b[39;49m\u001b[38;5;28;43;01mFalse\u001b[39;49;00m\u001b[43m,\u001b[49m\n\u001b[1;32m     13\u001b[0m \u001b[43m    \u001b[49m\u001b[43msubj_idx\u001b[49m\u001b[38;5;241;43m=\u001b[39;49m\u001b[43msubj_names\u001b[49m\u001b[43m,\u001b[49m\n\u001b[1;32m     14\u001b[0m \u001b[43m    \u001b[49m\u001b[43moffset_after_resp\u001b[49m\u001b[38;5;241;43m=\u001b[39;49m\u001b[38;5;241;43m0.30\u001b[39;49m\u001b[43m,\u001b[49m\n\u001b[1;32m     15\u001b[0m \u001b[43m    \u001b[49m\u001b[43moffset_before_stim\u001b[49m\u001b[38;5;241;43m=\u001b[39;49m\u001b[38;5;241;43m0.25\u001b[39;49m\u001b[43m,\u001b[49m\n\u001b[1;32m     16\u001b[0m \u001b[43m)\u001b[49m\n\u001b[1;32m     17\u001b[0m tmp_offset \u001b[38;5;241m=\u001b[39m epoch_data\u001b[38;5;241m.\u001b[39moffset\n\u001b[1;32m     18\u001b[0m \u001b[38;5;66;03m# epoch_data = epoch_data.assign_attrs({'offset': 0, 'extra_offset': tmp_offset})\u001b[39;00m\n",
      "File \u001b[0;32m/workspace/hmp/hmp/utils.py:340\u001b[0m, in \u001b[0;36mread_mne_data\u001b[0;34m(pfiles, event_id, resp_id, epoched, sfreq, subj_idx, metadata, events_provided, rt_col, rts, verbose, tmin, tmax, offset_after_resp, offset_before_stim, high_pass, low_pass, pick_channels, baseline, upper_limit_RT, lower_limit_RT, reject_threshold, scale, reference, ignore_rt, drop_force)\u001b[0m\n\u001b[1;32m    337\u001b[0m     \u001b[38;5;28;01mif\u001b[39;00m verbose:\n\u001b[1;32m    338\u001b[0m         \u001b[38;5;28mprint\u001b[39m(\u001b[38;5;124mf\u001b[39m\u001b[38;5;124m'\u001b[39m\u001b[38;5;124mEnd sampling frequency is \u001b[39m\u001b[38;5;132;01m{\u001b[39;00msfreq\u001b[38;5;132;01m}\u001b[39;00m\u001b[38;5;124m Hz\u001b[39m\u001b[38;5;124m'\u001b[39m)\n\u001b[0;32m--> 340\u001b[0m     epoch_data\u001b[38;5;241m.\u001b[39mappend(\u001b[43mhmp_data_format\u001b[49m\u001b[43m(\u001b[49m\u001b[43mcropped_data_epoch\u001b[49m\u001b[43m,\u001b[49m\u001b[43m \u001b[49m\u001b[43mepochs\u001b[49m\u001b[38;5;241;43m.\u001b[39;49m\u001b[43minfo\u001b[49m\u001b[43m[\u001b[49m\u001b[38;5;124;43m'\u001b[39;49m\u001b[38;5;124;43msfreq\u001b[39;49m\u001b[38;5;124;43m'\u001b[39;49m\u001b[43m]\u001b[49m\u001b[43m,\u001b[49m\u001b[43m \u001b[49m\u001b[38;5;28;43;01mNone\u001b[39;49;00m\u001b[43m,\u001b[49m\u001b[43m \u001b[49m\u001b[43moffset_after_resp_samples\u001b[49m\u001b[43m,\u001b[49m\u001b[43m \u001b[49m\u001b[43moffset_before_stim_samples\u001b[49m\u001b[43m,\u001b[49m\u001b[43m \u001b[49m\u001b[43mepochs\u001b[49m\u001b[38;5;241;43m=\u001b[39;49m\u001b[43m[\u001b[49m\u001b[38;5;28;43mint\u001b[39;49m\u001b[43m(\u001b[49m\u001b[43mx\u001b[49m\u001b[43m)\u001b[49m\u001b[43m \u001b[49m\u001b[38;5;28;43;01mfor\u001b[39;49;00m\u001b[43m \u001b[49m\u001b[43mx\u001b[49m\u001b[43m \u001b[49m\u001b[38;5;129;43;01min\u001b[39;49;00m\u001b[43m \u001b[49m\u001b[43mepochs_idx\u001b[49m\u001b[43m]\u001b[49m\u001b[43m,\u001b[49m\u001b[43m \u001b[49m\u001b[43mchannels\u001b[49m\u001b[43m \u001b[49m\u001b[38;5;241;43m=\u001b[39;49m\u001b[43m \u001b[49m\u001b[43mepochs\u001b[49m\u001b[38;5;241;43m.\u001b[39;49m\u001b[43mch_names\u001b[49m\u001b[43m,\u001b[49m\u001b[43m \u001b[49m\u001b[43mmetadata\u001b[49m\u001b[43m \u001b[49m\u001b[38;5;241;43m=\u001b[39;49m\u001b[43m \u001b[49m\u001b[43mmetadata_i\u001b[49m\u001b[43m)\u001b[49m)\n\u001b[1;32m    342\u001b[0m     y \u001b[38;5;241m+\u001b[39m\u001b[38;5;241m=\u001b[39m \u001b[38;5;241m1\u001b[39m\n\u001b[1;32m    343\u001b[0m epoch_data \u001b[38;5;241m=\u001b[39m xr\u001b[38;5;241m.\u001b[39mconcat(epoch_data, dim \u001b[38;5;241m=\u001b[39m xr\u001b[38;5;241m.\u001b[39mDataArray(subj_idx, dims\u001b[38;5;241m=\u001b[39m\u001b[38;5;124m'\u001b[39m\u001b[38;5;124mparticipant\u001b[39m\u001b[38;5;124m'\u001b[39m),\n\u001b[1;32m    344\u001b[0m                       fill_value\u001b[38;5;241m=\u001b[39m{\u001b[38;5;124m'\u001b[39m\u001b[38;5;124mevent\u001b[39m\u001b[38;5;124m'\u001b[39m:\u001b[38;5;124m'\u001b[39m\u001b[38;5;124m'\u001b[39m, \u001b[38;5;124m'\u001b[39m\u001b[38;5;124mdata\u001b[39m\u001b[38;5;124m'\u001b[39m:np\u001b[38;5;241m.\u001b[39mnan})\n",
      "File \u001b[0;32m/workspace/hmp/hmp/utils.py:516\u001b[0m, in \u001b[0;36mhmp_data_format\u001b[0;34m(data, sfreq, events, offset, offset_before, participants, epochs, channels, metadata)\u001b[0m\n\u001b[1;32m    503\u001b[0m     data \u001b[38;5;241m=\u001b[39m xr\u001b[38;5;241m.\u001b[39mDataset(\n\u001b[1;32m    504\u001b[0m             {\n\u001b[1;32m    505\u001b[0m                 \u001b[38;5;124m\"\u001b[39m\u001b[38;5;124mdata\u001b[39m\u001b[38;5;124m\"\u001b[39m: ([\u001b[38;5;124m'\u001b[39m\u001b[38;5;124mparticipant\u001b[39m\u001b[38;5;124m'\u001b[39m,\u001b[38;5;124m\"\u001b[39m\u001b[38;5;124mepochs\u001b[39m\u001b[38;5;124m\"\u001b[39m, \u001b[38;5;124m\"\u001b[39m\u001b[38;5;124mchannels\u001b[39m\u001b[38;5;124m\"\u001b[39m, \u001b[38;5;124m\"\u001b[39m\u001b[38;5;124msamples\u001b[39m\u001b[38;5;124m\"\u001b[39m],data),\n\u001b[0;32m   (...)\u001b[0m\n\u001b[1;32m    513\u001b[0m             attrs\u001b[38;5;241m=\u001b[39m{\u001b[38;5;124m'\u001b[39m\u001b[38;5;124msfreq\u001b[39m\u001b[38;5;124m'\u001b[39m:sfreq,\u001b[38;5;124m'\u001b[39m\u001b[38;5;124moffset\u001b[39m\u001b[38;5;124m'\u001b[39m:offset,\u001b[38;5;124m'\u001b[39m\u001b[38;5;124moffset_before\u001b[39m\u001b[38;5;124m'\u001b[39m:offset_before}\n\u001b[1;32m    514\u001b[0m             )\n\u001b[1;32m    515\u001b[0m \u001b[38;5;28;01mif\u001b[39;00m metadata \u001b[38;5;129;01mis\u001b[39;00m \u001b[38;5;129;01mnot\u001b[39;00m \u001b[38;5;28;01mNone\u001b[39;00m:\n\u001b[0;32m--> 516\u001b[0m     metadata \u001b[38;5;241m=\u001b[39m \u001b[43mmetadata\u001b[49m\u001b[38;5;241;43m.\u001b[39;49m\u001b[43mloc\u001b[49m\u001b[43m[\u001b[49m\u001b[43mepochs\u001b[49m\u001b[43m]\u001b[49m\n\u001b[1;32m    517\u001b[0m     metadata \u001b[38;5;241m=\u001b[39m metadata\u001b[38;5;241m.\u001b[39mto_xarray()\n\u001b[1;32m    518\u001b[0m     metadata \u001b[38;5;241m=\u001b[39m metadata\u001b[38;5;241m.\u001b[39mrename_dims({\u001b[38;5;124m'\u001b[39m\u001b[38;5;124mindex\u001b[39m\u001b[38;5;124m'\u001b[39m:\u001b[38;5;124m'\u001b[39m\u001b[38;5;124mepochs\u001b[39m\u001b[38;5;124m'\u001b[39m})\n",
      "File \u001b[0;32m/opt/conda/lib/python3.11/site-packages/pandas/core/indexing.py:1191\u001b[0m, in \u001b[0;36m_LocationIndexer.__getitem__\u001b[0;34m(self, key)\u001b[0m\n\u001b[1;32m   1189\u001b[0m maybe_callable \u001b[38;5;241m=\u001b[39m com\u001b[38;5;241m.\u001b[39mapply_if_callable(key, \u001b[38;5;28mself\u001b[39m\u001b[38;5;241m.\u001b[39mobj)\n\u001b[1;32m   1190\u001b[0m maybe_callable \u001b[38;5;241m=\u001b[39m \u001b[38;5;28mself\u001b[39m\u001b[38;5;241m.\u001b[39m_check_deprecated_callable_usage(key, maybe_callable)\n\u001b[0;32m-> 1191\u001b[0m \u001b[38;5;28;01mreturn\u001b[39;00m \u001b[38;5;28;43mself\u001b[39;49m\u001b[38;5;241;43m.\u001b[39;49m\u001b[43m_getitem_axis\u001b[49m\u001b[43m(\u001b[49m\u001b[43mmaybe_callable\u001b[49m\u001b[43m,\u001b[49m\u001b[43m \u001b[49m\u001b[43maxis\u001b[49m\u001b[38;5;241;43m=\u001b[39;49m\u001b[43maxis\u001b[49m\u001b[43m)\u001b[49m\n",
      "File \u001b[0;32m/opt/conda/lib/python3.11/site-packages/pandas/core/indexing.py:1420\u001b[0m, in \u001b[0;36m_LocIndexer._getitem_axis\u001b[0;34m(self, key, axis)\u001b[0m\n\u001b[1;32m   1417\u001b[0m     \u001b[38;5;28;01mif\u001b[39;00m \u001b[38;5;28mhasattr\u001b[39m(key, \u001b[38;5;124m\"\u001b[39m\u001b[38;5;124mndim\u001b[39m\u001b[38;5;124m\"\u001b[39m) \u001b[38;5;129;01mand\u001b[39;00m key\u001b[38;5;241m.\u001b[39mndim \u001b[38;5;241m>\u001b[39m \u001b[38;5;241m1\u001b[39m:\n\u001b[1;32m   1418\u001b[0m         \u001b[38;5;28;01mraise\u001b[39;00m \u001b[38;5;167;01mValueError\u001b[39;00m(\u001b[38;5;124m\"\u001b[39m\u001b[38;5;124mCannot index with multidimensional key\u001b[39m\u001b[38;5;124m\"\u001b[39m)\n\u001b[0;32m-> 1420\u001b[0m     \u001b[38;5;28;01mreturn\u001b[39;00m \u001b[38;5;28;43mself\u001b[39;49m\u001b[38;5;241;43m.\u001b[39;49m\u001b[43m_getitem_iterable\u001b[49m\u001b[43m(\u001b[49m\u001b[43mkey\u001b[49m\u001b[43m,\u001b[49m\u001b[43m \u001b[49m\u001b[43maxis\u001b[49m\u001b[38;5;241;43m=\u001b[39;49m\u001b[43maxis\u001b[49m\u001b[43m)\u001b[49m\n\u001b[1;32m   1422\u001b[0m \u001b[38;5;66;03m# nested tuple slicing\u001b[39;00m\n\u001b[1;32m   1423\u001b[0m \u001b[38;5;28;01mif\u001b[39;00m is_nested_tuple(key, labels):\n",
      "File \u001b[0;32m/opt/conda/lib/python3.11/site-packages/pandas/core/indexing.py:1360\u001b[0m, in \u001b[0;36m_LocIndexer._getitem_iterable\u001b[0;34m(self, key, axis)\u001b[0m\n\u001b[1;32m   1357\u001b[0m \u001b[38;5;28mself\u001b[39m\u001b[38;5;241m.\u001b[39m_validate_key(key, axis)\n\u001b[1;32m   1359\u001b[0m \u001b[38;5;66;03m# A collection of keys\u001b[39;00m\n\u001b[0;32m-> 1360\u001b[0m keyarr, indexer \u001b[38;5;241m=\u001b[39m \u001b[38;5;28;43mself\u001b[39;49m\u001b[38;5;241;43m.\u001b[39;49m\u001b[43m_get_listlike_indexer\u001b[49m\u001b[43m(\u001b[49m\u001b[43mkey\u001b[49m\u001b[43m,\u001b[49m\u001b[43m \u001b[49m\u001b[43maxis\u001b[49m\u001b[43m)\u001b[49m\n\u001b[1;32m   1361\u001b[0m \u001b[38;5;28;01mreturn\u001b[39;00m \u001b[38;5;28mself\u001b[39m\u001b[38;5;241m.\u001b[39mobj\u001b[38;5;241m.\u001b[39m_reindex_with_indexers(\n\u001b[1;32m   1362\u001b[0m     {axis: [keyarr, indexer]}, copy\u001b[38;5;241m=\u001b[39m\u001b[38;5;28;01mTrue\u001b[39;00m, allow_dups\u001b[38;5;241m=\u001b[39m\u001b[38;5;28;01mTrue\u001b[39;00m\n\u001b[1;32m   1363\u001b[0m )\n",
      "File \u001b[0;32m/opt/conda/lib/python3.11/site-packages/pandas/core/indexing.py:1558\u001b[0m, in \u001b[0;36m_LocIndexer._get_listlike_indexer\u001b[0;34m(self, key, axis)\u001b[0m\n\u001b[1;32m   1555\u001b[0m ax \u001b[38;5;241m=\u001b[39m \u001b[38;5;28mself\u001b[39m\u001b[38;5;241m.\u001b[39mobj\u001b[38;5;241m.\u001b[39m_get_axis(axis)\n\u001b[1;32m   1556\u001b[0m axis_name \u001b[38;5;241m=\u001b[39m \u001b[38;5;28mself\u001b[39m\u001b[38;5;241m.\u001b[39mobj\u001b[38;5;241m.\u001b[39m_get_axis_name(axis)\n\u001b[0;32m-> 1558\u001b[0m keyarr, indexer \u001b[38;5;241m=\u001b[39m \u001b[43max\u001b[49m\u001b[38;5;241;43m.\u001b[39;49m\u001b[43m_get_indexer_strict\u001b[49m\u001b[43m(\u001b[49m\u001b[43mkey\u001b[49m\u001b[43m,\u001b[49m\u001b[43m \u001b[49m\u001b[43maxis_name\u001b[49m\u001b[43m)\u001b[49m\n\u001b[1;32m   1560\u001b[0m \u001b[38;5;28;01mreturn\u001b[39;00m keyarr, indexer\n",
      "File \u001b[0;32m/opt/conda/lib/python3.11/site-packages/pandas/core/indexes/base.py:6200\u001b[0m, in \u001b[0;36mIndex._get_indexer_strict\u001b[0;34m(self, key, axis_name)\u001b[0m\n\u001b[1;32m   6197\u001b[0m \u001b[38;5;28;01melse\u001b[39;00m:\n\u001b[1;32m   6198\u001b[0m     keyarr, indexer, new_indexer \u001b[38;5;241m=\u001b[39m \u001b[38;5;28mself\u001b[39m\u001b[38;5;241m.\u001b[39m_reindex_non_unique(keyarr)\n\u001b[0;32m-> 6200\u001b[0m \u001b[38;5;28;43mself\u001b[39;49m\u001b[38;5;241;43m.\u001b[39;49m\u001b[43m_raise_if_missing\u001b[49m\u001b[43m(\u001b[49m\u001b[43mkeyarr\u001b[49m\u001b[43m,\u001b[49m\u001b[43m \u001b[49m\u001b[43mindexer\u001b[49m\u001b[43m,\u001b[49m\u001b[43m \u001b[49m\u001b[43maxis_name\u001b[49m\u001b[43m)\u001b[49m\n\u001b[1;32m   6202\u001b[0m keyarr \u001b[38;5;241m=\u001b[39m \u001b[38;5;28mself\u001b[39m\u001b[38;5;241m.\u001b[39mtake(indexer)\n\u001b[1;32m   6203\u001b[0m \u001b[38;5;28;01mif\u001b[39;00m \u001b[38;5;28misinstance\u001b[39m(key, Index):\n\u001b[1;32m   6204\u001b[0m     \u001b[38;5;66;03m# GH 42790 - Preserve name from an Index\u001b[39;00m\n",
      "File \u001b[0;32m/opt/conda/lib/python3.11/site-packages/pandas/core/indexes/base.py:6252\u001b[0m, in \u001b[0;36mIndex._raise_if_missing\u001b[0;34m(self, key, indexer, axis_name)\u001b[0m\n\u001b[1;32m   6249\u001b[0m     \u001b[38;5;28;01mraise\u001b[39;00m \u001b[38;5;167;01mKeyError\u001b[39;00m(\u001b[38;5;124mf\u001b[39m\u001b[38;5;124m\"\u001b[39m\u001b[38;5;124mNone of [\u001b[39m\u001b[38;5;132;01m{\u001b[39;00mkey\u001b[38;5;132;01m}\u001b[39;00m\u001b[38;5;124m] are in the [\u001b[39m\u001b[38;5;132;01m{\u001b[39;00maxis_name\u001b[38;5;132;01m}\u001b[39;00m\u001b[38;5;124m]\u001b[39m\u001b[38;5;124m\"\u001b[39m)\n\u001b[1;32m   6251\u001b[0m not_found \u001b[38;5;241m=\u001b[39m \u001b[38;5;28mlist\u001b[39m(ensure_index(key)[missing_mask\u001b[38;5;241m.\u001b[39mnonzero()[\u001b[38;5;241m0\u001b[39m]]\u001b[38;5;241m.\u001b[39munique())\n\u001b[0;32m-> 6252\u001b[0m \u001b[38;5;28;01mraise\u001b[39;00m \u001b[38;5;167;01mKeyError\u001b[39;00m(\u001b[38;5;124mf\u001b[39m\u001b[38;5;124m\"\u001b[39m\u001b[38;5;132;01m{\u001b[39;00mnot_found\u001b[38;5;132;01m}\u001b[39;00m\u001b[38;5;124m not in index\u001b[39m\u001b[38;5;124m\"\u001b[39m)\n",
      "\u001b[0;31mKeyError\u001b[0m: '[52, 82, 132, 188, 210, 282, 289, 306, 316, 331, 332, 338, 343, 369, 426, 436, 439, 448, 455, 456, 457, 461, 465, 466, 467, 468, 469, 470, 471, 477, 481, 510, 551, 588, 599, 603, 604, 618, 635, 648, 655, 657, 661, 663, 664, 666, 669, 671, 673, 677, 680, 681, 685, 686, 690, 692, 697, 698, 700, 701, 714, 716, 722, 723, 725, 728, 731, 732, 736, 737, 739, 740, 750, 768, 769, 771, 779, 786, 791, 801, 814, 829, 833, 851, 867, 868, 884, 893, 927, 928, 930, 952, 954, 955, 956, 958, 959, 960, 961, 962, 963, 964, 965, 966, 967, 968, 969, 970, 973, 974, 975, 976, 978, 979, 980, 981, 982, 984, 985, 987, 988, 989, 990, 991, 992, 995, 996, 997, 998, 1000, 1001, 1002, 1003, 1004, 1005, 1006, 1007, 1008, 1009, 1012, 1013, 1014, 1015, 1017, 1019, 1021, 1022, 1023, 1024, 1025, 1026, 1027, 1028, 1029, 1030, 1031, 1032, 1033, 1034, 1035, 1036, 1037, 1038, 1039, 1040, 1041, 1042, 1043, 1044, 1045, 1046, 1047, 1048, 1049, 1050, 1051, 1052, 1053, 1056, 1058, 1059, 1060, 1061, 1062, 1063, 1064, 1065, 1066, 1067, 1068, 1069, 1070, 1071, 1072, 1073, 1074, 1075, 1076, 1077, 1078] not in index'"
     ]
    }
   ],
   "source": [
    "epoch_data = hmp.utils.read_mne_data(\n",
    "    subj_files,\n",
    "    epoched=True,\n",
    "    sfreq=sfreq,\n",
    "    rt_col='rt',\n",
    "    scale=1,\n",
    "    lower_limit_RT=0.2,\n",
    "    # reject_threshold=1e-4,\n",
    "    high_pass=1,\n",
    "    low_pass=50,\n",
    "    reference='average',\n",
    "    verbose=False,\n",
    "    subj_idx=subj_names,\n",
    "    offset_after_resp=0.30,\n",
    "    offset_before_stim=0.25,\n",
    ")\n",
    "tmp_offset = epoch_data.offset\n",
    "# epoch_data = epoch_data.assign_attrs({'offset': 0, 'extra_offset': tmp_offset})\n",
    "epoch_data = epoch_data.assign_attrs({'offset': 12, 'extra_offset': tmp_offset - 12})\n",
    "# hmp.utils.read_mne_data(subj_files, epoched=True, sfreq=sfreq, verbose=False, subj_idx=subj_names, rt_col='rt', reference='average', \n",
    "#                         lower_limit_RT=.2, low_pass=50, offset_after_resp=0.05).to_netcdf(data_path+'Data_t1_250Hz.nc')"
   ]
  },
  {
   "cell_type": "code",
   "execution_count": 4,
   "id": "571fb14b",
   "metadata": {},
   "outputs": [],
   "source": [
    "epoch_data.to_netcdf(DATA_PATH / 'prp/data_t1_250hz.nc')"
   ]
  },
  {
   "cell_type": "markdown",
   "id": "4db767cc",
   "metadata": {},
   "source": [
    "### Task 2"
   ]
  },
  {
   "cell_type": "code",
   "execution_count": 5,
   "id": "4721698f",
   "metadata": {},
   "outputs": [],
   "source": [
    "sfreq = 250  # For resampling\n",
    "\n",
    "eeg_path = DATA_PATH / \"prp/epoched\"\n",
    "subj_names = [\n",
    "    x.split(\"_\")[0].split(\"-\")[0] for x in os.listdir(eeg_path) if \"t2\" in x\n",
    "] \n",
    "subj_names = [subj for subj in subj_names if subj not in [\"VP6\", \"VP7\"]]\n",
    "subj_names.sort()\n",
    "\n",
    "subj_files = [str(eeg_path) + \"/\" + x + \"-t2-epo.fif\" for x in subj_names]"
   ]
  },
  {
   "cell_type": "code",
   "execution_count": 6,
   "id": "a865aaa4",
   "metadata": {},
   "outputs": [
    {
     "name": "stdout",
     "output_type": "stream",
     "text": [
      "Processing participant /workspace/data_local/prp/epoched/VP1-t2-epo.fif's epoched eeg\n"
     ]
    },
    {
     "name": "stderr",
     "output_type": "stream",
     "text": [
      "/workspace/hmp/hmp/utils.py:254: RuntimeWarning: filter_length (1691) is longer than the signal (1153), distortion is likely. Reduce filter length or filter a longer signal.\n",
      "  epochs.filter(high_pass, low_pass, fir_design='firwin', verbose=verbose)\n"
     ]
    },
    {
     "name": "stdout",
     "output_type": "stream",
     "text": [
      "EEG channel type selected for re-referencing\n",
      "Applying average reference.\n",
      "Applying a custom ('EEG',) reference.\n",
      "733 trials were retained for participant /workspace/data_local/prp/epoched/VP1-t2-epo.fif\n",
      "Processing participant /workspace/data_local/prp/epoched/VP10-t2-epo.fif's epoched eeg\n"
     ]
    },
    {
     "name": "stderr",
     "output_type": "stream",
     "text": [
      "/workspace/hmp/hmp/utils.py:254: RuntimeWarning: filter_length (1691) is longer than the signal (1153), distortion is likely. Reduce filter length or filter a longer signal.\n",
      "  epochs.filter(high_pass, low_pass, fir_design='firwin', verbose=verbose)\n"
     ]
    },
    {
     "name": "stdout",
     "output_type": "stream",
     "text": [
      "EEG channel type selected for re-referencing\n",
      "Applying average reference.\n",
      "Applying a custom ('EEG',) reference.\n",
      "1209 trials were retained for participant /workspace/data_local/prp/epoched/VP10-t2-epo.fif\n",
      "Processing participant /workspace/data_local/prp/epoched/VP11-t2-epo.fif's epoched eeg\n"
     ]
    },
    {
     "name": "stderr",
     "output_type": "stream",
     "text": [
      "/workspace/hmp/hmp/utils.py:254: RuntimeWarning: filter_length (1691) is longer than the signal (1153), distortion is likely. Reduce filter length or filter a longer signal.\n",
      "  epochs.filter(high_pass, low_pass, fir_design='firwin', verbose=verbose)\n"
     ]
    },
    {
     "name": "stdout",
     "output_type": "stream",
     "text": [
      "EEG channel type selected for re-referencing\n",
      "Applying average reference.\n",
      "Applying a custom ('EEG',) reference.\n",
      "1159 trials were retained for participant /workspace/data_local/prp/epoched/VP11-t2-epo.fif\n",
      "Processing participant /workspace/data_local/prp/epoched/VP12-t2-epo.fif's epoched eeg\n"
     ]
    },
    {
     "name": "stderr",
     "output_type": "stream",
     "text": [
      "/workspace/hmp/hmp/utils.py:254: RuntimeWarning: filter_length (1691) is longer than the signal (1153), distortion is likely. Reduce filter length or filter a longer signal.\n",
      "  epochs.filter(high_pass, low_pass, fir_design='firwin', verbose=verbose)\n"
     ]
    },
    {
     "name": "stdout",
     "output_type": "stream",
     "text": [
      "EEG channel type selected for re-referencing\n",
      "Applying average reference.\n",
      "Applying a custom ('EEG',) reference.\n",
      "610 trials were retained for participant /workspace/data_local/prp/epoched/VP12-t2-epo.fif\n",
      "Processing participant /workspace/data_local/prp/epoched/VP13-t2-epo.fif's epoched eeg\n"
     ]
    },
    {
     "name": "stderr",
     "output_type": "stream",
     "text": [
      "/workspace/hmp/hmp/utils.py:254: RuntimeWarning: filter_length (1691) is longer than the signal (1153), distortion is likely. Reduce filter length or filter a longer signal.\n",
      "  epochs.filter(high_pass, low_pass, fir_design='firwin', verbose=verbose)\n"
     ]
    },
    {
     "name": "stdout",
     "output_type": "stream",
     "text": [
      "EEG channel type selected for re-referencing\n",
      "Applying average reference.\n",
      "Applying a custom ('EEG',) reference.\n",
      "1012 trials were retained for participant /workspace/data_local/prp/epoched/VP13-t2-epo.fif\n",
      "Processing participant /workspace/data_local/prp/epoched/VP14-t2-epo.fif's epoched eeg\n"
     ]
    },
    {
     "name": "stderr",
     "output_type": "stream",
     "text": [
      "/workspace/hmp/hmp/utils.py:254: RuntimeWarning: filter_length (1691) is longer than the signal (1153), distortion is likely. Reduce filter length or filter a longer signal.\n",
      "  epochs.filter(high_pass, low_pass, fir_design='firwin', verbose=verbose)\n"
     ]
    },
    {
     "name": "stdout",
     "output_type": "stream",
     "text": [
      "EEG channel type selected for re-referencing\n",
      "Applying average reference.\n",
      "Applying a custom ('EEG',) reference.\n",
      "1221 trials were retained for participant /workspace/data_local/prp/epoched/VP14-t2-epo.fif\n",
      "Processing participant /workspace/data_local/prp/epoched/VP15-t2-epo.fif's epoched eeg\n"
     ]
    },
    {
     "name": "stderr",
     "output_type": "stream",
     "text": [
      "/workspace/hmp/hmp/utils.py:254: RuntimeWarning: filter_length (1691) is longer than the signal (1153), distortion is likely. Reduce filter length or filter a longer signal.\n",
      "  epochs.filter(high_pass, low_pass, fir_design='firwin', verbose=verbose)\n"
     ]
    },
    {
     "name": "stdout",
     "output_type": "stream",
     "text": [
      "EEG channel type selected for re-referencing\n",
      "Applying average reference.\n",
      "Applying a custom ('EEG',) reference.\n",
      "1234 trials were retained for participant /workspace/data_local/prp/epoched/VP15-t2-epo.fif\n",
      "Processing participant /workspace/data_local/prp/epoched/VP16-t2-epo.fif's epoched eeg\n"
     ]
    },
    {
     "name": "stderr",
     "output_type": "stream",
     "text": [
      "/workspace/hmp/hmp/utils.py:254: RuntimeWarning: filter_length (1691) is longer than the signal (1153), distortion is likely. Reduce filter length or filter a longer signal.\n",
      "  epochs.filter(high_pass, low_pass, fir_design='firwin', verbose=verbose)\n"
     ]
    },
    {
     "name": "stdout",
     "output_type": "stream",
     "text": [
      "EEG channel type selected for re-referencing\n",
      "Applying average reference.\n",
      "Applying a custom ('EEG',) reference.\n",
      "1252 trials were retained for participant /workspace/data_local/prp/epoched/VP16-t2-epo.fif\n",
      "Processing participant /workspace/data_local/prp/epoched/VP17-t2-epo.fif's epoched eeg\n"
     ]
    },
    {
     "name": "stderr",
     "output_type": "stream",
     "text": [
      "/workspace/hmp/hmp/utils.py:254: RuntimeWarning: filter_length (1691) is longer than the signal (1153), distortion is likely. Reduce filter length or filter a longer signal.\n",
      "  epochs.filter(high_pass, low_pass, fir_design='firwin', verbose=verbose)\n"
     ]
    },
    {
     "name": "stdout",
     "output_type": "stream",
     "text": [
      "EEG channel type selected for re-referencing\n",
      "Applying average reference.\n",
      "Applying a custom ('EEG',) reference.\n",
      "837 trials were retained for participant /workspace/data_local/prp/epoched/VP17-t2-epo.fif\n",
      "Processing participant /workspace/data_local/prp/epoched/VP18-t2-epo.fif's epoched eeg\n"
     ]
    },
    {
     "name": "stderr",
     "output_type": "stream",
     "text": [
      "/workspace/hmp/hmp/utils.py:254: RuntimeWarning: filter_length (1691) is longer than the signal (1153), distortion is likely. Reduce filter length or filter a longer signal.\n",
      "  epochs.filter(high_pass, low_pass, fir_design='firwin', verbose=verbose)\n"
     ]
    },
    {
     "name": "stdout",
     "output_type": "stream",
     "text": [
      "EEG channel type selected for re-referencing\n",
      "Applying average reference.\n",
      "Applying a custom ('EEG',) reference.\n",
      "1186 trials were retained for participant /workspace/data_local/prp/epoched/VP18-t2-epo.fif\n",
      "Processing participant /workspace/data_local/prp/epoched/VP19-t2-epo.fif's epoched eeg\n"
     ]
    },
    {
     "name": "stderr",
     "output_type": "stream",
     "text": [
      "/workspace/hmp/hmp/utils.py:254: RuntimeWarning: filter_length (1691) is longer than the signal (1153), distortion is likely. Reduce filter length or filter a longer signal.\n",
      "  epochs.filter(high_pass, low_pass, fir_design='firwin', verbose=verbose)\n"
     ]
    },
    {
     "name": "stdout",
     "output_type": "stream",
     "text": [
      "EEG channel type selected for re-referencing\n",
      "Applying average reference.\n",
      "Applying a custom ('EEG',) reference.\n",
      "1148 trials were retained for participant /workspace/data_local/prp/epoched/VP19-t2-epo.fif\n",
      "Processing participant /workspace/data_local/prp/epoched/VP2-t2-epo.fif's epoched eeg\n"
     ]
    },
    {
     "name": "stderr",
     "output_type": "stream",
     "text": [
      "/workspace/hmp/hmp/utils.py:254: RuntimeWarning: filter_length (1691) is longer than the signal (1153), distortion is likely. Reduce filter length or filter a longer signal.\n",
      "  epochs.filter(high_pass, low_pass, fir_design='firwin', verbose=verbose)\n"
     ]
    },
    {
     "name": "stdout",
     "output_type": "stream",
     "text": [
      "EEG channel type selected for re-referencing\n",
      "Applying average reference.\n",
      "Applying a custom ('EEG',) reference.\n",
      "1189 trials were retained for participant /workspace/data_local/prp/epoched/VP2-t2-epo.fif\n",
      "Processing participant /workspace/data_local/prp/epoched/VP20-t2-epo.fif's epoched eeg\n"
     ]
    },
    {
     "name": "stderr",
     "output_type": "stream",
     "text": [
      "/workspace/hmp/hmp/utils.py:254: RuntimeWarning: filter_length (1691) is longer than the signal (1153), distortion is likely. Reduce filter length or filter a longer signal.\n",
      "  epochs.filter(high_pass, low_pass, fir_design='firwin', verbose=verbose)\n"
     ]
    },
    {
     "name": "stdout",
     "output_type": "stream",
     "text": [
      "EEG channel type selected for re-referencing\n",
      "Applying average reference.\n",
      "Applying a custom ('EEG',) reference.\n",
      "1112 trials were retained for participant /workspace/data_local/prp/epoched/VP20-t2-epo.fif\n",
      "Processing participant /workspace/data_local/prp/epoched/VP21-t2-epo.fif's epoched eeg\n"
     ]
    },
    {
     "name": "stderr",
     "output_type": "stream",
     "text": [
      "/workspace/hmp/hmp/utils.py:254: RuntimeWarning: filter_length (1691) is longer than the signal (1153), distortion is likely. Reduce filter length or filter a longer signal.\n",
      "  epochs.filter(high_pass, low_pass, fir_design='firwin', verbose=verbose)\n"
     ]
    },
    {
     "name": "stdout",
     "output_type": "stream",
     "text": [
      "EEG channel type selected for re-referencing\n",
      "Applying average reference.\n",
      "Applying a custom ('EEG',) reference.\n",
      "1152 trials were retained for participant /workspace/data_local/prp/epoched/VP21-t2-epo.fif\n",
      "Processing participant /workspace/data_local/prp/epoched/VP22-t2-epo.fif's epoched eeg\n"
     ]
    },
    {
     "name": "stderr",
     "output_type": "stream",
     "text": [
      "/workspace/hmp/hmp/utils.py:254: RuntimeWarning: filter_length (1691) is longer than the signal (1153), distortion is likely. Reduce filter length or filter a longer signal.\n",
      "  epochs.filter(high_pass, low_pass, fir_design='firwin', verbose=verbose)\n"
     ]
    },
    {
     "name": "stdout",
     "output_type": "stream",
     "text": [
      "EEG channel type selected for re-referencing\n",
      "Applying average reference.\n",
      "Applying a custom ('EEG',) reference.\n",
      "1169 trials were retained for participant /workspace/data_local/prp/epoched/VP22-t2-epo.fif\n",
      "Processing participant /workspace/data_local/prp/epoched/VP23-t2-epo.fif's epoched eeg\n"
     ]
    },
    {
     "name": "stderr",
     "output_type": "stream",
     "text": [
      "/workspace/hmp/hmp/utils.py:254: RuntimeWarning: filter_length (1691) is longer than the signal (1153), distortion is likely. Reduce filter length or filter a longer signal.\n",
      "  epochs.filter(high_pass, low_pass, fir_design='firwin', verbose=verbose)\n"
     ]
    },
    {
     "name": "stdout",
     "output_type": "stream",
     "text": [
      "EEG channel type selected for re-referencing\n",
      "Applying average reference.\n",
      "Applying a custom ('EEG',) reference.\n",
      "1170 trials were retained for participant /workspace/data_local/prp/epoched/VP23-t2-epo.fif\n",
      "Processing participant /workspace/data_local/prp/epoched/VP24-t2-epo.fif's epoched eeg\n"
     ]
    },
    {
     "name": "stderr",
     "output_type": "stream",
     "text": [
      "/workspace/hmp/hmp/utils.py:254: RuntimeWarning: filter_length (1691) is longer than the signal (1153), distortion is likely. Reduce filter length or filter a longer signal.\n",
      "  epochs.filter(high_pass, low_pass, fir_design='firwin', verbose=verbose)\n"
     ]
    },
    {
     "name": "stdout",
     "output_type": "stream",
     "text": [
      "EEG channel type selected for re-referencing\n",
      "Applying average reference.\n",
      "Applying a custom ('EEG',) reference.\n",
      "1196 trials were retained for participant /workspace/data_local/prp/epoched/VP24-t2-epo.fif\n",
      "Processing participant /workspace/data_local/prp/epoched/VP3-t2-epo.fif's epoched eeg\n"
     ]
    },
    {
     "name": "stderr",
     "output_type": "stream",
     "text": [
      "/workspace/hmp/hmp/utils.py:254: RuntimeWarning: filter_length (1691) is longer than the signal (1153), distortion is likely. Reduce filter length or filter a longer signal.\n",
      "  epochs.filter(high_pass, low_pass, fir_design='firwin', verbose=verbose)\n"
     ]
    },
    {
     "name": "stdout",
     "output_type": "stream",
     "text": [
      "EEG channel type selected for re-referencing\n",
      "Applying average reference.\n",
      "Applying a custom ('EEG',) reference.\n",
      "1196 trials were retained for participant /workspace/data_local/prp/epoched/VP3-t2-epo.fif\n",
      "Processing participant /workspace/data_local/prp/epoched/VP5-t2-epo.fif's epoched eeg\n"
     ]
    },
    {
     "name": "stderr",
     "output_type": "stream",
     "text": [
      "/workspace/hmp/hmp/utils.py:254: RuntimeWarning: filter_length (1691) is longer than the signal (1153), distortion is likely. Reduce filter length or filter a longer signal.\n",
      "  epochs.filter(high_pass, low_pass, fir_design='firwin', verbose=verbose)\n"
     ]
    },
    {
     "name": "stdout",
     "output_type": "stream",
     "text": [
      "EEG channel type selected for re-referencing\n",
      "Applying average reference.\n",
      "Applying a custom ('EEG',) reference.\n",
      "1173 trials were retained for participant /workspace/data_local/prp/epoched/VP5-t2-epo.fif\n",
      "Processing participant /workspace/data_local/prp/epoched/VP8-t2-epo.fif's epoched eeg\n"
     ]
    },
    {
     "name": "stderr",
     "output_type": "stream",
     "text": [
      "/workspace/hmp/hmp/utils.py:254: RuntimeWarning: filter_length (1691) is longer than the signal (1153), distortion is likely. Reduce filter length or filter a longer signal.\n",
      "  epochs.filter(high_pass, low_pass, fir_design='firwin', verbose=verbose)\n"
     ]
    },
    {
     "name": "stdout",
     "output_type": "stream",
     "text": [
      "EEG channel type selected for re-referencing\n",
      "Applying average reference.\n",
      "Applying a custom ('EEG',) reference.\n",
      "1026 trials were retained for participant /workspace/data_local/prp/epoched/VP8-t2-epo.fif\n",
      "Processing participant /workspace/data_local/prp/epoched/VP9-t2-epo.fif's epoched eeg\n"
     ]
    },
    {
     "name": "stderr",
     "output_type": "stream",
     "text": [
      "/workspace/hmp/hmp/utils.py:254: RuntimeWarning: filter_length (1691) is longer than the signal (1153), distortion is likely. Reduce filter length or filter a longer signal.\n",
      "  epochs.filter(high_pass, low_pass, fir_design='firwin', verbose=verbose)\n"
     ]
    },
    {
     "name": "stdout",
     "output_type": "stream",
     "text": [
      "EEG channel type selected for re-referencing\n",
      "Applying average reference.\n",
      "Applying a custom ('EEG',) reference.\n",
      "1172 trials were retained for participant /workspace/data_local/prp/epoched/VP9-t2-epo.fif\n"
     ]
    }
   ],
   "source": [
    "epoch_data = hmp.utils.read_mne_data(\n",
    "    subj_files,\n",
    "    epoched=True,\n",
    "    sfreq=sfreq,\n",
    "    rt_col='rt',\n",
    "    scale=1,\n",
    "    lower_limit_RT=0.2,\n",
    "    # reject_threshold=1e-4,\n",
    "    high_pass=1,\n",
    "    low_pass=50,\n",
    "    reference='average',\n",
    "    verbose=False,\n",
    "    subj_idx=subj_names,\n",
    "    offset_after_resp=0.30,\n",
    "    offset_before_stim=0.25,\n",
    ")\n",
    "tmp_offset = epoch_data.offset\n",
    "# epoch_data = epoch_data.assign_attrs({'offset': 0, 'extra_offset': tmp_offset})\n",
    "epoch_data = epoch_data.assign_attrs({'offset': 12, 'extra_offset': tmp_offset - 12})"
   ]
  },
  {
   "cell_type": "code",
   "execution_count": 8,
   "id": "cd194207",
   "metadata": {},
   "outputs": [],
   "source": [
    "epoch_data.to_netcdf(DATA_PATH / 'prp/data_t2_250hz.nc')"
   ]
  }
 ],
 "metadata": {
  "kernelspec": {
   "display_name": "base",
   "language": "python",
   "name": "python3"
  },
  "language_info": {
   "codemirror_mode": {
    "name": "ipython",
    "version": 3
   },
   "file_extension": ".py",
   "mimetype": "text/x-python",
   "name": "python",
   "nbconvert_exporter": "python",
   "pygments_lexer": "ipython3",
   "version": "3.11.10"
  }
 },
 "nbformat": 4,
 "nbformat_minor": 5
}
